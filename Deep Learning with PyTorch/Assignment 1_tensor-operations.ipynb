{
 "cells": [
  {
   "cell_type": "markdown",
   "metadata": {
    "id": "Xr2EfOCSJVJ7"
   },
   "source": [
    "> ### Assignment Instructions (delete this cell before submission)\n",
    "> \n",
    "> The objective of this assignment is to develop a solid understanding of PyTorch tensors. In this assignment you will:\n",
    ">\n",
    "> 1. Pick 5 interesting functions related to PyTorch tensors by [reading the documentation](https://pytorch.org/docs/stable/torch.html), \n",
    "> 2. Edit this starter template notebook to illustrate their usage and publish your notebook to Jovian using `jovian.commit`. Make sure to add proper explanations too, not just code.\n",
    "> 3. Submit the link to your published notebook on Jovian here: https://jovian.ai/learn/deep-learning-with-pytorch-zero-to-gans/assignment/assignment-1-all-about-torch-tensor .\n",
    "> 4. (Optional) Write a blog post on [Medium](https://medium.com) to accompany and showcase your Jupyter notebook. [Embed cells from your notebook](https://medium.com/@aakashns/share-and-embed-jupyter-notebooks-online-with-jovian-ml-df709a03064e) wherever necessary.\n",
    "> 5. (Optional) [Share your work](https://jovian.ai/forum/t/pytorch-functions-and-tensor-operations/13790) with the community and exchange feedback with other participants\n",
    ">\n",
    ">\n",
    "> The recommended way to run this notebook is to click the \"Run\" button at the top of this page, and select \"Run on Colab\". Run `jovian.commit` regularly to save your progress.\n",
    "> \n",
    "> Try to give your notebook an interesting title e.g. \"All about PyTorch tensor operations\", \"5 PyTorch functions you didn't know you needed\", \"A beginner's guide to Autograd in PyToch\", \"Interesting ways to create PyTorch tensors\", \"Trigonometic functions in PyTorch\", \"How to use PyTorch tensors for Linear Algebra\" etc.\n",
    ">\n",
    "> **IMPORTANT NOTE**: Make sure to submit a Jovian notebook link e.g. https://jovian.ai/aakashns/01-tensor-operations . Colab links will not be accepted.\n",
    ">\n",
    "> Remove this cell containing instructions before making a submission or sharing your notebook, to make it more presentable.\n",
    ">\n",
    "\n"
   ]
  },
  {
   "cell_type": "markdown",
   "metadata": {
    "id": "ViddlO0QJVJ9"
   },
   "source": [
    "# Some Interesting Torch Functions\n",
    "\n",
    "An short introduction about PyTorch and about the chosen functions. \n",
    "\n",
    "- torch.rand\n",
    "- torch.full\n",
    "- torch.take\n",
    "- torch.unbind\n",
    "- torch.linspace\n",
    "\n",
    "Before we begin, let's install and import PyTorch"
   ]
  },
  {
   "cell_type": "code",
   "execution_count": 18,
   "metadata": {
    "executionInfo": {
     "elapsed": 5903,
     "status": "ok",
     "timestamp": 1621235685914,
     "user": {
      "displayName": "Anirban Saha",
      "photoUrl": "https://lh3.googleusercontent.com/a-/AOh14Gjyb92afz3EKbQ81YgXIXJ2xTvOb0I8CeT4KMiDTw=s64",
      "userId": "02348100453944470349"
     },
     "user_tz": -360
    },
    "id": "DY56HpoDJVJ9"
   },
   "outputs": [],
   "source": [
    "# Uncomment and run the appropriate command for your operating system, if required\n",
    "\n",
    "# Linux / Binder\n",
    "# !pip install numpy torch==1.7.0+cpu torchvision==0.8.1+cpu torchaudio==0.7.0 -f https://download.pytorch.org/whl/torch_stable.html\n",
    "\n",
    "# Windows\n",
    "# !pip install numpy torch==1.7.0+cpu torchvision==0.8.1+cpu torchaudio==0.7.0 -f https://download.pytorch.org/whl/torch_stable.html\n",
    "\n",
    "# MacOS\n",
    "# !pip install numpy torch torchvision torchaudio"
   ]
  },
  {
   "cell_type": "code",
   "execution_count": 19,
   "metadata": {
    "executionInfo": {
     "elapsed": 5896,
     "status": "ok",
     "timestamp": 1621235685914,
     "user": {
      "displayName": "Anirban Saha",
      "photoUrl": "https://lh3.googleusercontent.com/a-/AOh14Gjyb92afz3EKbQ81YgXIXJ2xTvOb0I8CeT4KMiDTw=s64",
      "userId": "02348100453944470349"
     },
     "user_tz": -360
    },
    "id": "j0qERN75JVJ-"
   },
   "outputs": [],
   "source": [
    "# Import torch and other required modules\n",
    "import torch"
   ]
  },
  {
   "cell_type": "markdown",
   "metadata": {
    "id": "M2H6E1tJJVJ_"
   },
   "source": [
    "## Function 1 - TORCH.RAND\n",
    "\n",
    "torch.rand(*size, *, out=None, dtype=None, layout=torch.strided, device=None, requires_grad=False) → Tensor\n",
    "\n",
    "Returns a tensor filled with random numbers from a uniform distribution on the interval [0, 1)[0,1)\n",
    "\n",
    "The shape of the tensor is defined by the variable argument size."
   ]
  },
  {
   "cell_type": "code",
   "execution_count": 20,
   "metadata": {
    "colab": {
     "base_uri": "https://localhost:8080/"
    },
    "executionInfo": {
     "elapsed": 5887,
     "status": "ok",
     "timestamp": 1621235685915,
     "user": {
      "displayName": "Anirban Saha",
      "photoUrl": "https://lh3.googleusercontent.com/a-/AOh14Gjyb92afz3EKbQ81YgXIXJ2xTvOb0I8CeT4KMiDTw=s64",
      "userId": "02348100453944470349"
     },
     "user_tz": -360
    },
    "id": "Mhv66pFGJVJ_",
    "outputId": "4ee66e7f-e0ab-43f6-f791-865fb195aa21"
   },
   "outputs": [
    {
     "data": {
      "text/plain": [
       "tensor([7.1481e-02, 4.4614e-01, 3.4332e-04, 8.4891e-01])"
      ]
     },
     "execution_count": 20,
     "metadata": {
      "tags": []
     },
     "output_type": "execute_result"
    }
   ],
   "source": [
    "# Example 1 - working (change this)\n",
    ">>> torch.rand(4)\n"
   ]
  },
  {
   "cell_type": "markdown",
   "metadata": {
    "id": "Ww2qPSV_JVKA"
   },
   "source": [
    "Explanation about example"
   ]
  },
  {
   "cell_type": "code",
   "execution_count": 23,
   "metadata": {
    "colab": {
     "base_uri": "https://localhost:8080/"
    },
    "executionInfo": {
     "elapsed": 1470,
     "status": "ok",
     "timestamp": 1621235707610,
     "user": {
      "displayName": "Anirban Saha",
      "photoUrl": "https://lh3.googleusercontent.com/a-/AOh14Gjyb92afz3EKbQ81YgXIXJ2xTvOb0I8CeT4KMiDTw=s64",
      "userId": "02348100453944470349"
     },
     "user_tz": -360
    },
    "id": "Lp0zE2eUJVKA",
    "outputId": "f97d414a-e90c-4659-b9ed-616c15a7c5ce"
   },
   "outputs": [
    {
     "data": {
      "text/plain": [
       "tensor([[0.3850, 0.8198, 0.5549],\n",
       "        [0.4637, 0.8893, 0.0723]])"
      ]
     },
     "execution_count": 23,
     "metadata": {
      "tags": []
     },
     "output_type": "execute_result"
    }
   ],
   "source": [
    "# Example 2 - working\n",
    "torch.rand(2, 3)"
   ]
  },
  {
   "cell_type": "markdown",
   "metadata": {
    "id": "nbXoL-kgJVKB"
   },
   "source": [
    "Explanation about example"
   ]
  },
  {
   "cell_type": "code",
   "execution_count": 24,
   "metadata": {
    "colab": {
     "base_uri": "https://localhost:8080/",
     "height": 184
    },
    "executionInfo": {
     "elapsed": 898,
     "status": "error",
     "timestamp": 1621235712020,
     "user": {
      "displayName": "Anirban Saha",
      "photoUrl": "https://lh3.googleusercontent.com/a-/AOh14Gjyb92afz3EKbQ81YgXIXJ2xTvOb0I8CeT4KMiDTw=s64",
      "userId": "02348100453944470349"
     },
     "user_tz": -360
    },
    "id": "MSkUy9fWJVKB",
    "outputId": "f0424509-a8c5-4b9d-911b-7c5c55689ed3"
   },
   "outputs": [
    {
     "ename": "TypeError",
     "evalue": "ignored",
     "output_type": "error",
     "traceback": [
      "\u001b[0;31m---------------------------------------------------------------------------\u001b[0m",
      "\u001b[0;31mTypeError\u001b[0m                                 Traceback (most recent call last)",
      "\u001b[0;32m<ipython-input-24-00c765518026>\u001b[0m in \u001b[0;36m<module>\u001b[0;34m()\u001b[0m\n\u001b[1;32m      1\u001b[0m \u001b[0;31m# Example 3 - breaking (to illustrate when it breaks)\u001b[0m\u001b[0;34m\u001b[0m\u001b[0;34m\u001b[0m\u001b[0;34m\u001b[0m\u001b[0m\n\u001b[0;32m----> 2\u001b[0;31m \u001b[0mtorch\u001b[0m\u001b[0;34m.\u001b[0m\u001b[0mrand\u001b[0m\u001b[0;34m[\u001b[0m\u001b[0;36m2\u001b[0m\u001b[0;34m,\u001b[0m \u001b[0;36m3\u001b[0m\u001b[0;34m]\u001b[0m\u001b[0;34m\u001b[0m\u001b[0;34m\u001b[0m\u001b[0m\n\u001b[0m",
      "\u001b[0;31mTypeError\u001b[0m: 'builtin_function_or_method' object is not subscriptable"
     ]
    }
   ],
   "source": [
    "# Example 3 - breaking (to illustrate when it breaks)\n",
    "torch.rand[2, 3]"
   ]
  },
  {
   "cell_type": "markdown",
   "metadata": {
    "id": "Z0MmGGKqJVKB"
   },
   "source": [
    "Explanation about example"
   ]
  },
  {
   "cell_type": "markdown",
   "metadata": {
    "id": "ZJOFsrmNJVKC"
   },
   "source": [
    "Closing comments about when to use this function"
   ]
  },
  {
   "cell_type": "markdown",
   "metadata": {
    "id": "PVOvFR1_JVKC"
   },
   "source": [
    "Let's save our work using Jovian before continuing."
   ]
  },
  {
   "cell_type": "code",
   "execution_count": 14,
   "metadata": {
    "executionInfo": {
     "elapsed": 4152,
     "status": "ok",
     "timestamp": 1621231631093,
     "user": {
      "displayName": "Anirban Saha",
      "photoUrl": "https://lh3.googleusercontent.com/a-/AOh14Gjyb92afz3EKbQ81YgXIXJ2xTvOb0I8CeT4KMiDTw=s64",
      "userId": "02348100453944470349"
     },
     "user_tz": -360
    },
    "id": "L15WeP4yJVKC"
   },
   "outputs": [],
   "source": [
    "!pip install jovian --upgrade --quiet"
   ]
  },
  {
   "cell_type": "code",
   "execution_count": 15,
   "metadata": {
    "executionInfo": {
     "elapsed": 892,
     "status": "ok",
     "timestamp": 1621231634361,
     "user": {
      "displayName": "Anirban Saha",
      "photoUrl": "https://lh3.googleusercontent.com/a-/AOh14Gjyb92afz3EKbQ81YgXIXJ2xTvOb0I8CeT4KMiDTw=s64",
      "userId": "02348100453944470349"
     },
     "user_tz": -360
    },
    "id": "b13KAU7zJVKD"
   },
   "outputs": [],
   "source": [
    "import jovian"
   ]
  },
  {
   "cell_type": "code",
   "execution_count": 16,
   "metadata": {
    "colab": {
     "base_uri": "https://localhost:8080/",
     "height": 138
    },
    "executionInfo": {
     "elapsed": 51504,
     "status": "ok",
     "timestamp": 1621231688166,
     "user": {
      "displayName": "Anirban Saha",
      "photoUrl": "https://lh3.googleusercontent.com/a-/AOh14Gjyb92afz3EKbQ81YgXIXJ2xTvOb0I8CeT4KMiDTw=s64",
      "userId": "02348100453944470349"
     },
     "user_tz": -360
    },
    "id": "svp_KINbJVKD",
    "outputId": "a230a848-e8f1-4202-fdd0-efcaab064643"
   },
   "outputs": [
    {
     "name": "stdout",
     "output_type": "stream",
     "text": [
      "[jovian] Detected Colab notebook...\u001b[0m\n",
      "[jovian] Please enter your API key ( from https://jovian.ai/ ):\u001b[0m\n",
      "API KEY: ··········\n",
      "[jovian] Uploading colab notebook to Jovian...\u001b[0m\n",
      "[jovian] Capturing environment..\u001b[0m\n",
      "[jovian] Committed successfully! https://jovian.ai/anirbansaha/01-tensor-operations\u001b[0m\n"
     ]
    },
    {
     "data": {
      "application/vnd.google.colaboratory.intrinsic+json": {
       "type": "string"
      },
      "text/plain": [
       "'https://jovian.ai/anirbansaha/01-tensor-operations'"
      ]
     },
     "execution_count": 16,
     "metadata": {
      "tags": []
     },
     "output_type": "execute_result"
    }
   ],
   "source": [
    "jovian.commit(project='01-tensor-operations')"
   ]
  },
  {
   "cell_type": "markdown",
   "metadata": {
    "id": "MGWKOZYPJVKE"
   },
   "source": [
    "## Function 2 -  torch.full\n",
    "`torch.full` returns a tensor of size size with the values filled with `fill_value`\n",
    "The size can be a list or a tuple.\n",
    "\n",
    "\n",
    "\n",
    "\n"
   ]
  },
  {
   "cell_type": "code",
   "execution_count": 25,
   "metadata": {
    "colab": {
     "base_uri": "https://localhost:8080/"
    },
    "executionInfo": {
     "elapsed": 907,
     "status": "ok",
     "timestamp": 1621235760383,
     "user": {
      "displayName": "Anirban Saha",
      "photoUrl": "https://lh3.googleusercontent.com/a-/AOh14Gjyb92afz3EKbQ81YgXIXJ2xTvOb0I8CeT4KMiDTw=s64",
      "userId": "02348100453944470349"
     },
     "user_tz": -360
    },
    "id": "itzkUOU3JVKE",
    "outputId": "892aec36-527c-4eb4-aba4-2e45c42be0f2"
   },
   "outputs": [
    {
     "data": {
      "text/plain": [
       "tensor([[10, 10],\n",
       "        [10, 10],\n",
       "        [10, 10]])"
      ]
     },
     "execution_count": 25,
     "metadata": {
      "tags": []
     },
     "output_type": "execute_result"
    }
   ],
   "source": [
    "# Example 1 - working\n",
    "torch.full(size=(3,2), fill_value=10)"
   ]
  },
  {
   "cell_type": "markdown",
   "metadata": {
    "id": "1tTOOsIEJVKE"
   },
   "source": [
    "Explanation about example"
   ]
  },
  {
   "cell_type": "code",
   "execution_count": 26,
   "metadata": {
    "colab": {
     "base_uri": "https://localhost:8080/"
    },
    "executionInfo": {
     "elapsed": 900,
     "status": "ok",
     "timestamp": 1621235772898,
     "user": {
      "displayName": "Anirban Saha",
      "photoUrl": "https://lh3.googleusercontent.com/a-/AOh14Gjyb92afz3EKbQ81YgXIXJ2xTvOb0I8CeT4KMiDTw=s64",
      "userId": "02348100453944470349"
     },
     "user_tz": -360
    },
    "id": "Jyn3GN2GJVKE",
    "outputId": "8fbc084d-fc29-4309-a083-279ce6159e23"
   },
   "outputs": [
    {
     "data": {
      "text/plain": [
       "tensor([[[5, 5, 5, 5],\n",
       "         [5, 5, 5, 5],\n",
       "         [5, 5, 5, 5]],\n",
       "\n",
       "        [[5, 5, 5, 5],\n",
       "         [5, 5, 5, 5],\n",
       "         [5, 5, 5, 5]]])"
      ]
     },
     "execution_count": 26,
     "metadata": {
      "tags": []
     },
     "output_type": "execute_result"
    }
   ],
   "source": [
    "# Example 2 - working\n",
    "torch.full(size=[2, 3, 4], fill_value=5)"
   ]
  },
  {
   "cell_type": "markdown",
   "metadata": {
    "id": "vm1gBBlRJVKF"
   },
   "source": [
    "Explanation about example"
   ]
  },
  {
   "cell_type": "code",
   "execution_count": 28,
   "metadata": {
    "colab": {
     "base_uri": "https://localhost:8080/",
     "height": 253
    },
    "executionInfo": {
     "elapsed": 979,
     "status": "error",
     "timestamp": 1621235902097,
     "user": {
      "displayName": "Anirban Saha",
      "photoUrl": "https://lh3.googleusercontent.com/a-/AOh14Gjyb92afz3EKbQ81YgXIXJ2xTvOb0I8CeT4KMiDTw=s64",
      "userId": "02348100453944470349"
     },
     "user_tz": -360
    },
    "id": "Q4psQGKPJVKF",
    "outputId": "464846db-d18d-4d61-dbe0-6f020eaa481a"
   },
   "outputs": [
    {
     "ename": "TypeError",
     "evalue": "ignored",
     "output_type": "error",
     "traceback": [
      "\u001b[0;31m---------------------------------------------------------------------------\u001b[0m",
      "\u001b[0;31mTypeError\u001b[0m                                 Traceback (most recent call last)",
      "\u001b[0;32m<ipython-input-28-0b732a96a9c2>\u001b[0m in \u001b[0;36m<module>\u001b[0;34m()\u001b[0m\n\u001b[1;32m      1\u001b[0m \u001b[0;31m# Example 3 - breaking (to illustrate when it breaks)\u001b[0m\u001b[0;34m\u001b[0m\u001b[0;34m\u001b[0m\u001b[0;34m\u001b[0m\u001b[0m\n\u001b[0;32m----> 2\u001b[0;31m \u001b[0mtorch\u001b[0m\u001b[0;34m.\u001b[0m\u001b[0mfull\u001b[0m\u001b[0;34m(\u001b[0m\u001b[0msize\u001b[0m\u001b[0;34m=\u001b[0m\u001b[0;34m[\u001b[0m\u001b[0;36m2\u001b[0m\u001b[0;34m,\u001b[0m \u001b[0;36m3\u001b[0m\u001b[0;34m,\u001b[0m \u001b[0;36m4\u001b[0m\u001b[0;34m]\u001b[0m\u001b[0;34m,\u001b[0m \u001b[0mfill_value\u001b[0m\u001b[0;34m=\u001b[0m\u001b[0;34m[\u001b[0m\u001b[0;36m5\u001b[0m\u001b[0;34m,\u001b[0m\u001b[0;36m2\u001b[0m\u001b[0;34m]\u001b[0m\u001b[0;34m)\u001b[0m\u001b[0;34m\u001b[0m\u001b[0;34m\u001b[0m\u001b[0m\n\u001b[0m",
      "\u001b[0;31mTypeError\u001b[0m: full() received an invalid combination of arguments - got (fill_value=list, size=list, ), but expected one of:\n * (tuple of ints size, Number fill_value, *, Tensor out, torch.dtype dtype, torch.layout layout, torch.device device, bool pin_memory, bool requires_grad)\n * (tuple of ints size, Number fill_value, *, tuple of names names, torch.dtype dtype, torch.layout layout, torch.device device, bool pin_memory, bool requires_grad)\n"
     ]
    }
   ],
   "source": [
    "# Example 3 - breaking (to illustrate when it breaks)\n",
    "torch.full(size=[2, 3, 4], fill_value=[5,2])"
   ]
  },
  {
   "cell_type": "markdown",
   "metadata": {
    "id": "uyk6FFFKJVKF"
   },
   "source": [
    "Explanation about example"
   ]
  },
  {
   "cell_type": "markdown",
   "metadata": {
    "id": "UIY0xptRJVKF"
   },
   "source": [
    "Closing comments about when to use this function"
   ]
  },
  {
   "cell_type": "code",
   "execution_count": 29,
   "metadata": {
    "colab": {
     "base_uri": "https://localhost:8080/",
     "height": 104
    },
    "executionInfo": {
     "elapsed": 4120,
     "status": "ok",
     "timestamp": 1621235914975,
     "user": {
      "displayName": "Anirban Saha",
      "photoUrl": "https://lh3.googleusercontent.com/a-/AOh14Gjyb92afz3EKbQ81YgXIXJ2xTvOb0I8CeT4KMiDTw=s64",
      "userId": "02348100453944470349"
     },
     "user_tz": -360
    },
    "id": "cYQS2XygJVKF",
    "outputId": "899fec3a-2fe3-4922-880a-cdde397cfcdc"
   },
   "outputs": [
    {
     "name": "stdout",
     "output_type": "stream",
     "text": [
      "[jovian] Detected Colab notebook...\u001b[0m\n",
      "[jovian] Uploading colab notebook to Jovian...\u001b[0m\n",
      "[jovian] Capturing environment..\u001b[0m\n",
      "[jovian] Committed successfully! https://jovian.ai/anirbansaha/01-tensor-operations\u001b[0m\n"
     ]
    },
    {
     "data": {
      "application/vnd.google.colaboratory.intrinsic+json": {
       "type": "string"
      },
      "text/plain": [
       "'https://jovian.ai/anirbansaha/01-tensor-operations'"
      ]
     },
     "execution_count": 29,
     "metadata": {
      "tags": []
     },
     "output_type": "execute_result"
    }
   ],
   "source": [
    "jovian.commit(project='01-tensor-operations')"
   ]
  },
  {
   "cell_type": "markdown",
   "metadata": {
    "id": "0nY86C35JVKG"
   },
   "source": [
    "## Function 3 - torch.take\n",
    "`torch.take` returns a tensor with the elements of the input tensors at the given indices. The input tensor is treated as a 1D tensor to return the values.\n",
    "\n"
   ]
  },
  {
   "cell_type": "code",
   "execution_count": 30,
   "metadata": {
    "colab": {
     "base_uri": "https://localhost:8080/"
    },
    "executionInfo": {
     "elapsed": 1154,
     "status": "ok",
     "timestamp": 1621236158138,
     "user": {
      "displayName": "Anirban Saha",
      "photoUrl": "https://lh3.googleusercontent.com/a-/AOh14Gjyb92afz3EKbQ81YgXIXJ2xTvOb0I8CeT4KMiDTw=s64",
      "userId": "02348100453944470349"
     },
     "user_tz": -360
    },
    "id": "pFKsTDUuJVKG",
    "outputId": "b78ce6c3-5830-435a-bf83-ccd12bc68cd5"
   },
   "outputs": [
    {
     "data": {
      "text/plain": [
       "tensor([55])"
      ]
     },
     "execution_count": 30,
     "metadata": {
      "tags": []
     },
     "output_type": "execute_result"
    }
   ],
   "source": [
    "# Example 1 - working\n",
    "# 1D input Tensor\n",
    "b = torch.tensor([24, 26, 55, 78, 10])\n",
    "torch.take(b, torch.tensor([2]))"
   ]
  },
  {
   "cell_type": "markdown",
   "metadata": {
    "id": "lhsX5k4AJVKG"
   },
   "source": [
    "Explanation about example"
   ]
  },
  {
   "cell_type": "code",
   "execution_count": 32,
   "metadata": {
    "colab": {
     "base_uri": "https://localhost:8080/"
    },
    "executionInfo": {
     "elapsed": 997,
     "status": "ok",
     "timestamp": 1621236193854,
     "user": {
      "displayName": "Anirban Saha",
      "photoUrl": "https://lh3.googleusercontent.com/a-/AOh14Gjyb92afz3EKbQ81YgXIXJ2xTvOb0I8CeT4KMiDTw=s64",
      "userId": "02348100453944470349"
     },
     "user_tz": -360
    },
    "id": "s3LddjFiJVKH",
    "outputId": "2f80b715-6bc0-4056-ed58-59db45a97e5b"
   },
   "outputs": [
    {
     "data": {
      "text/plain": [
       "tensor([4, 5])"
      ]
     },
     "execution_count": 32,
     "metadata": {
      "tags": []
     },
     "output_type": "execute_result"
    }
   ],
   "source": [
    "# Example 2 - working\n",
    "# 2D input tensor\n",
    "a = torch.tensor([[1, 2, 3],\n",
    "                  [4, 5, 6]])\n",
    "torch.take(a, torch.tensor([3,4]))"
   ]
  },
  {
   "cell_type": "markdown",
   "metadata": {
    "id": "X1DW7nEVJVKH"
   },
   "source": [
    "Explanation about example"
   ]
  },
  {
   "cell_type": "code",
   "execution_count": 35,
   "metadata": {
    "colab": {
     "base_uri": "https://localhost:8080/",
     "height": 201
    },
    "executionInfo": {
     "elapsed": 907,
     "status": "error",
     "timestamp": 1621236273072,
     "user": {
      "displayName": "Anirban Saha",
      "photoUrl": "https://lh3.googleusercontent.com/a-/AOh14Gjyb92afz3EKbQ81YgXIXJ2xTvOb0I8CeT4KMiDTw=s64",
      "userId": "02348100453944470349"
     },
     "user_tz": -360
    },
    "id": "UXj03SQdJVKH",
    "outputId": "3ae366a8-b8d7-476d-d020-ecda826739d3"
   },
   "outputs": [
    {
     "ename": "TypeError",
     "evalue": "ignored",
     "output_type": "error",
     "traceback": [
      "\u001b[0;31m---------------------------------------------------------------------------\u001b[0m",
      "\u001b[0;31mTypeError\u001b[0m                                 Traceback (most recent call last)",
      "\u001b[0;32m<ipython-input-35-b9620c0b4660>\u001b[0m in \u001b[0;36m<module>\u001b[0;34m()\u001b[0m\n\u001b[1;32m      2\u001b[0m a = torch.tensor([[1, 2, 3],\n\u001b[1;32m      3\u001b[0m                   [4, 5, 6]])\n\u001b[0;32m----> 4\u001b[0;31m \u001b[0mtorch\u001b[0m\u001b[0;34m.\u001b[0m\u001b[0mtake\u001b[0m\u001b[0;34m(\u001b[0m\u001b[0ma\u001b[0m\u001b[0;34m,\u001b[0m \u001b[0mtorch\u001b[0m\u001b[0;34m.\u001b[0m\u001b[0mtensor\u001b[0m\u001b[0;34m(\u001b[0m\u001b[0;36m3\u001b[0m\u001b[0;34m,\u001b[0m\u001b[0;36m1\u001b[0m\u001b[0;34m)\u001b[0m\u001b[0;34m)\u001b[0m\u001b[0;34m\u001b[0m\u001b[0;34m\u001b[0m\u001b[0m\n\u001b[0m",
      "\u001b[0;31mTypeError\u001b[0m: tensor() takes 1 positional argument but 2 were given"
     ]
    }
   ],
   "source": [
    "# Example 3 - breaking (to illustrate when it breaks)\n",
    "a = torch.tensor([[1, 2, 3],\n",
    "                  [4, 5, 6]])\n",
    "torch.take(a, torch.tensor(3,1))"
   ]
  },
  {
   "cell_type": "markdown",
   "metadata": {
    "id": "h8_Ux3W_JVKI"
   },
   "source": [
    "Explanation about example"
   ]
  },
  {
   "cell_type": "markdown",
   "metadata": {
    "id": "u5h0VXRgJVKI"
   },
   "source": [
    "Closing comments about when to use this function"
   ]
  },
  {
   "cell_type": "code",
   "execution_count": 36,
   "metadata": {
    "colab": {
     "base_uri": "https://localhost:8080/",
     "height": 104
    },
    "executionInfo": {
     "elapsed": 4622,
     "status": "ok",
     "timestamp": 1621236282073,
     "user": {
      "displayName": "Anirban Saha",
      "photoUrl": "https://lh3.googleusercontent.com/a-/AOh14Gjyb92afz3EKbQ81YgXIXJ2xTvOb0I8CeT4KMiDTw=s64",
      "userId": "02348100453944470349"
     },
     "user_tz": -360
    },
    "id": "lhSaV1sAJVKI",
    "outputId": "fbfc0c6f-f9af-4d13-8ce4-0cbb5e0f89ed"
   },
   "outputs": [
    {
     "name": "stdout",
     "output_type": "stream",
     "text": [
      "[jovian] Detected Colab notebook...\u001b[0m\n",
      "[jovian] Uploading colab notebook to Jovian...\u001b[0m\n",
      "[jovian] Capturing environment..\u001b[0m\n",
      "[jovian] Committed successfully! https://jovian.ai/anirbansaha/01-tensor-operations\u001b[0m\n"
     ]
    },
    {
     "data": {
      "application/vnd.google.colaboratory.intrinsic+json": {
       "type": "string"
      },
      "text/plain": [
       "'https://jovian.ai/anirbansaha/01-tensor-operations'"
      ]
     },
     "execution_count": 36,
     "metadata": {
      "tags": []
     },
     "output_type": "execute_result"
    }
   ],
   "source": [
    "jovian.commit(project='01-tensor-operations')"
   ]
  },
  {
   "cell_type": "markdown",
   "metadata": {
    "id": "YC99_UEnJVKI"
   },
   "source": [
    "## Function 4 - torch.unbind\n",
    "\n",
    "`torch.unbind` removes a tensor dimension along the given dimension dim\n",
    "The default dimension is 0 i.e. dim=0"
   ]
  },
  {
   "cell_type": "code",
   "execution_count": 37,
   "metadata": {
    "colab": {
     "base_uri": "https://localhost:8080/"
    },
    "executionInfo": {
     "elapsed": 881,
     "status": "ok",
     "timestamp": 1621236331201,
     "user": {
      "displayName": "Anirban Saha",
      "photoUrl": "https://lh3.googleusercontent.com/a-/AOh14Gjyb92afz3EKbQ81YgXIXJ2xTvOb0I8CeT4KMiDTw=s64",
      "userId": "02348100453944470349"
     },
     "user_tz": -360
    },
    "id": "5Sr4LJ7GJVKJ",
    "outputId": "63b9bc28-4b20-47c8-be28-822110240b41"
   },
   "outputs": [
    {
     "data": {
      "text/plain": [
       "(tensor([1, 2, 3]), tensor([4, 5, 6]))"
      ]
     },
     "execution_count": 37,
     "metadata": {
      "tags": []
     },
     "output_type": "execute_result"
    }
   ],
   "source": [
    "# Example 1 - working\n",
    "a = torch.tensor([[1, 2, 3],\n",
    "                  [4, 5, 6]])\n",
    "torch.unbind(a)"
   ]
  },
  {
   "cell_type": "markdown",
   "metadata": {
    "id": "2zr956EqJVKJ"
   },
   "source": [
    "Explanation about example"
   ]
  },
  {
   "cell_type": "code",
   "execution_count": 38,
   "metadata": {
    "colab": {
     "base_uri": "https://localhost:8080/"
    },
    "executionInfo": {
     "elapsed": 894,
     "status": "ok",
     "timestamp": 1621236347900,
     "user": {
      "displayName": "Anirban Saha",
      "photoUrl": "https://lh3.googleusercontent.com/a-/AOh14Gjyb92afz3EKbQ81YgXIXJ2xTvOb0I8CeT4KMiDTw=s64",
      "userId": "02348100453944470349"
     },
     "user_tz": -360
    },
    "id": "yQK62o0bJVKJ",
    "outputId": "fc5cdfb4-2632-409b-dba2-7874e314db11"
   },
   "outputs": [
    {
     "data": {
      "text/plain": [
       "(tensor([1, 4]), tensor([2, 5]), tensor([3, 6]))"
      ]
     },
     "execution_count": 38,
     "metadata": {
      "tags": []
     },
     "output_type": "execute_result"
    }
   ],
   "source": [
    "# Example 2 - working\n",
    "a = torch.tensor([[1, 2, 3],\n",
    "                  [4, 5, 6]])\n",
    "torch.unbind(a, dim=1)"
   ]
  },
  {
   "cell_type": "markdown",
   "metadata": {
    "id": "CIjaeAnIJVKJ"
   },
   "source": [
    "Explanation about example"
   ]
  },
  {
   "cell_type": "code",
   "execution_count": 39,
   "metadata": {
    "colab": {
     "base_uri": "https://localhost:8080/",
     "height": 201
    },
    "executionInfo": {
     "elapsed": 914,
     "status": "error",
     "timestamp": 1621236382565,
     "user": {
      "displayName": "Anirban Saha",
      "photoUrl": "https://lh3.googleusercontent.com/a-/AOh14Gjyb92afz3EKbQ81YgXIXJ2xTvOb0I8CeT4KMiDTw=s64",
      "userId": "02348100453944470349"
     },
     "user_tz": -360
    },
    "id": "_hxblJczJVKK",
    "outputId": "159f916c-9e08-4e1a-c7ff-844b1fb0eaeb"
   },
   "outputs": [
    {
     "ename": "IndexError",
     "evalue": "ignored",
     "output_type": "error",
     "traceback": [
      "\u001b[0;31m---------------------------------------------------------------------------\u001b[0m",
      "\u001b[0;31mIndexError\u001b[0m                                Traceback (most recent call last)",
      "\u001b[0;32m<ipython-input-39-9092eb578d7f>\u001b[0m in \u001b[0;36m<module>\u001b[0;34m()\u001b[0m\n\u001b[1;32m      2\u001b[0m a = torch.tensor([[1, 2, 3],\n\u001b[1;32m      3\u001b[0m                   [4, 5, 6]])\n\u001b[0;32m----> 4\u001b[0;31m \u001b[0mtorch\u001b[0m\u001b[0;34m.\u001b[0m\u001b[0munbind\u001b[0m\u001b[0;34m(\u001b[0m\u001b[0ma\u001b[0m\u001b[0;34m,\u001b[0m \u001b[0mdim\u001b[0m\u001b[0;34m=\u001b[0m\u001b[0;36m2\u001b[0m\u001b[0;34m)\u001b[0m\u001b[0;34m\u001b[0m\u001b[0;34m\u001b[0m\u001b[0m\n\u001b[0m",
      "\u001b[0;31mIndexError\u001b[0m: Dimension out of range (expected to be in range of [-2, 1], but got 2)"
     ]
    }
   ],
   "source": [
    "# Example 3 - breaking (to illustrate when it breaks)\n",
    "a = torch.tensor([[1, 2, 3],\n",
    "                  [4, 5, 6]])\n",
    "torch.unbind(a, dim=2)"
   ]
  },
  {
   "cell_type": "markdown",
   "metadata": {
    "id": "FP08yByBJVKK"
   },
   "source": [
    "Explanation about example"
   ]
  },
  {
   "cell_type": "markdown",
   "metadata": {
    "id": "83j2AO2zJVKK"
   },
   "source": [
    "Closing comments about when to use this function"
   ]
  },
  {
   "cell_type": "code",
   "execution_count": 40,
   "metadata": {
    "colab": {
     "base_uri": "https://localhost:8080/",
     "height": 104
    },
    "executionInfo": {
     "elapsed": 3681,
     "status": "ok",
     "timestamp": 1621236390151,
     "user": {
      "displayName": "Anirban Saha",
      "photoUrl": "https://lh3.googleusercontent.com/a-/AOh14Gjyb92afz3EKbQ81YgXIXJ2xTvOb0I8CeT4KMiDTw=s64",
      "userId": "02348100453944470349"
     },
     "user_tz": -360
    },
    "id": "nKRT0WvCJVKK",
    "outputId": "4133945b-8953-4881-bda7-aea6e02e39e4"
   },
   "outputs": [
    {
     "name": "stdout",
     "output_type": "stream",
     "text": [
      "[jovian] Detected Colab notebook...\u001b[0m\n",
      "[jovian] Uploading colab notebook to Jovian...\u001b[0m\n",
      "[jovian] Capturing environment..\u001b[0m\n",
      "[jovian] Committed successfully! https://jovian.ai/anirbansaha/01-tensor-operations\u001b[0m\n"
     ]
    },
    {
     "data": {
      "application/vnd.google.colaboratory.intrinsic+json": {
       "type": "string"
      },
      "text/plain": [
       "'https://jovian.ai/anirbansaha/01-tensor-operations'"
      ]
     },
     "execution_count": 40,
     "metadata": {
      "tags": []
     },
     "output_type": "execute_result"
    }
   ],
   "source": [
    "jovian.commit(project='01-tensor-operations')"
   ]
  },
  {
   "cell_type": "markdown",
   "metadata": {
    "id": "ycMaFqkAJVKL"
   },
   "source": [
    "## Function 5 - torch.linspace\n",
    "\n",
    "`torch.linspace` is used to create a 1D equally spaced tensor between the values start and end . We can specify the size of the tensor with the steps parameters. The default is steps=100"
   ]
  },
  {
   "cell_type": "code",
   "execution_count": 46,
   "metadata": {
    "colab": {
     "base_uri": "https://localhost:8080/"
    },
    "executionInfo": {
     "elapsed": 912,
     "status": "ok",
     "timestamp": 1621236746696,
     "user": {
      "displayName": "Anirban Saha",
      "photoUrl": "https://lh3.googleusercontent.com/a-/AOh14Gjyb92afz3EKbQ81YgXIXJ2xTvOb0I8CeT4KMiDTw=s64",
      "userId": "02348100453944470349"
     },
     "user_tz": -360
    },
    "id": "-jmpWzo4JVKL",
    "outputId": "a8882d3a-fadd-43c0-94ea-4607c234519d"
   },
   "outputs": [
    {
     "data": {
      "text/plain": [
       "tensor([ 1.0000,  1.4949,  1.9899,  2.4848,  2.9798,  3.4747,  3.9697,  4.4646,\n",
       "         4.9596,  5.4545,  5.9495,  6.4444,  6.9394,  7.4343,  7.9293,  8.4242,\n",
       "         8.9192,  9.4141,  9.9091, 10.4040, 10.8990, 11.3939, 11.8889, 12.3838,\n",
       "        12.8788, 13.3737, 13.8687, 14.3636, 14.8586, 15.3535, 15.8485, 16.3434,\n",
       "        16.8384, 17.3333, 17.8283, 18.3232, 18.8182, 19.3131, 19.8081, 20.3030,\n",
       "        20.7980, 21.2929, 21.7879, 22.2828, 22.7778, 23.2727, 23.7677, 24.2626,\n",
       "        24.7576, 25.2525, 25.7475, 26.2424, 26.7374, 27.2323, 27.7273, 28.2222,\n",
       "        28.7172, 29.2121, 29.7071, 30.2020, 30.6970, 31.1919, 31.6869, 32.1818,\n",
       "        32.6768, 33.1717, 33.6667, 34.1616, 34.6566, 35.1515, 35.6465, 36.1414,\n",
       "        36.6364, 37.1313, 37.6263, 38.1212, 38.6162, 39.1111, 39.6061, 40.1010,\n",
       "        40.5960, 41.0909, 41.5859, 42.0808, 42.5758, 43.0707, 43.5657, 44.0606,\n",
       "        44.5556, 45.0505, 45.5455, 46.0404, 46.5354, 47.0303, 47.5253, 48.0202,\n",
       "        48.5152, 49.0101, 49.5051, 50.0000])"
      ]
     },
     "execution_count": 46,
     "metadata": {
      "tags": []
     },
     "output_type": "execute_result"
    }
   ],
   "source": [
    "# Example 1 - working\n",
    "torch.linspace(1, 50)"
   ]
  },
  {
   "cell_type": "markdown",
   "metadata": {
    "id": "q4AqCu1FJVKM"
   },
   "source": [
    "Explanation about example"
   ]
  },
  {
   "cell_type": "code",
   "execution_count": null,
   "metadata": {
    "id": "GHtARXp5JVKM"
   },
   "outputs": [],
   "source": [
    "# Example 2 - working\n",
    "torch.linspace(start=1, end=50, steps=10)"
   ]
  },
  {
   "cell_type": "markdown",
   "metadata": {
    "id": "OzTTKMVEJVKM"
   },
   "source": [
    "Explanation about example"
   ]
  },
  {
   "cell_type": "code",
   "execution_count": 45,
   "metadata": {
    "colab": {
     "base_uri": "https://localhost:8080/"
    },
    "executionInfo": {
     "elapsed": 1227,
     "status": "ok",
     "timestamp": 1621236700426,
     "user": {
      "displayName": "Anirban Saha",
      "photoUrl": "https://lh3.googleusercontent.com/a-/AOh14Gjyb92afz3EKbQ81YgXIXJ2xTvOb0I8CeT4KMiDTw=s64",
      "userId": "02348100453944470349"
     },
     "user_tz": -360
    },
    "id": "P_KZs_S9JVKM",
    "outputId": "8d8bd685-f058-42fd-b877-53036df7bb2e"
   },
   "outputs": [
    {
     "data": {
      "text/plain": [
       "tensor([])"
      ]
     },
     "execution_count": 45,
     "metadata": {
      "tags": []
     },
     "output_type": "execute_result"
    }
   ],
   "source": [
    "# Example 3 - breaking (to illustrate when it breaks)\n",
    "torch.linspace[start=10, end=15, steps=22]"
   ]
  },
  {
   "cell_type": "markdown",
   "metadata": {
    "id": "PTKQ_V3uJVKM"
   },
   "source": [
    "Explanation about example"
   ]
  },
  {
   "cell_type": "markdown",
   "metadata": {
    "id": "1_ORWcrwJVKN"
   },
   "source": [
    "Closing comments about when to use this function"
   ]
  },
  {
   "cell_type": "code",
   "execution_count": null,
   "metadata": {
    "id": "0B42nwQdJVKN",
    "outputId": "ac55c0e2-5692-44ea-fa36-1f759c28cb8b"
   },
   "outputs": [
    {
     "data": {
      "application/javascript": [
       "window.require && require([\"base/js/namespace\"],function(Jupyter){Jupyter.notebook.save_checkpoint()})"
      ],
      "text/plain": [
       "<IPython.core.display.Javascript object>"
      ]
     },
     "metadata": {
      "tags": []
     },
     "output_type": "display_data"
    },
    {
     "name": "stdout",
     "output_type": "stream",
     "text": [
      "[jovian] Attempting to save notebook..\u001b[0m\n",
      "[jovian] Updating notebook \"aakashns/01-tensor-operations\" on https://jovian.ai/\u001b[0m\n",
      "[jovian] Uploading notebook..\u001b[0m\n",
      "[jovian] Capturing environment..\u001b[0m\n",
      "[jovian] Committed successfully! https://jovian.ai/aakashns/01-tensor-operations\u001b[0m\n"
     ]
    },
    {
     "data": {
      "text/plain": [
       "'https://jovian.ai/aakashns/01-tensor-operations'"
      ]
     },
     "execution_count": 19,
     "metadata": {
      "tags": []
     },
     "output_type": "execute_result"
    }
   ],
   "source": [
    "jovian.commit(project='01-tensor-operations')"
   ]
  },
  {
   "cell_type": "markdown",
   "metadata": {
    "id": "dqo9Owd8JVKN"
   },
   "source": [
    "## Conclusion\n",
    "\n",
    "In this assignment, we saw the working of Five functions available in PyTorch. There are a number of other useful functions. You can refer to the official documentation for the complete list of available functions.\n",
    "\n"
   ]
  },
  {
   "cell_type": "markdown",
   "metadata": {
    "id": "YyuY4kyQJVKN"
   },
   "source": [
    "## Reference Links\n",
    "Provide links to your references and other interesting articles about tensors\n",
    "* Official documentation for tensor operations: https://pytorch.org/docs/stable/torch.html\n"
   ]
  },
  {
   "cell_type": "code",
   "execution_count": null,
   "metadata": {
    "id": "-OYQsGrMJVKO",
    "outputId": "baa54bc6-8e9c-402d-9c0c-bc5eff97133c"
   },
   "outputs": [
    {
     "data": {
      "application/javascript": [
       "window.require && require([\"base/js/namespace\"],function(Jupyter){Jupyter.notebook.save_checkpoint()})"
      ],
      "text/plain": [
       "<IPython.core.display.Javascript object>"
      ]
     },
     "metadata": {
      "tags": []
     },
     "output_type": "display_data"
    },
    {
     "name": "stdout",
     "output_type": "stream",
     "text": [
      "[jovian] Attempting to save notebook..\u001b[0m\n"
     ]
    }
   ],
   "source": [
    "jovian.commit(project='01-tensor-operations')"
   ]
  },
  {
   "cell_type": "code",
   "execution_count": null,
   "metadata": {
    "id": "LUjHsPoBJVKO"
   },
   "outputs": [],
   "source": []
  }
 ],
 "metadata": {
  "colab": {
   "name": "01-tensor-operations.ipynb",
   "provenance": []
  },
  "language_info": {
   "codemirror_mode": {
    "name": "ipython",
    "version": 3
   },
   "file_extension": ".py",
   "mimetype": "text/x-python",
   "name": "python",
   "nbconvert_exporter": "python",
   "pygments_lexer": "ipython3",
   "version": "3.8.5"
  }
 },
 "nbformat": 4,
 "nbformat_minor": 0
}