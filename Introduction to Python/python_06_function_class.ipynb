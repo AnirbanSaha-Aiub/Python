{
 "cells": [
  {
   "cell_type": "markdown",
   "metadata": {},
   "source": [
    "# Functions"
   ]
  },
  {
   "cell_type": "code",
   "execution_count": 1,
   "metadata": {},
   "outputs": [
    {
     "name": "stdout",
     "output_type": "stream",
     "text": [
      "negative\n",
      "negative\n",
      "Zero\n",
      "Positive\n",
      "Positive\n"
     ]
    }
   ],
   "source": [
    "def test(a):\n",
    "    if a > 0:\n",
    "        return 'Positive'\n",
    "    elif a < 0:\n",
    "        return 'negative'\n",
    "    else:\n",
    "        return 'Zero'\n",
    "\n",
    "for i in [-2,-1,0,1,2]:\n",
    "    print(test(i))"
   ]
  },
  {
   "cell_type": "code",
   "execution_count": 2,
   "metadata": {},
   "outputs": [
    {
     "name": "stdout",
     "output_type": "stream",
     "text": [
      "hello JAVA\n",
      "hello python\n"
     ]
    }
   ],
   "source": [
    "def test2(a, b=False):\n",
    "    if b:\n",
    "        print('hello', a)\n",
    "    else:\n",
    "        print('hello', a.upper())\n",
    "\n",
    "test2('java')\n",
    "test2('python', True)"
   ]
  },
  {
   "cell_type": "markdown",
   "metadata": {},
   "source": [
    "# classes"
   ]
  },
  {
   "cell_type": "code",
   "execution_count": 6,
   "metadata": {},
   "outputs": [
    {
     "name": "stdout",
     "output_type": "stream",
     "text": [
      "hello JAVA\n"
     ]
    }
   ],
   "source": [
    "class Hello():\n",
    "    \n",
    "    # constrctor\n",
    "    def __init__(self, n):\n",
    "        self.name = n\n",
    "    \n",
    "    def test(self, b=False):\n",
    "        if b:\n",
    "            print('hello', self.name)\n",
    "        else:\n",
    "            print('hello', self.name.upper())\n",
    "\n",
    "h = Hello('java')\n",
    "h.test()"
   ]
  },
  {
   "cell_type": "code",
   "execution_count": null,
   "metadata": {},
   "outputs": [],
   "source": []
  }
 ],
 "metadata": {
  "kernelspec": {
   "display_name": "Python 3",
   "language": "python",
   "name": "python3"
  },
  "language_info": {
   "codemirror_mode": {
    "name": "ipython",
    "version": 3
   },
   "file_extension": ".py",
   "mimetype": "text/x-python",
   "name": "python",
   "nbconvert_exporter": "python",
   "pygments_lexer": "ipython3",
   "version": "3.7.9"
  }
 },
 "nbformat": 4,
 "nbformat_minor": 4
}
