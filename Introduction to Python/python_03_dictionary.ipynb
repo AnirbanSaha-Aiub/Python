{
 "cells": [
  {
   "cell_type": "markdown",
   "metadata": {},
   "source": [
    "# Dictionary"
   ]
  },
  {
   "cell_type": "markdown",
   "metadata": {},
   "source": [
    "key, value pair. simillar to Map in java."
   ]
  },
  {
   "cell_type": "code",
   "execution_count": 13,
   "metadata": {},
   "outputs": [
    {
     "name": "stdout",
     "output_type": "stream",
     "text": [
      "cute\n",
      "cat is cute .\n",
      "dog is furry .\n",
      "bird is fly .\n"
     ]
    }
   ],
   "source": [
    "d1 = {'cat': 'cute', 'dog': 'furry'}\n",
    "print(d1['cat'])\n",
    "\n",
    "d1['bird'] = 'fly'\n",
    "\n",
    "for animal, types in d1.items():\n",
    "    print('%s is %s .' % (animal, types))"
   ]
  },
  {
   "cell_type": "code",
   "execution_count": 3,
   "metadata": {},
   "outputs": [
    {
     "name": "stdout",
     "output_type": "stream",
     "text": [
      "False\n"
     ]
    }
   ],
   "source": [
    "print('tiger' in d1)"
   ]
  },
  {
   "cell_type": "code",
   "execution_count": 10,
   "metadata": {},
   "outputs": [
    {
     "name": "stdout",
     "output_type": "stream",
     "text": [
      "person has 2 legs.\n",
      "cat has cute legs.\n",
      "spider has 8 legs.\n"
     ]
    }
   ],
   "source": [
    "d2 = {'person' : '2', 'cat': 'cute', 'spider' : '8'}\n",
    "for i in d2:\n",
    "    legs = d2[i]\n",
    "    print('%s has %s legs.' % (i, legs))"
   ]
  },
  {
   "cell_type": "code",
   "execution_count": 6,
   "metadata": {
    "scrolled": true
   },
   "outputs": [
    {
     "name": "stdout",
     "output_type": "stream",
     "text": [
      "person has 2 legs.\n",
      "cat has 4 legs.\n",
      "spider has 8 legs.\n"
     ]
    }
   ],
   "source": [
    "for animal, legs in d2.items():\n",
    "    print('%s has %d legs.' % (animal, legs))"
   ]
  },
  {
   "cell_type": "code",
   "execution_count": 12,
   "metadata": {},
   "outputs": [
    {
     "name": "stdout",
     "output_type": "stream",
     "text": [
      "{0: 0, 1: 1, 2: 4, 3: 9, 4: 16, 5: 25}\n",
      "{0: 0, 2: 4, 4: 16}\n"
     ]
    }
   ],
   "source": [
    "nums = [0, 1, 2, 3, 4, 5]\n",
    "\n",
    "# d3 = {0:0, 1:1, 2:4, 3:9, 4:16, 5:25}\n",
    "# d3 = {0:0, 2:4, 4:16}\n",
    "\n",
    "sq = {i: i**2 for i in nums} # dictionary comprehension\n",
    "print(sq)\n",
    "\n",
    "sq_even = {i: i**2 for i in nums if i%2 == 0}\n",
    "print(sq_even)"
   ]
  },
  {
   "cell_type": "code",
   "execution_count": null,
   "metadata": {},
   "outputs": [],
   "source": []
  }
 ],
 "metadata": {
  "kernelspec": {
   "display_name": "Python 3",
   "language": "python",
   "name": "python3"
  },
  "language_info": {
   "codemirror_mode": {
    "name": "ipython",
    "version": 3
   },
   "file_extension": ".py",
   "mimetype": "text/x-python",
   "name": "python",
   "nbconvert_exporter": "python",
   "pygments_lexer": "ipython3",
   "version": "3.7.9"
  }
 },
 "nbformat": 4,
 "nbformat_minor": 4
}
