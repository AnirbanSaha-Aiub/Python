{
 "cells": [
  {
   "cell_type": "markdown",
   "metadata": {
    "id": "g7T0fnDfnZXf"
   },
   "source": [
    "> ### **Assignment 2 - Numpy Array Operations** \n",
    ">\n",
    "> This assignment is part of the course [\"Data Analysis with Python: Zero to Pandas\"](http://zerotopandas.com). The objective of this assignment is to develop a solid understanding of Numpy array operations. In this assignment you will:\n",
    "> \n",
    "> 1. Pick 5 interesting Numpy array functions by going through the documentation: https://numpy.org/doc/stable/reference/routines.html \n",
    "> 2. Run and modify this Jupyter notebook to illustrate their usage (some explanation and 3 examples for each function). Use your imagination to come up with interesting and unique examples.\n",
    "> 3. Upload this notebook to your Jovian profile using `jovian.commit` and make a submission here: https://jovian.ml/learn/data-analysis-with-python-zero-to-pandas/assignment/assignment-2-numpy-array-operations\n",
    "> 4. (Optional) Share your notebook online (on Twitter, LinkedIn, Facebook) and on the community forum thread: https://jovian.ml/forum/t/assignment-2-numpy-array-operations-share-your-work/10575 . \n",
    "> 5. (Optional) Check out the notebooks [shared by other participants](https://jovian.ml/forum/t/assignment-2-numpy-array-operations-share-your-work/10575) and give feedback & appreciation.\n",
    ">\n",
    "> The recommended way to run this notebook is to click the \"Run\" button at the top of this page, and select \"Run on Binder\". This will run the notebook on mybinder.org, a free online service for running Jupyter notebooks.\n",
    ">\n",
    "> Try to give your notebook a catchy title & subtitle e.g. \"All about Numpy array operations\", \"5 Numpy functions you didn't know you needed\", \"A beginner's guide to broadcasting in Numpy\", \"Interesting ways to create Numpy arrays\", \"Trigonometic functions in Numpy\", \"How to use Python for Linear Algebra\" etc.\n",
    ">\n",
    "> **NOTE**: Remove this block of explanation text before submitting or sharing your notebook online - to make it more presentable.\n",
    "\n",
    "\n",
    "# Five awsome Numpy Function\n",
    "\n",
    "\n",
    "\n",
    "Here some useful numpy function. \n",
    "\n",
    "- np.array_split()\n",
    "- np.where()\n",
    "- np.sort()\n",
    "- np.prod()\n",
    "- np.diff()\n",
    "\n",
    "The recommended way to run this notebook is to click the \"Run\" button at the top of this page, and select \"Run on Binder\". This will run the notebook on mybinder.org, a free online service for running Jupyter notebooks."
   ]
  },
  {
   "cell_type": "code",
   "execution_count": 2,
   "metadata": {
    "executionInfo": {
     "elapsed": 3968,
     "status": "ok",
     "timestamp": 1622973029207,
     "user": {
      "displayName": "Anirban Saha",
      "photoUrl": "https://lh3.googleusercontent.com/a-/AOh14Gjyb92afz3EKbQ81YgXIXJ2xTvOb0I8CeT4KMiDTw=s64",
      "userId": "02348100453944470349"
     },
     "user_tz": -360
    },
    "id": "PPt9uSfMnZXg"
   },
   "outputs": [],
   "source": [
    "!pip install jovian --upgrade -q"
   ]
  },
  {
   "cell_type": "code",
   "execution_count": 3,
   "metadata": {
    "executionInfo": {
     "elapsed": 8,
     "status": "ok",
     "timestamp": 1622973029209,
     "user": {
      "displayName": "Anirban Saha",
      "photoUrl": "https://lh3.googleusercontent.com/a-/AOh14Gjyb92afz3EKbQ81YgXIXJ2xTvOb0I8CeT4KMiDTw=s64",
      "userId": "02348100453944470349"
     },
     "user_tz": -360
    },
    "id": "Ofg4N7kNnZXg"
   },
   "outputs": [],
   "source": [
    "import jovian"
   ]
  },
  {
   "cell_type": "code",
   "execution_count": 4,
   "metadata": {
    "colab": {
     "base_uri": "https://localhost:8080/",
     "height": 136
    },
    "executionInfo": {
     "elapsed": 21266,
     "status": "ok",
     "timestamp": 1622973053120,
     "user": {
      "displayName": "Anirban Saha",
      "photoUrl": "https://lh3.googleusercontent.com/a-/AOh14Gjyb92afz3EKbQ81YgXIXJ2xTvOb0I8CeT4KMiDTw=s64",
      "userId": "02348100453944470349"
     },
     "user_tz": -360
    },
    "id": "RLI3IAfjnZXh",
    "outputId": "478a7004-97fc-418a-884a-68a2cd48f138"
   },
   "outputs": [
    {
     "name": "stdout",
     "output_type": "stream",
     "text": [
      "[jovian] Detected Colab notebook...\u001b[0m\n",
      "[jovian] Please enter your API key ( from https://jovian.ai/ ):\u001b[0m\n",
      "API KEY: ··········\n",
      "[jovian] Uploading colab notebook to Jovian...\u001b[0m\n",
      "[jovian] Capturing environment..\u001b[0m\n",
      "[jovian] Committed successfully! https://jovian.ai/anirbansaha/numpy-array-operations\u001b[0m\n"
     ]
    },
    {
     "data": {
      "application/vnd.google.colaboratory.intrinsic+json": {
       "type": "string"
      },
      "text/plain": [
       "'https://jovian.ai/anirbansaha/numpy-array-operations'"
      ]
     },
     "execution_count": 4,
     "metadata": {
      "tags": []
     },
     "output_type": "execute_result"
    }
   ],
   "source": [
    "jovian.commit(project='numpy-array-operations')"
   ]
  },
  {
   "cell_type": "markdown",
   "metadata": {
    "id": "btOwXXsFnZXi"
   },
   "source": [
    "Let's begin by importing Numpy and listing out the functions covered in this notebook."
   ]
  },
  {
   "cell_type": "code",
   "execution_count": 5,
   "metadata": {
    "executionInfo": {
     "elapsed": 1272,
     "status": "ok",
     "timestamp": 1622973058497,
     "user": {
      "displayName": "Anirban Saha",
      "photoUrl": "https://lh3.googleusercontent.com/a-/AOh14Gjyb92afz3EKbQ81YgXIXJ2xTvOb0I8CeT4KMiDTw=s64",
      "userId": "02348100453944470349"
     },
     "user_tz": -360
    },
    "id": "opWGk8AJnZXi"
   },
   "outputs": [],
   "source": [
    "import numpy as np"
   ]
  },
  {
   "cell_type": "code",
   "execution_count": 6,
   "metadata": {
    "executionInfo": {
     "elapsed": 3,
     "status": "ok",
     "timestamp": 1622973059467,
     "user": {
      "displayName": "Anirban Saha",
      "photoUrl": "https://lh3.googleusercontent.com/a-/AOh14Gjyb92afz3EKbQ81YgXIXJ2xTvOb0I8CeT4KMiDTw=s64",
      "userId": "02348100453944470349"
     },
     "user_tz": -360
    },
    "id": "OUeYPeoRnZXi"
   },
   "outputs": [],
   "source": [
    "# List of functions explained \n",
    "function1 = np.array_split\n",
    "function2 = np.where\n",
    "function3 = np.sort\n",
    "function4 = np.prod\n",
    "function5 = np.diff"
   ]
  },
  {
   "cell_type": "markdown",
   "metadata": {
    "id": "5kQQJWC5nZXj"
   },
   "source": [
    "## Function 1 - np.array_split\n",
    "\n",
    "We use array_split() for splitting arrays, we pass it the array we want to split and the number of splits."
   ]
  },
  {
   "cell_type": "code",
   "execution_count": 7,
   "metadata": {
    "colab": {
     "base_uri": "https://localhost:8080/"
    },
    "executionInfo": {
     "elapsed": 6,
     "status": "ok",
     "timestamp": 1622973060234,
     "user": {
      "displayName": "Anirban Saha",
      "photoUrl": "https://lh3.googleusercontent.com/a-/AOh14Gjyb92afz3EKbQ81YgXIXJ2xTvOb0I8CeT4KMiDTw=s64",
      "userId": "02348100453944470349"
     },
     "user_tz": -360
    },
    "id": "Tthw-t1fnZXj",
    "outputId": "2ced31fb-8cb2-4df4-f632-91ced8689cfb"
   },
   "outputs": [
    {
     "name": "stdout",
     "output_type": "stream",
     "text": [
      "[array([1, 2, 3]), array([4, 5, 6]), array([7, 8, 9])]\n"
     ]
    }
   ],
   "source": [
    "# Example 1 - working \n",
    "arr1 = [1, 2, 3, 4, 5, 6, 7, 8, 9]\n",
    "arr2 = np.array_split(arr1, 3)\n",
    "print(arr2)"
   ]
  },
  {
   "cell_type": "markdown",
   "metadata": {
    "id": "HuOphbXHnZXj"
   },
   "source": [
    "In this example we split arr1 in 3 part\n"
   ]
  },
  {
   "cell_type": "code",
   "execution_count": 8,
   "metadata": {
    "colab": {
     "base_uri": "https://localhost:8080/"
    },
    "executionInfo": {
     "elapsed": 9,
     "status": "ok",
     "timestamp": 1622973062030,
     "user": {
      "displayName": "Anirban Saha",
      "photoUrl": "https://lh3.googleusercontent.com/a-/AOh14Gjyb92afz3EKbQ81YgXIXJ2xTvOb0I8CeT4KMiDTw=s64",
      "userId": "02348100453944470349"
     },
     "user_tz": -360
    },
    "id": "oYYBBhnnnZXk",
    "outputId": "ec84d73d-ef5f-469f-975b-60374bd05bfe"
   },
   "outputs": [
    {
     "name": "stdout",
     "output_type": "stream",
     "text": [
      "[array([[1, 2],\n",
      "       [3, 4]]), array([[5, 6],\n",
      "       [7, 8]]), array([[ 9, 10],\n",
      "       [11, 12]])]\n"
     ]
    }
   ],
   "source": [
    "# Example 2 - working\n",
    "arr3 = np.array([[1, 2], [3, 4], [5, 6], [7, 8], [9, 10], [11, 12]])\n",
    "\n",
    "arr4 = np.array_split(arr3, 3)\n",
    "\n",
    "print(arr4)\n"
   ]
  },
  {
   "cell_type": "markdown",
   "metadata": {
    "id": "VObaeDhHnZXk"
   },
   "source": [
    "here, arr3 is a 2D array and we split them in three part\n"
   ]
  },
  {
   "cell_type": "code",
   "execution_count": 9,
   "metadata": {
    "colab": {
     "base_uri": "https://localhost:8080/",
     "height": 454
    },
    "executionInfo": {
     "elapsed": 704,
     "status": "error",
     "timestamp": 1622973065979,
     "user": {
      "displayName": "Anirban Saha",
      "photoUrl": "https://lh3.googleusercontent.com/a-/AOh14Gjyb92afz3EKbQ81YgXIXJ2xTvOb0I8CeT4KMiDTw=s64",
      "userId": "02348100453944470349"
     },
     "user_tz": -360
    },
    "id": "nxF7_VG9nZXk",
    "outputId": "fba09a13-5c92-4237-fd6b-a1d8fbdce3df"
   },
   "outputs": [
    {
     "ename": "AttributeError",
     "evalue": "ignored",
     "output_type": "error",
     "traceback": [
      "\u001b[0;31m---------------------------------------------------------------------------\u001b[0m",
      "\u001b[0;31mTypeError\u001b[0m                                 Traceback (most recent call last)",
      "\u001b[0;32m/usr/local/lib/python3.7/dist-packages/numpy/lib/shape_base.py\u001b[0m in \u001b[0;36msplit\u001b[0;34m(ary, indices_or_sections, axis)\u001b[0m\n\u001b[1;32m    866\u001b[0m     \u001b[0;32mtry\u001b[0m\u001b[0;34m:\u001b[0m\u001b[0;34m\u001b[0m\u001b[0;34m\u001b[0m\u001b[0m\n\u001b[0;32m--> 867\u001b[0;31m         \u001b[0mlen\u001b[0m\u001b[0;34m(\u001b[0m\u001b[0mindices_or_sections\u001b[0m\u001b[0;34m)\u001b[0m\u001b[0;34m\u001b[0m\u001b[0;34m\u001b[0m\u001b[0m\n\u001b[0m\u001b[1;32m    868\u001b[0m     \u001b[0;32mexcept\u001b[0m \u001b[0mTypeError\u001b[0m\u001b[0;34m:\u001b[0m\u001b[0;34m\u001b[0m\u001b[0;34m\u001b[0m\u001b[0m\n",
      "\u001b[0;31mTypeError\u001b[0m: object of type 'int' has no len()",
      "\nDuring handling of the above exception, another exception occurred:\n",
      "\u001b[0;31mAttributeError\u001b[0m                            Traceback (most recent call last)",
      "\u001b[0;32m<ipython-input-9-50e10a48249b>\u001b[0m in \u001b[0;36m<module>\u001b[0;34m()\u001b[0m\n\u001b[1;32m      1\u001b[0m \u001b[0;31m# Example 3 - breaking (to illustrate when it breaks)\u001b[0m\u001b[0;34m\u001b[0m\u001b[0;34m\u001b[0m\u001b[0;34m\u001b[0m\u001b[0m\n\u001b[1;32m      2\u001b[0m \u001b[0marr1\u001b[0m \u001b[0;34m=\u001b[0m \u001b[0;34m[\u001b[0m\u001b[0;36m1\u001b[0m\u001b[0;34m,\u001b[0m \u001b[0;36m2\u001b[0m\u001b[0;34m,\u001b[0m \u001b[0;36m3\u001b[0m\u001b[0;34m,\u001b[0m \u001b[0;36m4\u001b[0m\u001b[0;34m,\u001b[0m \u001b[0;36m5\u001b[0m\u001b[0;34m,\u001b[0m \u001b[0;36m6\u001b[0m\u001b[0;34m,\u001b[0m \u001b[0;36m7\u001b[0m\u001b[0;34m,\u001b[0m \u001b[0;36m8\u001b[0m\u001b[0;34m,\u001b[0m \u001b[0;36m9\u001b[0m\u001b[0;34m]\u001b[0m\u001b[0;34m\u001b[0m\u001b[0;34m\u001b[0m\u001b[0m\n\u001b[0;32m----> 3\u001b[0;31m \u001b[0marr2\u001b[0m \u001b[0;34m=\u001b[0m \u001b[0mnp\u001b[0m\u001b[0;34m.\u001b[0m\u001b[0msplit\u001b[0m\u001b[0;34m(\u001b[0m\u001b[0marr1\u001b[0m\u001b[0;34m,\u001b[0m \u001b[0;36m10\u001b[0m\u001b[0;34m)\u001b[0m\u001b[0;34m\u001b[0m\u001b[0;34m\u001b[0m\u001b[0m\n\u001b[0m\u001b[1;32m      4\u001b[0m \u001b[0mprint\u001b[0m\u001b[0;34m(\u001b[0m\u001b[0marr2\u001b[0m\u001b[0;34m)\u001b[0m\u001b[0;34m\u001b[0m\u001b[0;34m\u001b[0m\u001b[0m\n",
      "\u001b[0;32m<__array_function__ internals>\u001b[0m in \u001b[0;36msplit\u001b[0;34m(*args, **kwargs)\u001b[0m\n",
      "\u001b[0;32m/usr/local/lib/python3.7/dist-packages/numpy/lib/shape_base.py\u001b[0m in \u001b[0;36msplit\u001b[0;34m(ary, indices_or_sections, axis)\u001b[0m\n\u001b[1;32m    868\u001b[0m     \u001b[0;32mexcept\u001b[0m \u001b[0mTypeError\u001b[0m\u001b[0;34m:\u001b[0m\u001b[0;34m\u001b[0m\u001b[0;34m\u001b[0m\u001b[0m\n\u001b[1;32m    869\u001b[0m         \u001b[0msections\u001b[0m \u001b[0;34m=\u001b[0m \u001b[0mindices_or_sections\u001b[0m\u001b[0;34m\u001b[0m\u001b[0;34m\u001b[0m\u001b[0m\n\u001b[0;32m--> 870\u001b[0;31m         \u001b[0mN\u001b[0m \u001b[0;34m=\u001b[0m \u001b[0mary\u001b[0m\u001b[0;34m.\u001b[0m\u001b[0mshape\u001b[0m\u001b[0;34m[\u001b[0m\u001b[0maxis\u001b[0m\u001b[0;34m]\u001b[0m\u001b[0;34m\u001b[0m\u001b[0;34m\u001b[0m\u001b[0m\n\u001b[0m\u001b[1;32m    871\u001b[0m         \u001b[0;32mif\u001b[0m \u001b[0mN\u001b[0m \u001b[0;34m%\u001b[0m \u001b[0msections\u001b[0m\u001b[0;34m:\u001b[0m\u001b[0;34m\u001b[0m\u001b[0;34m\u001b[0m\u001b[0m\n\u001b[1;32m    872\u001b[0m             raise ValueError(\n",
      "\u001b[0;31mAttributeError\u001b[0m: 'list' object has no attribute 'shape'"
     ]
    }
   ],
   "source": [
    "# Example 3 - breaking (to illustrate when it breaks)\n",
    "arr1 = [1, 2, 3, 4, 5, 6, 7, 8, 9]\n",
    "arr2 = np.split(arr1, 10)\n",
    "print(arr2)"
   ]
  },
  {
   "cell_type": "markdown",
   "metadata": {
    "id": "nTn1w0YUnZXl"
   },
   "source": [
    "If we only use split then we have an error\n"
   ]
  },
  {
   "cell_type": "code",
   "execution_count": 10,
   "metadata": {
    "colab": {
     "base_uri": "https://localhost:8080/",
     "height": 102
    },
    "executionInfo": {
     "elapsed": 3218,
     "status": "ok",
     "timestamp": 1622973097409,
     "user": {
      "displayName": "Anirban Saha",
      "photoUrl": "https://lh3.googleusercontent.com/a-/AOh14Gjyb92afz3EKbQ81YgXIXJ2xTvOb0I8CeT4KMiDTw=s64",
      "userId": "02348100453944470349"
     },
     "user_tz": -360
    },
    "id": "a7jTZlUsnZXl",
    "outputId": "76aa79c0-482b-450d-ebda-b5c578d1a4ed"
   },
   "outputs": [
    {
     "name": "stdout",
     "output_type": "stream",
     "text": [
      "[jovian] Detected Colab notebook...\u001b[0m\n",
      "[jovian] Uploading colab notebook to Jovian...\u001b[0m\n",
      "[jovian] Capturing environment..\u001b[0m\n",
      "[jovian] Committed successfully! https://jovian.ai/anirbansaha/numpy-array-operations\u001b[0m\n"
     ]
    },
    {
     "data": {
      "application/vnd.google.colaboratory.intrinsic+json": {
       "type": "string"
      },
      "text/plain": [
       "'https://jovian.ai/anirbansaha/numpy-array-operations'"
      ]
     },
     "execution_count": 10,
     "metadata": {
      "tags": []
     },
     "output_type": "execute_result"
    }
   ],
   "source": [
    "jovian.commit()"
   ]
  },
  {
   "cell_type": "markdown",
   "metadata": {
    "id": "LsQIT6UVnZXl"
   },
   "source": [
    "## Function 2 - where()\n",
    "\n",
    "To search an array, use the `where()` method."
   ]
  },
  {
   "cell_type": "code",
   "execution_count": 13,
   "metadata": {
    "colab": {
     "base_uri": "https://localhost:8080/"
    },
    "executionInfo": {
     "elapsed": 449,
     "status": "ok",
     "timestamp": 1622973420761,
     "user": {
      "displayName": "Anirban Saha",
      "photoUrl": "https://lh3.googleusercontent.com/a-/AOh14Gjyb92afz3EKbQ81YgXIXJ2xTvOb0I8CeT4KMiDTw=s64",
      "userId": "02348100453944470349"
     },
     "user_tz": -360
    },
    "id": "tClW3wzCnZXm",
    "outputId": "53554f85-ef9c-45e2-e8cd-40b4e3165a46"
   },
   "outputs": [
    {
     "name": "stdout",
     "output_type": "stream",
     "text": [
      "(array([3, 5, 6]),)\n"
     ]
    }
   ],
   "source": [
    "# Example 1 - working\n",
    "arr6 = np.array([1, 2, 3, 4, 5, 4, 4])\n",
    "\n",
    "arr7 = np.where(arr6 == 4)\n",
    "\n",
    "print(arr7)"
   ]
  },
  {
   "cell_type": "markdown",
   "metadata": {
    "id": "epX5rSiTnZXm"
   },
   "source": [
    "The example above will return a tuple: (array([3, 5, 6],)\n",
    "\n",
    "Which means that the value 4 is present at index 3, 5, and 6."
   ]
  },
  {
   "cell_type": "code",
   "execution_count": 15,
   "metadata": {
    "colab": {
     "base_uri": "https://localhost:8080/"
    },
    "executionInfo": {
     "elapsed": 371,
     "status": "ok",
     "timestamp": 1622973442611,
     "user": {
      "displayName": "Anirban Saha",
      "photoUrl": "https://lh3.googleusercontent.com/a-/AOh14Gjyb92afz3EKbQ81YgXIXJ2xTvOb0I8CeT4KMiDTw=s64",
      "userId": "02348100453944470349"
     },
     "user_tz": -360
    },
    "id": "DfvgWbJBnZXm",
    "outputId": "f8abdade-f58d-40e4-e7ac-c3e6aa8f5ea0"
   },
   "outputs": [
    {
     "name": "stdout",
     "output_type": "stream",
     "text": [
      "(array([1, 3, 5, 7]),)\n"
     ]
    }
   ],
   "source": [
    "# Example 2 - working\n",
    "arr8 = np.array([1, 2, 3, 4, 5, 6, 7, 8])\n",
    "\n",
    "arr9 = np.where(arr8 % 2 == 0)\n",
    "\n",
    "print(arr9)"
   ]
  },
  {
   "cell_type": "markdown",
   "metadata": {
    "id": "LOc_nAUTnZXm"
   },
   "source": [
    "This example is search only the even number from the array"
   ]
  },
  {
   "cell_type": "code",
   "execution_count": 21,
   "metadata": {
    "colab": {
     "base_uri": "https://localhost:8080/",
     "height": 262
    },
    "executionInfo": {
     "elapsed": 492,
     "status": "error",
     "timestamp": 1622974653936,
     "user": {
      "displayName": "Anirban Saha",
      "photoUrl": "https://lh3.googleusercontent.com/a-/AOh14Gjyb92afz3EKbQ81YgXIXJ2xTvOb0I8CeT4KMiDTw=s64",
      "userId": "02348100453944470349"
     },
     "user_tz": -360
    },
    "id": "mOC02TALnZXm",
    "outputId": "24b53899-8ebd-44f7-8314-1775bed51d2f"
   },
   "outputs": [
    {
     "ename": "TypeError",
     "evalue": "ignored",
     "output_type": "error",
     "traceback": [
      "\u001b[0;31m---------------------------------------------------------------------------\u001b[0m",
      "\u001b[0;31mTypeError\u001b[0m                                 Traceback (most recent call last)",
      "\u001b[0;32m<ipython-input-21-e6d98dce3220>\u001b[0m in \u001b[0;36m<module>\u001b[0;34m()\u001b[0m\n\u001b[1;32m      2\u001b[0m \u001b[0marr10\u001b[0m \u001b[0;34m=\u001b[0m \u001b[0mnp\u001b[0m\u001b[0;34m.\u001b[0m\u001b[0marray\u001b[0m\u001b[0;34m(\u001b[0m\u001b[0;34m[\u001b[0m\u001b[0;36m1\u001b[0m\u001b[0;34m,\u001b[0m \u001b[0;36m2\u001b[0m\u001b[0;34m,\u001b[0m \u001b[0;36m3\u001b[0m\u001b[0;34m,\u001b[0m \u001b[0;36m4\u001b[0m\u001b[0;34m,\u001b[0m \u001b[0;36m5\u001b[0m\u001b[0;34m,\u001b[0m \u001b[0;36m4\u001b[0m\u001b[0;34m,\u001b[0m \u001b[0;36m4\u001b[0m\u001b[0;34m]\u001b[0m\u001b[0;34m)\u001b[0m\u001b[0;34m\u001b[0m\u001b[0;34m\u001b[0m\u001b[0m\n\u001b[1;32m      3\u001b[0m \u001b[0;34m\u001b[0m\u001b[0m\n\u001b[0;32m----> 4\u001b[0;31m \u001b[0marr11\u001b[0m \u001b[0;34m=\u001b[0m \u001b[0mnp\u001b[0m\u001b[0;34m.\u001b[0m\u001b[0mwhere\u001b[0m\u001b[0;34m(\u001b[0m\u001b[0marr10\u001b[0m \u001b[0;34m=\u001b[0m \u001b[0;36m4\u001b[0m\u001b[0;34m)\u001b[0m\u001b[0;34m\u001b[0m\u001b[0;34m\u001b[0m\u001b[0m\n\u001b[0m\u001b[1;32m      5\u001b[0m \u001b[0;34m\u001b[0m\u001b[0m\n\u001b[1;32m      6\u001b[0m \u001b[0mprint\u001b[0m\u001b[0;34m(\u001b[0m\u001b[0marr11\u001b[0m\u001b[0;34m)\u001b[0m\u001b[0;34m\u001b[0m\u001b[0;34m\u001b[0m\u001b[0m\n",
      "\u001b[0;32m<__array_function__ internals>\u001b[0m in \u001b[0;36mwhere\u001b[0;34m(*args, **kwargs)\u001b[0m\n",
      "\u001b[0;31mTypeError\u001b[0m: where() got an unexpected keyword argument 'arr10'"
     ]
    }
   ],
   "source": [
    "# Example 3 - breaking (to illustrate when it breaks)\n",
    "arr10 = np.array([1, 2, 3, 4, 5, 4, 4])\n",
    "\n",
    "arr11 = np.where(arr10 = 4)\n",
    "\n",
    "print(arr11)"
   ]
  },
  {
   "cell_type": "markdown",
   "metadata": {
    "id": "2jCuE43VnZXn"
   },
   "source": [
    "If i use only `=` then the program gives me error"
   ]
  },
  {
   "cell_type": "markdown",
   "metadata": {
    "id": "wC3PG1ChnZXn"
   },
   "source": [
    "This function is mainly ues for searching from a list"
   ]
  },
  {
   "cell_type": "code",
   "execution_count": 22,
   "metadata": {
    "colab": {
     "base_uri": "https://localhost:8080/",
     "height": 102
    },
    "executionInfo": {
     "elapsed": 3287,
     "status": "ok",
     "timestamp": 1622975285547,
     "user": {
      "displayName": "Anirban Saha",
      "photoUrl": "https://lh3.googleusercontent.com/a-/AOh14Gjyb92afz3EKbQ81YgXIXJ2xTvOb0I8CeT4KMiDTw=s64",
      "userId": "02348100453944470349"
     },
     "user_tz": -360
    },
    "id": "Kshn-avPnZXn",
    "outputId": "f402c4d0-6379-4fc9-ce77-90670cc1c910"
   },
   "outputs": [
    {
     "name": "stdout",
     "output_type": "stream",
     "text": [
      "[jovian] Detected Colab notebook...\u001b[0m\n",
      "[jovian] Uploading colab notebook to Jovian...\u001b[0m\n",
      "[jovian] Capturing environment..\u001b[0m\n",
      "[jovian] Committed successfully! https://jovian.ai/anirbansaha/numpy-array-operations\u001b[0m\n"
     ]
    },
    {
     "data": {
      "application/vnd.google.colaboratory.intrinsic+json": {
       "type": "string"
      },
      "text/plain": [
       "'https://jovian.ai/anirbansaha/numpy-array-operations'"
      ]
     },
     "execution_count": 22,
     "metadata": {
      "tags": []
     },
     "output_type": "execute_result"
    }
   ],
   "source": [
    "jovian.commit()"
   ]
  },
  {
   "cell_type": "markdown",
   "metadata": {
    "id": "cjkjBsVjnZXp"
   },
   "source": [
    "## Function 3 - np.sort()\n",
    "\n",
    "The NumPy ndarray object has a function called `sort()`, that will sort a specified array."
   ]
  },
  {
   "cell_type": "code",
   "execution_count": 23,
   "metadata": {
    "colab": {
     "base_uri": "https://localhost:8080/"
    },
    "executionInfo": {
     "elapsed": 401,
     "status": "ok",
     "timestamp": 1622975643543,
     "user": {
      "displayName": "Anirban Saha",
      "photoUrl": "https://lh3.googleusercontent.com/a-/AOh14Gjyb92afz3EKbQ81YgXIXJ2xTvOb0I8CeT4KMiDTw=s64",
      "userId": "02348100453944470349"
     },
     "user_tz": -360
    },
    "id": "pMIsfBEsnZXq",
    "outputId": "7bf63a5b-a82a-4801-e078-6e49db0f3bf9"
   },
   "outputs": [
    {
     "name": "stdout",
     "output_type": "stream",
     "text": [
      "[0 1 2 3]\n"
     ]
    }
   ],
   "source": [
    "# Example 1 - working\n",
    "arr12 = np.array([3, 2, 0, 1])\n",
    "\n",
    "print(np.sort(arr12))"
   ]
  },
  {
   "cell_type": "markdown",
   "metadata": {
    "id": "2ha7VOOwnZXq"
   },
   "source": [
    "This `sort()` function sort the eliment of an array."
   ]
  },
  {
   "cell_type": "code",
   "execution_count": 24,
   "metadata": {
    "colab": {
     "base_uri": "https://localhost:8080/"
    },
    "executionInfo": {
     "elapsed": 412,
     "status": "ok",
     "timestamp": 1622975728483,
     "user": {
      "displayName": "Anirban Saha",
      "photoUrl": "https://lh3.googleusercontent.com/a-/AOh14Gjyb92afz3EKbQ81YgXIXJ2xTvOb0I8CeT4KMiDTw=s64",
      "userId": "02348100453944470349"
     },
     "user_tz": -360
    },
    "id": "P74B9bSMnZXq",
    "outputId": "b9451f88-b2d9-4d22-e8d7-a80a37aed3ec"
   },
   "outputs": [
    {
     "name": "stdout",
     "output_type": "stream",
     "text": [
      "[[2 3 4]\n",
      " [0 1 5]]\n"
     ]
    }
   ],
   "source": [
    "# Example 2 - working\n",
    "arr13 = np.array([[3, 2, 4], [5, 0, 1]])\n",
    "\n",
    "print(np.sort(arr13))\n"
   ]
  },
  {
   "cell_type": "markdown",
   "metadata": {
    "id": "0MlszU-FnZXr"
   },
   "source": [
    "this function also works in 2D array."
   ]
  },
  {
   "cell_type": "code",
   "execution_count": 25,
   "metadata": {
    "colab": {
     "base_uri": "https://localhost:8080/",
     "height": 212
    },
    "executionInfo": {
     "elapsed": 407,
     "status": "error",
     "timestamp": 1622975863452,
     "user": {
      "displayName": "Anirban Saha",
      "photoUrl": "https://lh3.googleusercontent.com/a-/AOh14Gjyb92afz3EKbQ81YgXIXJ2xTvOb0I8CeT4KMiDTw=s64",
      "userId": "02348100453944470349"
     },
     "user_tz": -360
    },
    "id": "IX3KHn0VnZXr",
    "outputId": "9d8701cd-8e33-4b95-a14a-38ad080612ce"
   },
   "outputs": [
    {
     "ename": "NameError",
     "evalue": "ignored",
     "output_type": "error",
     "traceback": [
      "\u001b[0;31m---------------------------------------------------------------------------\u001b[0m",
      "\u001b[0;31mNameError\u001b[0m                                 Traceback (most recent call last)",
      "\u001b[0;32m<ipython-input-25-a8b88e372259>\u001b[0m in \u001b[0;36m<module>\u001b[0;34m()\u001b[0m\n\u001b[1;32m      1\u001b[0m \u001b[0;31m# Example 3 - breaking (to illustrate when it breaks)\u001b[0m\u001b[0;34m\u001b[0m\u001b[0;34m\u001b[0m\u001b[0;34m\u001b[0m\u001b[0m\n\u001b[0;32m----> 2\u001b[0;31m \u001b[0marr14\u001b[0m \u001b[0;34m=\u001b[0m \u001b[0mnp\u001b[0m\u001b[0;34m.\u001b[0m\u001b[0marray\u001b[0m\u001b[0;34m(\u001b[0m\u001b[0;34m[\u001b[0m\u001b[0;34m[\u001b[0m\u001b[0;36m3\u001b[0m\u001b[0;34m,\u001b[0m \u001b[0;36m2\u001b[0m\u001b[0;34m,\u001b[0m \u001b[0;36m4\u001b[0m\u001b[0;34m,\u001b[0m \u001b[0ma\u001b[0m\u001b[0;34m]\u001b[0m\u001b[0;34m,\u001b[0m \u001b[0;34m[\u001b[0m\u001b[0;36m5\u001b[0m\u001b[0;34m,\u001b[0m \u001b[0;36m0\u001b[0m\u001b[0;34m,\u001b[0m \u001b[0;36m1\u001b[0m\u001b[0;34m]\u001b[0m\u001b[0;34m]\u001b[0m\u001b[0;34m)\u001b[0m\u001b[0;34m\u001b[0m\u001b[0;34m\u001b[0m\u001b[0m\n\u001b[0m\u001b[1;32m      3\u001b[0m \u001b[0;34m\u001b[0m\u001b[0m\n\u001b[1;32m      4\u001b[0m \u001b[0mprint\u001b[0m\u001b[0;34m(\u001b[0m\u001b[0mnp\u001b[0m\u001b[0;34m.\u001b[0m\u001b[0msort\u001b[0m\u001b[0;34m(\u001b[0m\u001b[0marr14\u001b[0m\u001b[0;34m)\u001b[0m\u001b[0;34m)\u001b[0m\u001b[0;34m\u001b[0m\u001b[0;34m\u001b[0m\u001b[0m\n",
      "\u001b[0;31mNameError\u001b[0m: name 'a' is not defined"
     ]
    }
   ],
   "source": [
    "# Example 3 - breaking (to illustrate when it breaks)\n",
    "arr14 = np.array([[3, 2, 4, a], [5, 0, 1]])\n",
    "\n",
    "print(np.sort(arr14))\n"
   ]
  },
  {
   "cell_type": "markdown",
   "metadata": {
    "id": "bi-3Zf1YnZXr"
   },
   "source": [
    "This function isn't work when two kind of data type in the same array."
   ]
  },
  {
   "cell_type": "markdown",
   "metadata": {
    "id": "pCphvxwnnZXr"
   },
   "source": [
    "This function will be helpful when we need to sort from a datasets."
   ]
  },
  {
   "cell_type": "code",
   "execution_count": 26,
   "metadata": {
    "colab": {
     "base_uri": "https://localhost:8080/",
     "height": 102
    },
    "executionInfo": {
     "elapsed": 3184,
     "status": "ok",
     "timestamp": 1622975976539,
     "user": {
      "displayName": "Anirban Saha",
      "photoUrl": "https://lh3.googleusercontent.com/a-/AOh14Gjyb92afz3EKbQ81YgXIXJ2xTvOb0I8CeT4KMiDTw=s64",
      "userId": "02348100453944470349"
     },
     "user_tz": -360
    },
    "id": "neE16THLnZXr",
    "outputId": "2227e4b9-d447-42b6-d9de-763819e2be5c"
   },
   "outputs": [
    {
     "name": "stdout",
     "output_type": "stream",
     "text": [
      "[jovian] Detected Colab notebook...\u001b[0m\n",
      "[jovian] Uploading colab notebook to Jovian...\u001b[0m\n",
      "[jovian] Capturing environment..\u001b[0m\n",
      "[jovian] Committed successfully! https://jovian.ai/anirbansaha/numpy-array-operations\u001b[0m\n"
     ]
    },
    {
     "data": {
      "application/vnd.google.colaboratory.intrinsic+json": {
       "type": "string"
      },
      "text/plain": [
       "'https://jovian.ai/anirbansaha/numpy-array-operations'"
      ]
     },
     "execution_count": 26,
     "metadata": {
      "tags": []
     },
     "output_type": "execute_result"
    }
   ],
   "source": [
    "jovian.commit()"
   ]
  },
  {
   "cell_type": "markdown",
   "metadata": {
    "id": "HCWYAauvnZXs"
   },
   "source": [
    "## Function 4 - np.prod()\n",
    "\n",
    "To find the product of the elements in an array, use the `prod()` function."
   ]
  },
  {
   "cell_type": "code",
   "execution_count": 27,
   "metadata": {
    "colab": {
     "base_uri": "https://localhost:8080/"
    },
    "executionInfo": {
     "elapsed": 419,
     "status": "ok",
     "timestamp": 1622976084327,
     "user": {
      "displayName": "Anirban Saha",
      "photoUrl": "https://lh3.googleusercontent.com/a-/AOh14Gjyb92afz3EKbQ81YgXIXJ2xTvOb0I8CeT4KMiDTw=s64",
      "userId": "02348100453944470349"
     },
     "user_tz": -360
    },
    "id": "bbAlEBFYnZXs",
    "outputId": "4b847639-1d67-4368-b8d7-6030c8ea6462"
   },
   "outputs": [
    {
     "name": "stdout",
     "output_type": "stream",
     "text": [
      "24\n"
     ]
    }
   ],
   "source": [
    "# Example 1 - working\n",
    "arr15= np.array([1, 2, 3, 4])\n",
    "\n",
    "x = np.prod(arr15)\n",
    "\n",
    "print(x)"
   ]
  },
  {
   "cell_type": "markdown",
   "metadata": {
    "id": "7DzOhi09nZXs"
   },
   "source": [
    "`24` because 1\\*2\\*3\\*4 = 24 "
   ]
  },
  {
   "cell_type": "code",
   "execution_count": 28,
   "metadata": {
    "colab": {
     "base_uri": "https://localhost:8080/"
    },
    "executionInfo": {
     "elapsed": 457,
     "status": "ok",
     "timestamp": 1622976338571,
     "user": {
      "displayName": "Anirban Saha",
      "photoUrl": "https://lh3.googleusercontent.com/a-/AOh14Gjyb92afz3EKbQ81YgXIXJ2xTvOb0I8CeT4KMiDTw=s64",
      "userId": "02348100453944470349"
     },
     "user_tz": -360
    },
    "id": "FTeVbWmbnZXs",
    "outputId": "b8c79a40-28d1-49f7-e202-71238c2987d1"
   },
   "outputs": [
    {
     "name": "stdout",
     "output_type": "stream",
     "text": [
      "[  24 1680]\n"
     ]
    }
   ],
   "source": [
    "# Example 2 - working\n",
    "import numpy as np\n",
    "\n",
    "arr16 = np.array([1, 2, 3, 4])\n",
    "arr17 = np.array([5, 6, 7, 8])\n",
    "\n",
    "newarr = np.prod([arr16, arr17], axis=1)\n",
    "\n",
    "print(newarr)"
   ]
  },
  {
   "cell_type": "markdown",
   "metadata": {
    "id": "-dG2KXfanZXt"
   },
   "source": [
    "If I specify `axis=1`, NumPy will return the product of each array."
   ]
  },
  {
   "cell_type": "code",
   "execution_count": 31,
   "metadata": {
    "colab": {
     "base_uri": "https://localhost:8080/",
     "height": 229
    },
    "executionInfo": {
     "elapsed": 442,
     "status": "error",
     "timestamp": 1622976497147,
     "user": {
      "displayName": "Anirban Saha",
      "photoUrl": "https://lh3.googleusercontent.com/a-/AOh14Gjyb92afz3EKbQ81YgXIXJ2xTvOb0I8CeT4KMiDTw=s64",
      "userId": "02348100453944470349"
     },
     "user_tz": -360
    },
    "id": "Nk4WA4rwnZXt",
    "outputId": "9cd1fd9e-b070-4135-fb65-d9f78f868a9d"
   },
   "outputs": [
    {
     "ename": "TypeError",
     "evalue": "ignored",
     "output_type": "error",
     "traceback": [
      "\u001b[0;31m---------------------------------------------------------------------------\u001b[0m",
      "\u001b[0;31mTypeError\u001b[0m                                 Traceback (most recent call last)",
      "\u001b[0;32m<ipython-input-31-d7539fbca693>\u001b[0m in \u001b[0;36m<module>\u001b[0;34m()\u001b[0m\n\u001b[1;32m      1\u001b[0m \u001b[0;31m# Example 3 - breaking (to illustrate when it breaks)\u001b[0m\u001b[0;34m\u001b[0m\u001b[0;34m\u001b[0m\u001b[0;34m\u001b[0m\u001b[0m\n\u001b[0;32m----> 2\u001b[0;31m \u001b[0marr18\u001b[0m\u001b[0;34m=\u001b[0m \u001b[0mnp\u001b[0m\u001b[0;34m.\u001b[0m\u001b[0marray\u001b[0m\u001b[0;34m(\u001b[0m\u001b[0;34m[\u001b[0m\u001b[0;36m1\u001b[0m\u001b[0;34m,\u001b[0m \u001b[0;36m2\u001b[0m\u001b[0;34m,\u001b[0m \u001b[0;36m3\u001b[0m\u001b[0;34m,\u001b[0m \u001b[0;36m4\u001b[0m\u001b[0;34m]\u001b[0m\u001b[0;34m,\u001b[0m\u001b[0;34m[\u001b[0m\u001b[0;36m7\u001b[0m\u001b[0;34m,\u001b[0m\u001b[0;36m9\u001b[0m\u001b[0;34m,\u001b[0m\u001b[0;36m6\u001b[0m\u001b[0;34m,\u001b[0m\u001b[0;36m5\u001b[0m\u001b[0;34m]\u001b[0m\u001b[0;34m)\u001b[0m\u001b[0;34m\u001b[0m\u001b[0;34m\u001b[0m\u001b[0m\n\u001b[0m\u001b[1;32m      3\u001b[0m \u001b[0;34m\u001b[0m\u001b[0m\n\u001b[1;32m      4\u001b[0m \u001b[0mx\u001b[0m \u001b[0;34m=\u001b[0m \u001b[0mnp\u001b[0m\u001b[0;34m.\u001b[0m\u001b[0mprod\u001b[0m\u001b[0;34m(\u001b[0m\u001b[0marr18\u001b[0m\u001b[0;34m)\u001b[0m\u001b[0;34m\u001b[0m\u001b[0;34m\u001b[0m\u001b[0m\n\u001b[1;32m      5\u001b[0m \u001b[0;34m\u001b[0m\u001b[0m\n",
      "\u001b[0;31mTypeError\u001b[0m: Field elements must be 2- or 3-tuples, got '7'"
     ]
    }
   ],
   "source": [
    "# Example 3 - breaking (to illustrate when it breaks)\n",
    "arr18= np.array([1, 2, 3, 4],[7,9,6,5])\n",
    "\n",
    "x = np.prod(arr18)\n",
    "\n",
    "print(x)"
   ]
  },
  {
   "cell_type": "markdown",
   "metadata": {
    "id": "r8rVXz9ynZXt"
   },
   "source": [
    "It isn't work in 2D array"
   ]
  },
  {
   "cell_type": "markdown",
   "metadata": {
    "id": "5RHZr1lsnZXt"
   },
   "source": [
    "This is very useful function"
   ]
  },
  {
   "cell_type": "code",
   "execution_count": 32,
   "metadata": {
    "colab": {
     "base_uri": "https://localhost:8080/",
     "height": 102
    },
    "executionInfo": {
     "elapsed": 3123,
     "status": "ok",
     "timestamp": 1622976573025,
     "user": {
      "displayName": "Anirban Saha",
      "photoUrl": "https://lh3.googleusercontent.com/a-/AOh14Gjyb92afz3EKbQ81YgXIXJ2xTvOb0I8CeT4KMiDTw=s64",
      "userId": "02348100453944470349"
     },
     "user_tz": -360
    },
    "id": "Wte__rKInZXt",
    "outputId": "d37cb87d-b8a9-425d-e5ce-030624893aef"
   },
   "outputs": [
    {
     "name": "stdout",
     "output_type": "stream",
     "text": [
      "[jovian] Detected Colab notebook...\u001b[0m\n",
      "[jovian] Uploading colab notebook to Jovian...\u001b[0m\n",
      "[jovian] Capturing environment..\u001b[0m\n",
      "[jovian] Committed successfully! https://jovian.ai/anirbansaha/numpy-array-operations\u001b[0m\n"
     ]
    },
    {
     "data": {
      "application/vnd.google.colaboratory.intrinsic+json": {
       "type": "string"
      },
      "text/plain": [
       "'https://jovian.ai/anirbansaha/numpy-array-operations'"
      ]
     },
     "execution_count": 32,
     "metadata": {
      "tags": []
     },
     "output_type": "execute_result"
    }
   ],
   "source": [
    "jovian.commit()"
   ]
  },
  {
   "cell_type": "markdown",
   "metadata": {
    "id": "qEecuREtnZXu"
   },
   "source": [
    "## Function 5 - np.diff()\n",
    "\n",
    "To find the discrete difference, use the diff() function."
   ]
  },
  {
   "cell_type": "code",
   "execution_count": 33,
   "metadata": {
    "colab": {
     "base_uri": "https://localhost:8080/"
    },
    "executionInfo": {
     "elapsed": 1308,
     "status": "ok",
     "timestamp": 1622976659235,
     "user": {
      "displayName": "Anirban Saha",
      "photoUrl": "https://lh3.googleusercontent.com/a-/AOh14Gjyb92afz3EKbQ81YgXIXJ2xTvOb0I8CeT4KMiDTw=s64",
      "userId": "02348100453944470349"
     },
     "user_tz": -360
    },
    "id": "5tYnSAE_nZXu",
    "outputId": "4d441a37-8dd4-4bc3-f785-c813215d0884"
   },
   "outputs": [
    {
     "name": "stdout",
     "output_type": "stream",
     "text": [
      "[  5  10 -20]\n"
     ]
    }
   ],
   "source": [
    "# Example 1 - working\n",
    "arr19 = np.array([10, 15, 25, 5])\n",
    "\n",
    "newarr = np.diff(arr19)\n",
    "\n",
    "print(newarr)"
   ]
  },
  {
   "cell_type": "markdown",
   "metadata": {
    "id": "pvpgYNe6nZXu"
   },
   "source": [
    "It is give the diffarance betwwen two eliments.\n",
    "\n",
    "Here,\n",
    "15-10=5, 25-15=10, and 5-25=-20"
   ]
  },
  {
   "cell_type": "code",
   "execution_count": 34,
   "metadata": {
    "colab": {
     "base_uri": "https://localhost:8080/"
    },
    "executionInfo": {
     "elapsed": 407,
     "status": "ok",
     "timestamp": 1622976724797,
     "user": {
      "displayName": "Anirban Saha",
      "photoUrl": "https://lh3.googleusercontent.com/a-/AOh14Gjyb92afz3EKbQ81YgXIXJ2xTvOb0I8CeT4KMiDTw=s64",
      "userId": "02348100453944470349"
     },
     "user_tz": -360
    },
    "id": "NyPE5QvNnZXu",
    "outputId": "5ffb0f1a-26fa-4f86-d371-f5904d009928"
   },
   "outputs": [
    {
     "name": "stdout",
     "output_type": "stream",
     "text": [
      "[  5 -30]\n"
     ]
    }
   ],
   "source": [
    "# Example 2 - working\n",
    "arr20 = np.array([10, 15, 25, 5])\n",
    "\n",
    "newarr = np.diff(arr20, n=2)\n",
    "\n",
    "print(newarr)"
   ]
  },
  {
   "cell_type": "markdown",
   "metadata": {
    "id": "j7majvL2nZXv"
   },
   "source": [
    " because: 15-10=5, 25-15=10, and 5-25=-20 AND 10-5=5 and -20-10=-30\n",
    " "
   ]
  },
  {
   "cell_type": "code",
   "execution_count": 41,
   "metadata": {
    "colab": {
     "base_uri": "https://localhost:8080/",
     "height": 229
    },
    "executionInfo": {
     "elapsed": 570,
     "status": "error",
     "timestamp": 1622977057889,
     "user": {
      "displayName": "Anirban Saha",
      "photoUrl": "https://lh3.googleusercontent.com/a-/AOh14Gjyb92afz3EKbQ81YgXIXJ2xTvOb0I8CeT4KMiDTw=s64",
      "userId": "02348100453944470349"
     },
     "user_tz": -360
    },
    "id": "AGJk0pT8nZXv",
    "outputId": "61786d4d-7910-414f-f6f1-91ec7c24773f"
   },
   "outputs": [
    {
     "ename": "TypeError",
     "evalue": "ignored",
     "output_type": "error",
     "traceback": [
      "\u001b[0;31m---------------------------------------------------------------------------\u001b[0m",
      "\u001b[0;31mTypeError\u001b[0m                                 Traceback (most recent call last)",
      "\u001b[0;32m<ipython-input-41-d4bbea652ef8>\u001b[0m in \u001b[0;36m<module>\u001b[0;34m()\u001b[0m\n\u001b[1;32m      1\u001b[0m \u001b[0;31m# Example 3 - breaking (to illustrate when it breaks)\u001b[0m\u001b[0;34m\u001b[0m\u001b[0;34m\u001b[0m\u001b[0;34m\u001b[0m\u001b[0m\n\u001b[0;32m----> 2\u001b[0;31m \u001b[0marr21\u001b[0m \u001b[0;34m=\u001b[0m \u001b[0mnp\u001b[0m\u001b[0;34m.\u001b[0m\u001b[0marray\u001b[0m\u001b[0;34m(\u001b[0m\u001b[0;34m[\u001b[0m\u001b[0;36m10\u001b[0m\u001b[0;34m,\u001b[0m \u001b[0;36m15\u001b[0m\u001b[0;34m,\u001b[0m \u001b[0;36m25\u001b[0m\u001b[0;34m,\u001b[0m \u001b[0;36m5\u001b[0m\u001b[0;34m]\u001b[0m\u001b[0;34m,\u001b[0m\u001b[0;34m[\u001b[0m\u001b[0;36m5\u001b[0m\u001b[0;34m,\u001b[0m\u001b[0;36m5\u001b[0m\u001b[0;34m]\u001b[0m\u001b[0;34m)\u001b[0m\u001b[0;34m\u001b[0m\u001b[0;34m\u001b[0m\u001b[0m\n\u001b[0m\u001b[1;32m      3\u001b[0m \u001b[0;34m\u001b[0m\u001b[0m\n\u001b[1;32m      4\u001b[0m \u001b[0mnewarr\u001b[0m \u001b[0;34m=\u001b[0m \u001b[0mnp\u001b[0m\u001b[0;34m.\u001b[0m\u001b[0mdiff\u001b[0m\u001b[0;34m(\u001b[0m\u001b[0marr21\u001b[0m\u001b[0;34m,\u001b[0m \u001b[0mn\u001b[0m\u001b[0;34m=\u001b[0m\u001b[0;36m0\u001b[0m\u001b[0;34m)\u001b[0m\u001b[0;34m\u001b[0m\u001b[0;34m\u001b[0m\u001b[0m\n\u001b[1;32m      5\u001b[0m \u001b[0;34m\u001b[0m\u001b[0m\n",
      "\u001b[0;31mTypeError\u001b[0m: Field elements must be 2- or 3-tuples, got '5'"
     ]
    }
   ],
   "source": [
    "# Example 3 - breaking (to illustrate when it breaks)\n",
    "arr21 = np.array([10, 15, 25, 5],[5,5])\n",
    "\n",
    "newarr = np.diff(arr21, n=0)\n",
    "\n",
    "print(newarr)"
   ]
  },
  {
   "cell_type": "markdown",
   "metadata": {
    "id": "ALqqvekOnZXv"
   },
   "source": [
    "It is not work in 2d array"
   ]
  },
  {
   "cell_type": "markdown",
   "metadata": {
    "id": "uQZ9ytFMnZXw"
   },
   "source": [
    "This is a usefull function\n"
   ]
  },
  {
   "cell_type": "code",
   "execution_count": 42,
   "metadata": {
    "colab": {
     "base_uri": "https://localhost:8080/",
     "height": 102
    },
    "executionInfo": {
     "elapsed": 2908,
     "status": "ok",
     "timestamp": 1622977111715,
     "user": {
      "displayName": "Anirban Saha",
      "photoUrl": "https://lh3.googleusercontent.com/a-/AOh14Gjyb92afz3EKbQ81YgXIXJ2xTvOb0I8CeT4KMiDTw=s64",
      "userId": "02348100453944470349"
     },
     "user_tz": -360
    },
    "id": "W7fjLR4wnZXw",
    "outputId": "c3a27995-6de0-4124-9c58-b85b54c45e43"
   },
   "outputs": [
    {
     "name": "stdout",
     "output_type": "stream",
     "text": [
      "[jovian] Detected Colab notebook...\u001b[0m\n",
      "[jovian] Uploading colab notebook to Jovian...\u001b[0m\n",
      "[jovian] Capturing environment..\u001b[0m\n",
      "[jovian] Committed successfully! https://jovian.ai/anirbansaha/numpy-array-operations\u001b[0m\n"
     ]
    },
    {
     "data": {
      "application/vnd.google.colaboratory.intrinsic+json": {
       "type": "string"
      },
      "text/plain": [
       "'https://jovian.ai/anirbansaha/numpy-array-operations'"
      ]
     },
     "execution_count": 42,
     "metadata": {
      "tags": []
     },
     "output_type": "execute_result"
    }
   ],
   "source": [
    "jovian.commit()"
   ]
  },
  {
   "cell_type": "markdown",
   "metadata": {
    "id": "NLSNS6PenZXx"
   },
   "source": [
    "## Conclusion\n",
    "\n",
    "This funtions are very useful function. When we are workin with a data sets then we need many kind of numpy function. Numpy funtion makes our codeing experience efficeint>"
   ]
  },
  {
   "cell_type": "markdown",
   "metadata": {
    "id": "4tEVpMmfnZXx"
   },
   "source": [
    "## Reference Links\n",
    "Provide links to your references and other interesting articles about Numpy arrays:\n",
    "* Numpy official tutorial : https://numpy.org/doc/stable/user/quickstart.html\n",
    "* ..."
   ]
  },
  {
   "cell_type": "code",
   "execution_count": null,
   "metadata": {
    "id": "1WaC0HeHnZXy",
    "outputId": "c0059106-984b-45cd-de9e-7a60e16860fa"
   },
   "outputs": [
    {
     "data": {
      "application/javascript": [
       "window.require && require([\"base/js/namespace\"],function(Jupyter){Jupyter.notebook.save_checkpoint()})"
      ],
      "text/plain": [
       "<IPython.core.display.Javascript object>"
      ]
     },
     "metadata": {
      "tags": []
     },
     "output_type": "display_data"
    },
    {
     "name": "stdout",
     "output_type": "stream",
     "text": [
      "[jovian] Attempting to save notebook..\u001b[0m\n",
      "[jovian] Updating notebook \"aakashns/numpy-array-operations\" on https://jovian.ml/\u001b[0m\n",
      "[jovian] Uploading notebook..\u001b[0m\n",
      "[jovian] Capturing environment..\u001b[0m\n",
      "[jovian] Committed successfully! https://jovian.ml/aakashns/numpy-array-operations\u001b[0m\n"
     ]
    },
    {
     "data": {
      "text/plain": [
       "'https://jovian.ml/aakashns/numpy-array-operations'"
      ]
     },
     "execution_count": 30,
     "metadata": {
      "tags": []
     },
     "output_type": "execute_result"
    }
   ],
   "source": [
    "jovian.commit()"
   ]
  },
  {
   "cell_type": "code",
   "execution_count": null,
   "metadata": {
    "id": "k2oQkW8HnZXy"
   },
   "outputs": [],
   "source": []
  }
 ],
 "metadata": {
  "colab": {
   "name": "numpy-array-operations.ipynb",
   "provenance": [],
   "toc_visible": true
  },
  "language_info": {
   "codemirror_mode": {
    "name": "ipython",
    "version": 3
   },
   "file_extension": ".py",
   "mimetype": "text/x-python",
   "name": "python",
   "nbconvert_exporter": "python",
   "pygments_lexer": "ipython3",
   "version": "3.8.5"
  }
 },
 "nbformat": 4,
 "nbformat_minor": 0
}