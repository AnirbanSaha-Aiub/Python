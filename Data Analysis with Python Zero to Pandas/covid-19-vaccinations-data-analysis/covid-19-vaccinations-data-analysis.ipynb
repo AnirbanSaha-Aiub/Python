{
 "cells": [
  {
   "cell_type": "markdown",
   "metadata": {
    "id": "rtzKI7Z8KFJy"
   },
   "source": [
    "# COVID-19 Vaccination Data Analysis\n",
    "\n",
    "This project is about \"COVID-19 World Vaccination Progress\" Data Analysis with Python. Collected this Dataset from \"Kaggle\" which is the world's largest data science community with powerful tools and resources.\n",
    "\n",
    "![COVID-19 Vaccination image](https://assetsds.cdnedge.bluemix.net/sites/default/files/styles/very_big_1/public/feature/images/2021/01/11/covid-vaccine.jpg?itok=xMzn_yrM)\n",
    "\n",
    "This dataset contains 28303 rows and 15 columns which is really informaive to analysis. In this project,an attempt has been made to analyze various information of COVID-19 World Vaccination Progress such as country, total_Vaccinations, people_vaccinated,\tdaily_vaccinations total_vaccinations_per_hundred, people_vaccinated_per_hundred, people_fully_vaccinated_per_hundred,\t vaccines and many more.\n",
    "\n",
    "Library Used:\n",
    "\n",
    "* pandas\n",
    "* matplotlib\n",
    "* seaborn"
   ]
  },
  {
   "cell_type": "markdown",
   "metadata": {
    "id": "KNIq9Z90KFJ0"
   },
   "source": [
    "## Downloading the Dataset\n",
    "\n",
    "\n",
    "\n",
    "*   Dataset Link: https://www.kaggle.com/gpreda/covid-world-vaccination-progress\n",
    "*   This data is in CSV format, which contain 28303 rows × 15 columns.\n",
    "*   Downloaded the dataset using the opendatasets library.\n",
    "\n",
    "\n",
    "\n"
   ]
  },
  {
   "cell_type": "code",
   "execution_count": 1,
   "metadata": {
    "executionInfo": {
     "elapsed": 3042,
     "status": "ok",
     "timestamp": 1625423458029,
     "user": {
      "displayName": "Anirban Saha",
      "photoUrl": "https://lh3.googleusercontent.com/a-/AOh14Gjyb92afz3EKbQ81YgXIXJ2xTvOb0I8CeT4KMiDTw=s64",
      "userId": "02348100453944470349"
     },
     "user_tz": -360
    },
    "id": "lJkA7C8IKFJ0"
   },
   "outputs": [],
   "source": [
    "!pip install jovian opendatasets --upgrade --quiet"
   ]
  },
  {
   "cell_type": "markdown",
   "metadata": {
    "id": "HAz8UUX9KFJ1"
   },
   "source": [
    "Let's begin by downloading the data, and listing the files within the dataset."
   ]
  },
  {
   "cell_type": "code",
   "execution_count": 2,
   "metadata": {
    "executionInfo": {
     "elapsed": 35,
     "status": "ok",
     "timestamp": 1625423458031,
     "user": {
      "displayName": "Anirban Saha",
      "photoUrl": "https://lh3.googleusercontent.com/a-/AOh14Gjyb92afz3EKbQ81YgXIXJ2xTvOb0I8CeT4KMiDTw=s64",
      "userId": "02348100453944470349"
     },
     "user_tz": -360
    },
    "id": "nubbwXRaKFJ1"
   },
   "outputs": [],
   "source": [
    "dataset_url = 'https://www.kaggle.com/gpreda/covid-world-vaccination-progress' "
   ]
  },
  {
   "cell_type": "code",
   "execution_count": 3,
   "metadata": {
    "colab": {
     "base_uri": "https://localhost:8080/"
    },
    "executionInfo": {
     "elapsed": 35,
     "status": "ok",
     "timestamp": 1625423458033,
     "user": {
      "displayName": "Anirban Saha",
      "photoUrl": "https://lh3.googleusercontent.com/a-/AOh14Gjyb92afz3EKbQ81YgXIXJ2xTvOb0I8CeT4KMiDTw=s64",
      "userId": "02348100453944470349"
     },
     "user_tz": -360
    },
    "id": "zeZiqnpKKFJ1",
    "outputId": "13302738-f374-491e-a951-33d7113e269c"
   },
   "outputs": [
    {
     "name": "stdout",
     "output_type": "stream",
     "text": [
      "Please provide your Kaggle credentials to download this dataset. Learn more: http://bit.ly/kaggle-creds\n",
      "Your Kaggle username: anirbansahaanik\n",
      "Your Kaggle Key: ········\n"
     ]
    },
    {
     "name": "stderr",
     "output_type": "stream",
     "text": [
      "100%|██████████| 656k/656k [00:00<00:00, 63.3MB/s]"
     ]
    },
    {
     "name": "stdout",
     "output_type": "stream",
     "text": [
      "Downloading covid-world-vaccination-progress.zip to ./covid-world-vaccination-progress\n",
      "\n"
     ]
    },
    {
     "name": "stderr",
     "output_type": "stream",
     "text": [
      "\n"
     ]
    }
   ],
   "source": [
    "import opendatasets as od\n",
    "od.download(dataset_url)"
   ]
  },
  {
   "cell_type": "markdown",
   "metadata": {
    "id": "Rd5AD0KxKFJ2"
   },
   "source": [
    "The dataset has been downloaded and extracted."
   ]
  },
  {
   "cell_type": "code",
   "execution_count": 4,
   "metadata": {
    "executionInfo": {
     "elapsed": 21,
     "status": "ok",
     "timestamp": 1625423458034,
     "user": {
      "displayName": "Anirban Saha",
      "photoUrl": "https://lh3.googleusercontent.com/a-/AOh14Gjyb92afz3EKbQ81YgXIXJ2xTvOb0I8CeT4KMiDTw=s64",
      "userId": "02348100453944470349"
     },
     "user_tz": -360
    },
    "id": "YLqJOuP9KFJ3"
   },
   "outputs": [],
   "source": [
    "data_dir = './covid-world-vaccination-progress'"
   ]
  },
  {
   "cell_type": "code",
   "execution_count": 5,
   "metadata": {
    "colab": {
     "base_uri": "https://localhost:8080/"
    },
    "executionInfo": {
     "elapsed": 21,
     "status": "ok",
     "timestamp": 1625423458035,
     "user": {
      "displayName": "Anirban Saha",
      "photoUrl": "https://lh3.googleusercontent.com/a-/AOh14Gjyb92afz3EKbQ81YgXIXJ2xTvOb0I8CeT4KMiDTw=s64",
      "userId": "02348100453944470349"
     },
     "user_tz": -360
    },
    "id": "GzIJSXmaKFJ3",
    "outputId": "a91d3384-40cd-461f-efbd-000d6eba5bbf"
   },
   "outputs": [
    {
     "data": {
      "text/plain": [
       "['country_vaccinations_by_manufacturer.csv', 'country_vaccinations.csv']"
      ]
     },
     "execution_count": 5,
     "metadata": {},
     "output_type": "execute_result"
    }
   ],
   "source": [
    "import os\n",
    "os.listdir(data_dir)"
   ]
  },
  {
   "cell_type": "markdown",
   "metadata": {
    "id": "3TSd6WkxKFJ3"
   },
   "source": [
    "Let us save and upload our work to Jovian before continuing."
   ]
  },
  {
   "cell_type": "code",
   "execution_count": 5,
   "metadata": {
    "executionInfo": {
     "elapsed": 12,
     "status": "ok",
     "timestamp": 1625423458036,
     "user": {
      "displayName": "Anirban Saha",
      "photoUrl": "https://lh3.googleusercontent.com/a-/AOh14Gjyb92afz3EKbQ81YgXIXJ2xTvOb0I8CeT4KMiDTw=s64",
      "userId": "02348100453944470349"
     },
     "user_tz": -360
    },
    "id": "uVLmQHsZKFJ4"
   },
   "outputs": [],
   "source": [
    "project_name = \"covid-19-vaccinations-data-analysis\""
   ]
  },
  {
   "cell_type": "code",
   "execution_count": 2,
   "metadata": {
    "executionInfo": {
     "elapsed": 2834,
     "status": "ok",
     "timestamp": 1625423460858,
     "user": {
      "displayName": "Anirban Saha",
      "photoUrl": "https://lh3.googleusercontent.com/a-/AOh14Gjyb92afz3EKbQ81YgXIXJ2xTvOb0I8CeT4KMiDTw=s64",
      "userId": "02348100453944470349"
     },
     "user_tz": -360
    },
    "id": "EJJohdgZKFJ4"
   },
   "outputs": [],
   "source": [
    "!pip install jovian --upgrade -q"
   ]
  },
  {
   "cell_type": "code",
   "execution_count": 3,
   "metadata": {
    "executionInfo": {
     "elapsed": 15,
     "status": "ok",
     "timestamp": 1625423460859,
     "user": {
      "displayName": "Anirban Saha",
      "photoUrl": "https://lh3.googleusercontent.com/a-/AOh14Gjyb92afz3EKbQ81YgXIXJ2xTvOb0I8CeT4KMiDTw=s64",
      "userId": "02348100453944470349"
     },
     "user_tz": -360
    },
    "id": "9pgdRoB-KFJ4"
   },
   "outputs": [],
   "source": [
    "import jovian"
   ]
  },
  {
   "cell_type": "code",
   "execution_count": 6,
   "metadata": {
    "colab": {
     "base_uri": "https://localhost:8080/",
     "height": 86
    },
    "executionInfo": {
     "elapsed": 2685,
     "status": "ok",
     "timestamp": 1625423463530,
     "user": {
      "displayName": "Anirban Saha",
      "photoUrl": "https://lh3.googleusercontent.com/a-/AOh14Gjyb92afz3EKbQ81YgXIXJ2xTvOb0I8CeT4KMiDTw=s64",
      "userId": "02348100453944470349"
     },
     "user_tz": -360
    },
    "id": "7M7bEwdfKFJ4",
    "outputId": "f012469f-035d-4a2e-c70b-698381b2e466"
   },
   "outputs": [
    {
     "data": {
      "application/javascript": [
       "window.require && require([\"base/js/namespace\"],function(Jupyter){Jupyter.notebook.save_checkpoint()})"
      ],
      "text/plain": [
       "<IPython.core.display.Javascript object>"
      ]
     },
     "metadata": {},
     "output_type": "display_data"
    },
    {
     "name": "stdout",
     "output_type": "stream",
     "text": [
      "[jovian] Updating notebook \"anirbansaha/covid-19-vaccinations-data-analysis\" on https://jovian.ai\u001b[0m\n",
      "[jovian] Committed successfully! https://jovian.ai/anirbansaha/covid-19-vaccinations-data-analysis\u001b[0m\n"
     ]
    },
    {
     "data": {
      "text/plain": [
       "'https://jovian.ai/anirbansaha/covid-19-vaccinations-data-analysis'"
      ]
     },
     "execution_count": 6,
     "metadata": {},
     "output_type": "execute_result"
    }
   ],
   "source": [
    "jovian.commit(project=project_name)"
   ]
  },
  {
   "cell_type": "markdown",
   "metadata": {
    "id": "MMBgDe7hKFJ5"
   },
   "source": [
    "## Data Preparation and Cleaning\n",
    "\n",
    "\n"
   ]
  },
  {
   "cell_type": "markdown",
   "metadata": {
    "id": "Ytnk1yQLKFJ5"
   },
   "source": [
    "\n",
    ">\n",
    "> - Load the dataset into a data frame using Pandas\n",
    "> - Explore the number of rows & columns, ranges of values etc.\n",
    "> - Handle missing, incorrect and invalid data"
   ]
  },
  {
   "cell_type": "code",
   "execution_count": 10,
   "metadata": {
    "executionInfo": {
     "elapsed": 71,
     "status": "ok",
     "timestamp": 1625423463531,
     "user": {
      "displayName": "Anirban Saha",
      "photoUrl": "https://lh3.googleusercontent.com/a-/AOh14Gjyb92afz3EKbQ81YgXIXJ2xTvOb0I8CeT4KMiDTw=s64",
      "userId": "02348100453944470349"
     },
     "user_tz": -360
    },
    "id": "-zRlXo1NKFJ5"
   },
   "outputs": [],
   "source": [
    "import pandas as pd"
   ]
  },
  {
   "cell_type": "code",
   "execution_count": 11,
   "metadata": {
    "executionInfo": {
     "elapsed": 70,
     "status": "ok",
     "timestamp": 1625423463532,
     "user": {
      "displayName": "Anirban Saha",
      "photoUrl": "https://lh3.googleusercontent.com/a-/AOh14Gjyb92afz3EKbQ81YgXIXJ2xTvOb0I8CeT4KMiDTw=s64",
      "userId": "02348100453944470349"
     },
     "user_tz": -360
    },
    "id": "75UhJLpIKFJ5"
   },
   "outputs": [],
   "source": [
    "vaccinations_df = pd.read_csv('covid-world-vaccination-progress/country_vaccinations.csv')"
   ]
  },
  {
   "cell_type": "code",
   "execution_count": 12,
   "metadata": {
    "colab": {
     "base_uri": "https://localhost:8080/",
     "height": 689
    },
    "executionInfo": {
     "elapsed": 69,
     "status": "ok",
     "timestamp": 1625423463533,
     "user": {
      "displayName": "Anirban Saha",
      "photoUrl": "https://lh3.googleusercontent.com/a-/AOh14Gjyb92afz3EKbQ81YgXIXJ2xTvOb0I8CeT4KMiDTw=s64",
      "userId": "02348100453944470349"
     },
     "user_tz": -360
    },
    "id": "MNRYARTUKFJ5",
    "outputId": "043334e7-78c5-49ba-ec81-7de4a05ad293"
   },
   "outputs": [
    {
     "data": {
      "text/html": [
       "<div>\n",
       "<style scoped>\n",
       "    .dataframe tbody tr th:only-of-type {\n",
       "        vertical-align: middle;\n",
       "    }\n",
       "\n",
       "    .dataframe tbody tr th {\n",
       "        vertical-align: top;\n",
       "    }\n",
       "\n",
       "    .dataframe thead th {\n",
       "        text-align: right;\n",
       "    }\n",
       "</style>\n",
       "<table border=\"1\" class=\"dataframe\">\n",
       "  <thead>\n",
       "    <tr style=\"text-align: right;\">\n",
       "      <th></th>\n",
       "      <th>country</th>\n",
       "      <th>iso_code</th>\n",
       "      <th>date</th>\n",
       "      <th>total_vaccinations</th>\n",
       "      <th>people_vaccinated</th>\n",
       "      <th>people_fully_vaccinated</th>\n",
       "      <th>daily_vaccinations_raw</th>\n",
       "      <th>daily_vaccinations</th>\n",
       "      <th>total_vaccinations_per_hundred</th>\n",
       "      <th>people_vaccinated_per_hundred</th>\n",
       "      <th>people_fully_vaccinated_per_hundred</th>\n",
       "      <th>daily_vaccinations_per_million</th>\n",
       "      <th>vaccines</th>\n",
       "      <th>source_name</th>\n",
       "      <th>source_website</th>\n",
       "    </tr>\n",
       "  </thead>\n",
       "  <tbody>\n",
       "    <tr>\n",
       "      <th>0</th>\n",
       "      <td>Afghanistan</td>\n",
       "      <td>AFG</td>\n",
       "      <td>2021-02-22</td>\n",
       "      <td>0.0</td>\n",
       "      <td>0.0</td>\n",
       "      <td>NaN</td>\n",
       "      <td>NaN</td>\n",
       "      <td>NaN</td>\n",
       "      <td>0.00</td>\n",
       "      <td>0.00</td>\n",
       "      <td>NaN</td>\n",
       "      <td>NaN</td>\n",
       "      <td>BBIBP-CorV, Oxford/AstraZeneca, Pfizer/BioNTech</td>\n",
       "      <td>World Health Organization</td>\n",
       "      <td>https://covid19.who.int/</td>\n",
       "    </tr>\n",
       "    <tr>\n",
       "      <th>1</th>\n",
       "      <td>Afghanistan</td>\n",
       "      <td>AFG</td>\n",
       "      <td>2021-02-23</td>\n",
       "      <td>NaN</td>\n",
       "      <td>NaN</td>\n",
       "      <td>NaN</td>\n",
       "      <td>NaN</td>\n",
       "      <td>1367.0</td>\n",
       "      <td>NaN</td>\n",
       "      <td>NaN</td>\n",
       "      <td>NaN</td>\n",
       "      <td>35.0</td>\n",
       "      <td>BBIBP-CorV, Oxford/AstraZeneca, Pfizer/BioNTech</td>\n",
       "      <td>World Health Organization</td>\n",
       "      <td>https://covid19.who.int/</td>\n",
       "    </tr>\n",
       "    <tr>\n",
       "      <th>2</th>\n",
       "      <td>Afghanistan</td>\n",
       "      <td>AFG</td>\n",
       "      <td>2021-02-24</td>\n",
       "      <td>NaN</td>\n",
       "      <td>NaN</td>\n",
       "      <td>NaN</td>\n",
       "      <td>NaN</td>\n",
       "      <td>1367.0</td>\n",
       "      <td>NaN</td>\n",
       "      <td>NaN</td>\n",
       "      <td>NaN</td>\n",
       "      <td>35.0</td>\n",
       "      <td>BBIBP-CorV, Oxford/AstraZeneca, Pfizer/BioNTech</td>\n",
       "      <td>World Health Organization</td>\n",
       "      <td>https://covid19.who.int/</td>\n",
       "    </tr>\n",
       "    <tr>\n",
       "      <th>3</th>\n",
       "      <td>Afghanistan</td>\n",
       "      <td>AFG</td>\n",
       "      <td>2021-02-25</td>\n",
       "      <td>NaN</td>\n",
       "      <td>NaN</td>\n",
       "      <td>NaN</td>\n",
       "      <td>NaN</td>\n",
       "      <td>1367.0</td>\n",
       "      <td>NaN</td>\n",
       "      <td>NaN</td>\n",
       "      <td>NaN</td>\n",
       "      <td>35.0</td>\n",
       "      <td>BBIBP-CorV, Oxford/AstraZeneca, Pfizer/BioNTech</td>\n",
       "      <td>World Health Organization</td>\n",
       "      <td>https://covid19.who.int/</td>\n",
       "    </tr>\n",
       "    <tr>\n",
       "      <th>4</th>\n",
       "      <td>Afghanistan</td>\n",
       "      <td>AFG</td>\n",
       "      <td>2021-02-26</td>\n",
       "      <td>NaN</td>\n",
       "      <td>NaN</td>\n",
       "      <td>NaN</td>\n",
       "      <td>NaN</td>\n",
       "      <td>1367.0</td>\n",
       "      <td>NaN</td>\n",
       "      <td>NaN</td>\n",
       "      <td>NaN</td>\n",
       "      <td>35.0</td>\n",
       "      <td>BBIBP-CorV, Oxford/AstraZeneca, Pfizer/BioNTech</td>\n",
       "      <td>World Health Organization</td>\n",
       "      <td>https://covid19.who.int/</td>\n",
       "    </tr>\n",
       "    <tr>\n",
       "      <th>...</th>\n",
       "      <td>...</td>\n",
       "      <td>...</td>\n",
       "      <td>...</td>\n",
       "      <td>...</td>\n",
       "      <td>...</td>\n",
       "      <td>...</td>\n",
       "      <td>...</td>\n",
       "      <td>...</td>\n",
       "      <td>...</td>\n",
       "      <td>...</td>\n",
       "      <td>...</td>\n",
       "      <td>...</td>\n",
       "      <td>...</td>\n",
       "      <td>...</td>\n",
       "      <td>...</td>\n",
       "    </tr>\n",
       "    <tr>\n",
       "      <th>28517</th>\n",
       "      <td>Zimbabwe</td>\n",
       "      <td>ZWE</td>\n",
       "      <td>2021-06-26</td>\n",
       "      <td>1249508.0</td>\n",
       "      <td>747330.0</td>\n",
       "      <td>502178.0</td>\n",
       "      <td>27591.0</td>\n",
       "      <td>16513.0</td>\n",
       "      <td>8.41</td>\n",
       "      <td>5.03</td>\n",
       "      <td>3.38</td>\n",
       "      <td>1111.0</td>\n",
       "      <td>Sinopharm/Beijing</td>\n",
       "      <td>Ministry of Health</td>\n",
       "      <td>https://twitter.com/MoHCCZim/status/1410331136...</td>\n",
       "    </tr>\n",
       "    <tr>\n",
       "      <th>28518</th>\n",
       "      <td>Zimbabwe</td>\n",
       "      <td>ZWE</td>\n",
       "      <td>2021-06-27</td>\n",
       "      <td>1275259.0</td>\n",
       "      <td>756291.0</td>\n",
       "      <td>518968.0</td>\n",
       "      <td>25751.0</td>\n",
       "      <td>19504.0</td>\n",
       "      <td>8.58</td>\n",
       "      <td>5.09</td>\n",
       "      <td>3.49</td>\n",
       "      <td>1312.0</td>\n",
       "      <td>Sinopharm/Beijing</td>\n",
       "      <td>Ministry of Health</td>\n",
       "      <td>https://twitter.com/MoHCCZim/status/1410331136...</td>\n",
       "    </tr>\n",
       "    <tr>\n",
       "      <th>28519</th>\n",
       "      <td>Zimbabwe</td>\n",
       "      <td>ZWE</td>\n",
       "      <td>2021-06-28</td>\n",
       "      <td>1299154.0</td>\n",
       "      <td>764248.0</td>\n",
       "      <td>534906.0</td>\n",
       "      <td>23895.0</td>\n",
       "      <td>22615.0</td>\n",
       "      <td>8.74</td>\n",
       "      <td>5.14</td>\n",
       "      <td>3.60</td>\n",
       "      <td>1522.0</td>\n",
       "      <td>Sinopharm/Beijing</td>\n",
       "      <td>Ministry of Health</td>\n",
       "      <td>https://twitter.com/MoHCCZim/status/1410331136...</td>\n",
       "    </tr>\n",
       "    <tr>\n",
       "      <th>28520</th>\n",
       "      <td>Zimbabwe</td>\n",
       "      <td>ZWE</td>\n",
       "      <td>2021-06-29</td>\n",
       "      <td>1315597.0</td>\n",
       "      <td>770709.0</td>\n",
       "      <td>544888.0</td>\n",
       "      <td>16443.0</td>\n",
       "      <td>24174.0</td>\n",
       "      <td>8.85</td>\n",
       "      <td>5.19</td>\n",
       "      <td>3.67</td>\n",
       "      <td>1626.0</td>\n",
       "      <td>Sinopharm/Beijing</td>\n",
       "      <td>Ministry of Health</td>\n",
       "      <td>https://twitter.com/MoHCCZim/status/1410331136...</td>\n",
       "    </tr>\n",
       "    <tr>\n",
       "      <th>28521</th>\n",
       "      <td>Zimbabwe</td>\n",
       "      <td>ZWE</td>\n",
       "      <td>2021-06-30</td>\n",
       "      <td>1332438.0</td>\n",
       "      <td>777161.0</td>\n",
       "      <td>555277.0</td>\n",
       "      <td>16841.0</td>\n",
       "      <td>23656.0</td>\n",
       "      <td>8.96</td>\n",
       "      <td>5.23</td>\n",
       "      <td>3.74</td>\n",
       "      <td>1592.0</td>\n",
       "      <td>Sinopharm/Beijing</td>\n",
       "      <td>Ministry of Health</td>\n",
       "      <td>https://twitter.com/MoHCCZim/status/1410331136...</td>\n",
       "    </tr>\n",
       "  </tbody>\n",
       "</table>\n",
       "<p>28522 rows × 15 columns</p>\n",
       "</div>"
      ],
      "text/plain": [
       "           country iso_code        date  total_vaccinations  \\\n",
       "0      Afghanistan      AFG  2021-02-22                 0.0   \n",
       "1      Afghanistan      AFG  2021-02-23                 NaN   \n",
       "2      Afghanistan      AFG  2021-02-24                 NaN   \n",
       "3      Afghanistan      AFG  2021-02-25                 NaN   \n",
       "4      Afghanistan      AFG  2021-02-26                 NaN   \n",
       "...            ...      ...         ...                 ...   \n",
       "28517     Zimbabwe      ZWE  2021-06-26           1249508.0   \n",
       "28518     Zimbabwe      ZWE  2021-06-27           1275259.0   \n",
       "28519     Zimbabwe      ZWE  2021-06-28           1299154.0   \n",
       "28520     Zimbabwe      ZWE  2021-06-29           1315597.0   \n",
       "28521     Zimbabwe      ZWE  2021-06-30           1332438.0   \n",
       "\n",
       "       people_vaccinated  people_fully_vaccinated  daily_vaccinations_raw  \\\n",
       "0                    0.0                      NaN                     NaN   \n",
       "1                    NaN                      NaN                     NaN   \n",
       "2                    NaN                      NaN                     NaN   \n",
       "3                    NaN                      NaN                     NaN   \n",
       "4                    NaN                      NaN                     NaN   \n",
       "...                  ...                      ...                     ...   \n",
       "28517           747330.0                 502178.0                 27591.0   \n",
       "28518           756291.0                 518968.0                 25751.0   \n",
       "28519           764248.0                 534906.0                 23895.0   \n",
       "28520           770709.0                 544888.0                 16443.0   \n",
       "28521           777161.0                 555277.0                 16841.0   \n",
       "\n",
       "       daily_vaccinations  total_vaccinations_per_hundred  \\\n",
       "0                     NaN                            0.00   \n",
       "1                  1367.0                             NaN   \n",
       "2                  1367.0                             NaN   \n",
       "3                  1367.0                             NaN   \n",
       "4                  1367.0                             NaN   \n",
       "...                   ...                             ...   \n",
       "28517             16513.0                            8.41   \n",
       "28518             19504.0                            8.58   \n",
       "28519             22615.0                            8.74   \n",
       "28520             24174.0                            8.85   \n",
       "28521             23656.0                            8.96   \n",
       "\n",
       "       people_vaccinated_per_hundred  people_fully_vaccinated_per_hundred  \\\n",
       "0                               0.00                                  NaN   \n",
       "1                                NaN                                  NaN   \n",
       "2                                NaN                                  NaN   \n",
       "3                                NaN                                  NaN   \n",
       "4                                NaN                                  NaN   \n",
       "...                              ...                                  ...   \n",
       "28517                           5.03                                 3.38   \n",
       "28518                           5.09                                 3.49   \n",
       "28519                           5.14                                 3.60   \n",
       "28520                           5.19                                 3.67   \n",
       "28521                           5.23                                 3.74   \n",
       "\n",
       "       daily_vaccinations_per_million  \\\n",
       "0                                 NaN   \n",
       "1                                35.0   \n",
       "2                                35.0   \n",
       "3                                35.0   \n",
       "4                                35.0   \n",
       "...                               ...   \n",
       "28517                          1111.0   \n",
       "28518                          1312.0   \n",
       "28519                          1522.0   \n",
       "28520                          1626.0   \n",
       "28521                          1592.0   \n",
       "\n",
       "                                              vaccines  \\\n",
       "0      BBIBP-CorV, Oxford/AstraZeneca, Pfizer/BioNTech   \n",
       "1      BBIBP-CorV, Oxford/AstraZeneca, Pfizer/BioNTech   \n",
       "2      BBIBP-CorV, Oxford/AstraZeneca, Pfizer/BioNTech   \n",
       "3      BBIBP-CorV, Oxford/AstraZeneca, Pfizer/BioNTech   \n",
       "4      BBIBP-CorV, Oxford/AstraZeneca, Pfizer/BioNTech   \n",
       "...                                                ...   \n",
       "28517                                Sinopharm/Beijing   \n",
       "28518                                Sinopharm/Beijing   \n",
       "28519                                Sinopharm/Beijing   \n",
       "28520                                Sinopharm/Beijing   \n",
       "28521                                Sinopharm/Beijing   \n",
       "\n",
       "                     source_name  \\\n",
       "0      World Health Organization   \n",
       "1      World Health Organization   \n",
       "2      World Health Organization   \n",
       "3      World Health Organization   \n",
       "4      World Health Organization   \n",
       "...                          ...   \n",
       "28517         Ministry of Health   \n",
       "28518         Ministry of Health   \n",
       "28519         Ministry of Health   \n",
       "28520         Ministry of Health   \n",
       "28521         Ministry of Health   \n",
       "\n",
       "                                          source_website  \n",
       "0                               https://covid19.who.int/  \n",
       "1                               https://covid19.who.int/  \n",
       "2                               https://covid19.who.int/  \n",
       "3                               https://covid19.who.int/  \n",
       "4                               https://covid19.who.int/  \n",
       "...                                                  ...  \n",
       "28517  https://twitter.com/MoHCCZim/status/1410331136...  \n",
       "28518  https://twitter.com/MoHCCZim/status/1410331136...  \n",
       "28519  https://twitter.com/MoHCCZim/status/1410331136...  \n",
       "28520  https://twitter.com/MoHCCZim/status/1410331136...  \n",
       "28521  https://twitter.com/MoHCCZim/status/1410331136...  \n",
       "\n",
       "[28522 rows x 15 columns]"
      ]
     },
     "execution_count": 12,
     "metadata": {},
     "output_type": "execute_result"
    }
   ],
   "source": [
    "vaccinations_df"
   ]
  },
  {
   "cell_type": "code",
   "execution_count": 13,
   "metadata": {
    "colab": {
     "base_uri": "https://localhost:8080/"
    },
    "executionInfo": {
     "elapsed": 66,
     "status": "ok",
     "timestamp": 1625423463533,
     "user": {
      "displayName": "Anirban Saha",
      "photoUrl": "https://lh3.googleusercontent.com/a-/AOh14Gjyb92afz3EKbQ81YgXIXJ2xTvOb0I8CeT4KMiDTw=s64",
      "userId": "02348100453944470349"
     },
     "user_tz": -360
    },
    "id": "2pXW-gXcKFJ5",
    "outputId": "d3a1fbf0-a2ab-44d6-e244-eca15eec7bae"
   },
   "outputs": [
    {
     "name": "stdout",
     "output_type": "stream",
     "text": [
      "<class 'pandas.core.frame.DataFrame'>\n",
      "RangeIndex: 28522 entries, 0 to 28521\n",
      "Data columns (total 15 columns):\n",
      " #   Column                               Non-Null Count  Dtype  \n",
      "---  ------                               --------------  -----  \n",
      " 0   country                              28522 non-null  object \n",
      " 1   iso_code                             28522 non-null  object \n",
      " 2   date                                 28522 non-null  object \n",
      " 3   total_vaccinations                   16004 non-null  float64\n",
      " 4   people_vaccinated                    15180 non-null  float64\n",
      " 5   people_fully_vaccinated              12451 non-null  float64\n",
      " 6   daily_vaccinations_raw               13226 non-null  float64\n",
      " 7   daily_vaccinations                   28246 non-null  float64\n",
      " 8   total_vaccinations_per_hundred       16004 non-null  float64\n",
      " 9   people_vaccinated_per_hundred        15180 non-null  float64\n",
      " 10  people_fully_vaccinated_per_hundred  12451 non-null  float64\n",
      " 11  daily_vaccinations_per_million       28246 non-null  float64\n",
      " 12  vaccines                             28522 non-null  object \n",
      " 13  source_name                          28522 non-null  object \n",
      " 14  source_website                       28522 non-null  object \n",
      "dtypes: float64(9), object(6)\n",
      "memory usage: 3.3+ MB\n"
     ]
    }
   ],
   "source": [
    "vaccinations_df.info()"
   ]
  },
  {
   "cell_type": "code",
   "execution_count": 14,
   "metadata": {
    "colab": {
     "base_uri": "https://localhost:8080/"
    },
    "executionInfo": {
     "elapsed": 53,
     "status": "ok",
     "timestamp": 1625423463534,
     "user": {
      "displayName": "Anirban Saha",
      "photoUrl": "https://lh3.googleusercontent.com/a-/AOh14Gjyb92afz3EKbQ81YgXIXJ2xTvOb0I8CeT4KMiDTw=s64",
      "userId": "02348100453944470349"
     },
     "user_tz": -360
    },
    "id": "ANJKvi1HKFJ5",
    "outputId": "52b09713-4d29-4bfe-95f1-2e159879788a"
   },
   "outputs": [
    {
     "data": {
      "text/plain": [
       "Index(['country', 'iso_code', 'date', 'total_vaccinations',\n",
       "       'people_vaccinated', 'people_fully_vaccinated',\n",
       "       'daily_vaccinations_raw', 'daily_vaccinations',\n",
       "       'total_vaccinations_per_hundred', 'people_vaccinated_per_hundred',\n",
       "       'people_fully_vaccinated_per_hundred', 'daily_vaccinations_per_million',\n",
       "       'vaccines', 'source_name', 'source_website'],\n",
       "      dtype='object')"
      ]
     },
     "execution_count": 14,
     "metadata": {},
     "output_type": "execute_result"
    }
   ],
   "source": [
    "vaccinations_df.columns"
   ]
  },
  {
   "cell_type": "code",
   "execution_count": 15,
   "metadata": {
    "colab": {
     "base_uri": "https://localhost:8080/"
    },
    "executionInfo": {
     "elapsed": 42,
     "status": "ok",
     "timestamp": 1625423463535,
     "user": {
      "displayName": "Anirban Saha",
      "photoUrl": "https://lh3.googleusercontent.com/a-/AOh14Gjyb92afz3EKbQ81YgXIXJ2xTvOb0I8CeT4KMiDTw=s64",
      "userId": "02348100453944470349"
     },
     "user_tz": -360
    },
    "id": "CPFyjZyXKFJ6",
    "outputId": "8d230dc0-e561-4b3a-9aed-837a22b93c0c"
   },
   "outputs": [
    {
     "data": {
      "text/plain": [
       "(28522, 15)"
      ]
     },
     "execution_count": 15,
     "metadata": {},
     "output_type": "execute_result"
    }
   ],
   "source": [
    "vaccinations_df.shape"
   ]
  },
  {
   "cell_type": "code",
   "execution_count": 16,
   "metadata": {
    "colab": {
     "base_uri": "https://localhost:8080/",
     "height": 315
    },
    "executionInfo": {
     "elapsed": 32,
     "status": "ok",
     "timestamp": 1625423463536,
     "user": {
      "displayName": "Anirban Saha",
      "photoUrl": "https://lh3.googleusercontent.com/a-/AOh14Gjyb92afz3EKbQ81YgXIXJ2xTvOb0I8CeT4KMiDTw=s64",
      "userId": "02348100453944470349"
     },
     "user_tz": -360
    },
    "id": "il6PBQMZKFJ6",
    "outputId": "8baa771b-ea69-422e-c6ff-edb25338c9bb"
   },
   "outputs": [
    {
     "data": {
      "text/html": [
       "<div>\n",
       "<style scoped>\n",
       "    .dataframe tbody tr th:only-of-type {\n",
       "        vertical-align: middle;\n",
       "    }\n",
       "\n",
       "    .dataframe tbody tr th {\n",
       "        vertical-align: top;\n",
       "    }\n",
       "\n",
       "    .dataframe thead th {\n",
       "        text-align: right;\n",
       "    }\n",
       "</style>\n",
       "<table border=\"1\" class=\"dataframe\">\n",
       "  <thead>\n",
       "    <tr style=\"text-align: right;\">\n",
       "      <th></th>\n",
       "      <th>total_vaccinations</th>\n",
       "      <th>people_vaccinated</th>\n",
       "      <th>people_fully_vaccinated</th>\n",
       "      <th>daily_vaccinations_raw</th>\n",
       "      <th>daily_vaccinations</th>\n",
       "      <th>total_vaccinations_per_hundred</th>\n",
       "      <th>people_vaccinated_per_hundred</th>\n",
       "      <th>people_fully_vaccinated_per_hundred</th>\n",
       "      <th>daily_vaccinations_per_million</th>\n",
       "    </tr>\n",
       "  </thead>\n",
       "  <tbody>\n",
       "    <tr>\n",
       "      <th>count</th>\n",
       "      <td>1.600400e+04</td>\n",
       "      <td>1.518000e+04</td>\n",
       "      <td>1.245100e+04</td>\n",
       "      <td>1.322600e+04</td>\n",
       "      <td>2.824600e+04</td>\n",
       "      <td>16004.000000</td>\n",
       "      <td>15180.000000</td>\n",
       "      <td>12451.000000</td>\n",
       "      <td>28246.000000</td>\n",
       "    </tr>\n",
       "    <tr>\n",
       "      <th>mean</th>\n",
       "      <td>1.060921e+07</td>\n",
       "      <td>5.222976e+06</td>\n",
       "      <td>2.974716e+06</td>\n",
       "      <td>2.216665e+05</td>\n",
       "      <td>1.116390e+05</td>\n",
       "      <td>26.618201</td>\n",
       "      <td>17.659901</td>\n",
       "      <td>10.922534</td>\n",
       "      <td>3372.907385</td>\n",
       "    </tr>\n",
       "    <tr>\n",
       "      <th>std</th>\n",
       "      <td>5.669276e+07</td>\n",
       "      <td>1.963600e+07</td>\n",
       "      <td>1.169997e+07</td>\n",
       "      <td>1.263840e+06</td>\n",
       "      <td>8.399740e+05</td>\n",
       "      <td>32.828131</td>\n",
       "      <td>19.774955</td>\n",
       "      <td>14.603075</td>\n",
       "      <td>4507.840751</td>\n",
       "    </tr>\n",
       "    <tr>\n",
       "      <th>min</th>\n",
       "      <td>0.000000e+00</td>\n",
       "      <td>0.000000e+00</td>\n",
       "      <td>1.000000e+00</td>\n",
       "      <td>0.000000e+00</td>\n",
       "      <td>0.000000e+00</td>\n",
       "      <td>0.000000</td>\n",
       "      <td>0.000000</td>\n",
       "      <td>0.000000</td>\n",
       "      <td>0.000000</td>\n",
       "    </tr>\n",
       "    <tr>\n",
       "      <th>25%</th>\n",
       "      <td>1.142102e+05</td>\n",
       "      <td>8.810375e+04</td>\n",
       "      <td>4.270550e+04</td>\n",
       "      <td>4.179250e+03</td>\n",
       "      <td>8.470000e+02</td>\n",
       "      <td>2.620000</td>\n",
       "      <td>2.260000</td>\n",
       "      <td>1.140000</td>\n",
       "      <td>398.250000</td>\n",
       "    </tr>\n",
       "    <tr>\n",
       "      <th>50%</th>\n",
       "      <td>7.967755e+05</td>\n",
       "      <td>5.741350e+05</td>\n",
       "      <td>3.193950e+05</td>\n",
       "      <td>2.093550e+04</td>\n",
       "      <td>6.346000e+03</td>\n",
       "      <td>12.900000</td>\n",
       "      <td>9.510000</td>\n",
       "      <td>4.760000</td>\n",
       "      <td>1794.500000</td>\n",
       "    </tr>\n",
       "    <tr>\n",
       "      <th>75%</th>\n",
       "      <td>3.725379e+06</td>\n",
       "      <td>2.457596e+06</td>\n",
       "      <td>1.390208e+06</td>\n",
       "      <td>9.012075e+04</td>\n",
       "      <td>3.489700e+04</td>\n",
       "      <td>39.222500</td>\n",
       "      <td>27.715000</td>\n",
       "      <td>14.790000</td>\n",
       "      <td>5037.750000</td>\n",
       "    </tr>\n",
       "    <tr>\n",
       "      <th>max</th>\n",
       "      <td>1.296037e+09</td>\n",
       "      <td>6.220000e+08</td>\n",
       "      <td>2.232990e+08</td>\n",
       "      <td>2.474100e+07</td>\n",
       "      <td>2.242429e+07</td>\n",
       "      <td>231.780000</td>\n",
       "      <td>116.460000</td>\n",
       "      <td>115.320000</td>\n",
       "      <td>118759.000000</td>\n",
       "    </tr>\n",
       "  </tbody>\n",
       "</table>\n",
       "</div>"
      ],
      "text/plain": [
       "       total_vaccinations  people_vaccinated  people_fully_vaccinated  \\\n",
       "count        1.600400e+04       1.518000e+04             1.245100e+04   \n",
       "mean         1.060921e+07       5.222976e+06             2.974716e+06   \n",
       "std          5.669276e+07       1.963600e+07             1.169997e+07   \n",
       "min          0.000000e+00       0.000000e+00             1.000000e+00   \n",
       "25%          1.142102e+05       8.810375e+04             4.270550e+04   \n",
       "50%          7.967755e+05       5.741350e+05             3.193950e+05   \n",
       "75%          3.725379e+06       2.457596e+06             1.390208e+06   \n",
       "max          1.296037e+09       6.220000e+08             2.232990e+08   \n",
       "\n",
       "       daily_vaccinations_raw  daily_vaccinations  \\\n",
       "count            1.322600e+04        2.824600e+04   \n",
       "mean             2.216665e+05        1.116390e+05   \n",
       "std              1.263840e+06        8.399740e+05   \n",
       "min              0.000000e+00        0.000000e+00   \n",
       "25%              4.179250e+03        8.470000e+02   \n",
       "50%              2.093550e+04        6.346000e+03   \n",
       "75%              9.012075e+04        3.489700e+04   \n",
       "max              2.474100e+07        2.242429e+07   \n",
       "\n",
       "       total_vaccinations_per_hundred  people_vaccinated_per_hundred  \\\n",
       "count                    16004.000000                   15180.000000   \n",
       "mean                        26.618201                      17.659901   \n",
       "std                         32.828131                      19.774955   \n",
       "min                          0.000000                       0.000000   \n",
       "25%                          2.620000                       2.260000   \n",
       "50%                         12.900000                       9.510000   \n",
       "75%                         39.222500                      27.715000   \n",
       "max                        231.780000                     116.460000   \n",
       "\n",
       "       people_fully_vaccinated_per_hundred  daily_vaccinations_per_million  \n",
       "count                         12451.000000                    28246.000000  \n",
       "mean                             10.922534                     3372.907385  \n",
       "std                              14.603075                     4507.840751  \n",
       "min                               0.000000                        0.000000  \n",
       "25%                               1.140000                      398.250000  \n",
       "50%                               4.760000                     1794.500000  \n",
       "75%                              14.790000                     5037.750000  \n",
       "max                             115.320000                   118759.000000  "
      ]
     },
     "execution_count": 16,
     "metadata": {},
     "output_type": "execute_result"
    }
   ],
   "source": [
    "vaccinations_df.describe()"
   ]
  },
  {
   "cell_type": "code",
   "execution_count": 17,
   "metadata": {
    "colab": {
     "base_uri": "https://localhost:8080/"
    },
    "executionInfo": {
     "elapsed": 386,
     "status": "ok",
     "timestamp": 1625423687561,
     "user": {
      "displayName": "Anirban Saha",
      "photoUrl": "https://lh3.googleusercontent.com/a-/AOh14Gjyb92afz3EKbQ81YgXIXJ2xTvOb0I8CeT4KMiDTw=s64",
      "userId": "02348100453944470349"
     },
     "user_tz": -360
    },
    "id": "GSo1sCWZzLxL",
    "outputId": "1457e641-59e7-4f3d-dc3e-57814aa4e1b4"
   },
   "outputs": [
    {
     "data": {
      "text/plain": [
       "country                                    0\n",
       "iso_code                                   0\n",
       "date                                       0\n",
       "total_vaccinations                     12518\n",
       "people_vaccinated                      13342\n",
       "people_fully_vaccinated                16071\n",
       "daily_vaccinations_raw                 15296\n",
       "daily_vaccinations                       276\n",
       "total_vaccinations_per_hundred         12518\n",
       "people_vaccinated_per_hundred          13342\n",
       "people_fully_vaccinated_per_hundred    16071\n",
       "daily_vaccinations_per_million           276\n",
       "vaccines                                   0\n",
       "source_name                                0\n",
       "source_website                             0\n",
       "dtype: int64"
      ]
     },
     "execution_count": 17,
     "metadata": {},
     "output_type": "execute_result"
    }
   ],
   "source": [
    "vaccinations_df.isnull().sum()"
   ]
  },
  {
   "cell_type": "code",
   "execution_count": 18,
   "metadata": {
    "colab": {
     "base_uri": "https://localhost:8080/",
     "height": 417
    },
    "executionInfo": {
     "elapsed": 396,
     "status": "ok",
     "timestamp": 1625424286495,
     "user": {
      "displayName": "Anirban Saha",
      "photoUrl": "https://lh3.googleusercontent.com/a-/AOh14Gjyb92afz3EKbQ81YgXIXJ2xTvOb0I8CeT4KMiDTw=s64",
      "userId": "02348100453944470349"
     },
     "user_tz": -360
    },
    "id": "7-XA8tvzzZu0",
    "outputId": "fabd6d98-e93f-4f8e-859f-82961b9c06e4"
   },
   "outputs": [
    {
     "data": {
      "text/html": [
       "<div>\n",
       "<style scoped>\n",
       "    .dataframe tbody tr th:only-of-type {\n",
       "        vertical-align: middle;\n",
       "    }\n",
       "\n",
       "    .dataframe tbody tr th {\n",
       "        vertical-align: top;\n",
       "    }\n",
       "\n",
       "    .dataframe thead th {\n",
       "        text-align: right;\n",
       "    }\n",
       "</style>\n",
       "<table border=\"1\" class=\"dataframe\">\n",
       "  <thead>\n",
       "    <tr style=\"text-align: right;\">\n",
       "      <th></th>\n",
       "      <th>0</th>\n",
       "      <th>1</th>\n",
       "      <th>2</th>\n",
       "    </tr>\n",
       "  </thead>\n",
       "  <tbody>\n",
       "    <tr>\n",
       "      <th>0</th>\n",
       "      <td>2021</td>\n",
       "      <td>02</td>\n",
       "      <td>22</td>\n",
       "    </tr>\n",
       "    <tr>\n",
       "      <th>1</th>\n",
       "      <td>2021</td>\n",
       "      <td>02</td>\n",
       "      <td>23</td>\n",
       "    </tr>\n",
       "    <tr>\n",
       "      <th>2</th>\n",
       "      <td>2021</td>\n",
       "      <td>02</td>\n",
       "      <td>24</td>\n",
       "    </tr>\n",
       "    <tr>\n",
       "      <th>3</th>\n",
       "      <td>2021</td>\n",
       "      <td>02</td>\n",
       "      <td>25</td>\n",
       "    </tr>\n",
       "    <tr>\n",
       "      <th>4</th>\n",
       "      <td>2021</td>\n",
       "      <td>02</td>\n",
       "      <td>26</td>\n",
       "    </tr>\n",
       "    <tr>\n",
       "      <th>...</th>\n",
       "      <td>...</td>\n",
       "      <td>...</td>\n",
       "      <td>...</td>\n",
       "    </tr>\n",
       "    <tr>\n",
       "      <th>28517</th>\n",
       "      <td>2021</td>\n",
       "      <td>06</td>\n",
       "      <td>26</td>\n",
       "    </tr>\n",
       "    <tr>\n",
       "      <th>28518</th>\n",
       "      <td>2021</td>\n",
       "      <td>06</td>\n",
       "      <td>27</td>\n",
       "    </tr>\n",
       "    <tr>\n",
       "      <th>28519</th>\n",
       "      <td>2021</td>\n",
       "      <td>06</td>\n",
       "      <td>28</td>\n",
       "    </tr>\n",
       "    <tr>\n",
       "      <th>28520</th>\n",
       "      <td>2021</td>\n",
       "      <td>06</td>\n",
       "      <td>29</td>\n",
       "    </tr>\n",
       "    <tr>\n",
       "      <th>28521</th>\n",
       "      <td>2021</td>\n",
       "      <td>06</td>\n",
       "      <td>30</td>\n",
       "    </tr>\n",
       "  </tbody>\n",
       "</table>\n",
       "<p>28522 rows × 3 columns</p>\n",
       "</div>"
      ],
      "text/plain": [
       "          0   1   2\n",
       "0      2021  02  22\n",
       "1      2021  02  23\n",
       "2      2021  02  24\n",
       "3      2021  02  25\n",
       "4      2021  02  26\n",
       "...     ...  ..  ..\n",
       "28517  2021  06  26\n",
       "28518  2021  06  27\n",
       "28519  2021  06  28\n",
       "28520  2021  06  29\n",
       "28521  2021  06  30\n",
       "\n",
       "[28522 rows x 3 columns]"
      ]
     },
     "execution_count": 18,
     "metadata": {},
     "output_type": "execute_result"
    }
   ],
   "source": [
    "vaccinations_df.fillna(value=0, inplace=True)\n",
    "date = vaccinations_df.date.str.split('-', expand=True)\n",
    "date"
   ]
  },
  {
   "cell_type": "code",
   "execution_count": 19,
   "metadata": {
    "colab": {
     "base_uri": "https://localhost:8080/",
     "height": 391
    },
    "executionInfo": {
     "elapsed": 401,
     "status": "ok",
     "timestamp": 1625424342237,
     "user": {
      "displayName": "Anirban Saha",
      "photoUrl": "https://lh3.googleusercontent.com/a-/AOh14Gjyb92afz3EKbQ81YgXIXJ2xTvOb0I8CeT4KMiDTw=s64",
      "userId": "02348100453944470349"
     },
     "user_tz": -360
    },
    "id": "5mIj6kbxz1Ix",
    "outputId": "4c41faf4-a0b8-4cbf-d822-2c63c0c0566d"
   },
   "outputs": [
    {
     "data": {
      "text/html": [
       "<div>\n",
       "<style scoped>\n",
       "    .dataframe tbody tr th:only-of-type {\n",
       "        vertical-align: middle;\n",
       "    }\n",
       "\n",
       "    .dataframe tbody tr th {\n",
       "        vertical-align: top;\n",
       "    }\n",
       "\n",
       "    .dataframe thead th {\n",
       "        text-align: right;\n",
       "    }\n",
       "</style>\n",
       "<table border=\"1\" class=\"dataframe\">\n",
       "  <thead>\n",
       "    <tr style=\"text-align: right;\">\n",
       "      <th></th>\n",
       "      <th>country</th>\n",
       "      <th>iso_code</th>\n",
       "      <th>date</th>\n",
       "      <th>total_vaccinations</th>\n",
       "      <th>people_vaccinated</th>\n",
       "      <th>people_fully_vaccinated</th>\n",
       "      <th>daily_vaccinations_raw</th>\n",
       "      <th>daily_vaccinations</th>\n",
       "      <th>total_vaccinations_per_hundred</th>\n",
       "      <th>people_vaccinated_per_hundred</th>\n",
       "      <th>people_fully_vaccinated_per_hundred</th>\n",
       "      <th>daily_vaccinations_per_million</th>\n",
       "      <th>vaccines</th>\n",
       "      <th>source_name</th>\n",
       "      <th>source_website</th>\n",
       "      <th>year</th>\n",
       "      <th>month</th>\n",
       "      <th>day</th>\n",
       "    </tr>\n",
       "  </thead>\n",
       "  <tbody>\n",
       "    <tr>\n",
       "      <th>0</th>\n",
       "      <td>Afghanistan</td>\n",
       "      <td>AFG</td>\n",
       "      <td>2021-02-22</td>\n",
       "      <td>0.0</td>\n",
       "      <td>0.0</td>\n",
       "      <td>0.0</td>\n",
       "      <td>0.0</td>\n",
       "      <td>0.0</td>\n",
       "      <td>0.0</td>\n",
       "      <td>0.0</td>\n",
       "      <td>0.0</td>\n",
       "      <td>0.0</td>\n",
       "      <td>BBIBP-CorV, Oxford/AstraZeneca, Pfizer/BioNTech</td>\n",
       "      <td>World Health Organization</td>\n",
       "      <td>https://covid19.who.int/</td>\n",
       "      <td>2021</td>\n",
       "      <td>2</td>\n",
       "      <td>22</td>\n",
       "    </tr>\n",
       "    <tr>\n",
       "      <th>1</th>\n",
       "      <td>Afghanistan</td>\n",
       "      <td>AFG</td>\n",
       "      <td>2021-02-23</td>\n",
       "      <td>0.0</td>\n",
       "      <td>0.0</td>\n",
       "      <td>0.0</td>\n",
       "      <td>0.0</td>\n",
       "      <td>1367.0</td>\n",
       "      <td>0.0</td>\n",
       "      <td>0.0</td>\n",
       "      <td>0.0</td>\n",
       "      <td>35.0</td>\n",
       "      <td>BBIBP-CorV, Oxford/AstraZeneca, Pfizer/BioNTech</td>\n",
       "      <td>World Health Organization</td>\n",
       "      <td>https://covid19.who.int/</td>\n",
       "      <td>2021</td>\n",
       "      <td>2</td>\n",
       "      <td>23</td>\n",
       "    </tr>\n",
       "    <tr>\n",
       "      <th>2</th>\n",
       "      <td>Afghanistan</td>\n",
       "      <td>AFG</td>\n",
       "      <td>2021-02-24</td>\n",
       "      <td>0.0</td>\n",
       "      <td>0.0</td>\n",
       "      <td>0.0</td>\n",
       "      <td>0.0</td>\n",
       "      <td>1367.0</td>\n",
       "      <td>0.0</td>\n",
       "      <td>0.0</td>\n",
       "      <td>0.0</td>\n",
       "      <td>35.0</td>\n",
       "      <td>BBIBP-CorV, Oxford/AstraZeneca, Pfizer/BioNTech</td>\n",
       "      <td>World Health Organization</td>\n",
       "      <td>https://covid19.who.int/</td>\n",
       "      <td>2021</td>\n",
       "      <td>2</td>\n",
       "      <td>24</td>\n",
       "    </tr>\n",
       "    <tr>\n",
       "      <th>3</th>\n",
       "      <td>Afghanistan</td>\n",
       "      <td>AFG</td>\n",
       "      <td>2021-02-25</td>\n",
       "      <td>0.0</td>\n",
       "      <td>0.0</td>\n",
       "      <td>0.0</td>\n",
       "      <td>0.0</td>\n",
       "      <td>1367.0</td>\n",
       "      <td>0.0</td>\n",
       "      <td>0.0</td>\n",
       "      <td>0.0</td>\n",
       "      <td>35.0</td>\n",
       "      <td>BBIBP-CorV, Oxford/AstraZeneca, Pfizer/BioNTech</td>\n",
       "      <td>World Health Organization</td>\n",
       "      <td>https://covid19.who.int/</td>\n",
       "      <td>2021</td>\n",
       "      <td>2</td>\n",
       "      <td>25</td>\n",
       "    </tr>\n",
       "    <tr>\n",
       "      <th>4</th>\n",
       "      <td>Afghanistan</td>\n",
       "      <td>AFG</td>\n",
       "      <td>2021-02-26</td>\n",
       "      <td>0.0</td>\n",
       "      <td>0.0</td>\n",
       "      <td>0.0</td>\n",
       "      <td>0.0</td>\n",
       "      <td>1367.0</td>\n",
       "      <td>0.0</td>\n",
       "      <td>0.0</td>\n",
       "      <td>0.0</td>\n",
       "      <td>35.0</td>\n",
       "      <td>BBIBP-CorV, Oxford/AstraZeneca, Pfizer/BioNTech</td>\n",
       "      <td>World Health Organization</td>\n",
       "      <td>https://covid19.who.int/</td>\n",
       "      <td>2021</td>\n",
       "      <td>2</td>\n",
       "      <td>26</td>\n",
       "    </tr>\n",
       "  </tbody>\n",
       "</table>\n",
       "</div>"
      ],
      "text/plain": [
       "       country iso_code       date  total_vaccinations  people_vaccinated  \\\n",
       "0  Afghanistan      AFG 2021-02-22                 0.0                0.0   \n",
       "1  Afghanistan      AFG 2021-02-23                 0.0                0.0   \n",
       "2  Afghanistan      AFG 2021-02-24                 0.0                0.0   \n",
       "3  Afghanistan      AFG 2021-02-25                 0.0                0.0   \n",
       "4  Afghanistan      AFG 2021-02-26                 0.0                0.0   \n",
       "\n",
       "   people_fully_vaccinated  daily_vaccinations_raw  daily_vaccinations  \\\n",
       "0                      0.0                     0.0                 0.0   \n",
       "1                      0.0                     0.0              1367.0   \n",
       "2                      0.0                     0.0              1367.0   \n",
       "3                      0.0                     0.0              1367.0   \n",
       "4                      0.0                     0.0              1367.0   \n",
       "\n",
       "   total_vaccinations_per_hundred  people_vaccinated_per_hundred  \\\n",
       "0                             0.0                            0.0   \n",
       "1                             0.0                            0.0   \n",
       "2                             0.0                            0.0   \n",
       "3                             0.0                            0.0   \n",
       "4                             0.0                            0.0   \n",
       "\n",
       "   people_fully_vaccinated_per_hundred  daily_vaccinations_per_million  \\\n",
       "0                                  0.0                             0.0   \n",
       "1                                  0.0                            35.0   \n",
       "2                                  0.0                            35.0   \n",
       "3                                  0.0                            35.0   \n",
       "4                                  0.0                            35.0   \n",
       "\n",
       "                                          vaccines                source_name  \\\n",
       "0  BBIBP-CorV, Oxford/AstraZeneca, Pfizer/BioNTech  World Health Organization   \n",
       "1  BBIBP-CorV, Oxford/AstraZeneca, Pfizer/BioNTech  World Health Organization   \n",
       "2  BBIBP-CorV, Oxford/AstraZeneca, Pfizer/BioNTech  World Health Organization   \n",
       "3  BBIBP-CorV, Oxford/AstraZeneca, Pfizer/BioNTech  World Health Organization   \n",
       "4  BBIBP-CorV, Oxford/AstraZeneca, Pfizer/BioNTech  World Health Organization   \n",
       "\n",
       "             source_website  year  month  day  \n",
       "0  https://covid19.who.int/  2021      2   22  \n",
       "1  https://covid19.who.int/  2021      2   23  \n",
       "2  https://covid19.who.int/  2021      2   24  \n",
       "3  https://covid19.who.int/  2021      2   25  \n",
       "4  https://covid19.who.int/  2021      2   26  "
      ]
     },
     "execution_count": 19,
     "metadata": {},
     "output_type": "execute_result"
    }
   ],
   "source": [
    "vaccinations_df['year'] = date[0]\n",
    "vaccinations_df['month'] = date[1]\n",
    "vaccinations_df['day'] = date[2]\n",
    "\n",
    "vaccinations_df.year = pd.to_numeric(vaccinations_df.year)\n",
    "vaccinations_df.month = pd.to_numeric(vaccinations_df.month)\n",
    "vaccinations_df.day = pd.to_numeric(vaccinations_df.day)\n",
    "\n",
    "vaccinations_df.date = pd.to_datetime(vaccinations_df.date)\n",
    "\n",
    "vaccinations_df.head()"
   ]
  },
  {
   "cell_type": "code",
   "execution_count": 20,
   "metadata": {
    "colab": {
     "base_uri": "https://localhost:8080/"
    },
    "executionInfo": {
     "elapsed": 383,
     "status": "ok",
     "timestamp": 1625424347671,
     "user": {
      "displayName": "Anirban Saha",
      "photoUrl": "https://lh3.googleusercontent.com/a-/AOh14Gjyb92afz3EKbQ81YgXIXJ2xTvOb0I8CeT4KMiDTw=s64",
      "userId": "02348100453944470349"
     },
     "user_tz": -360
    },
    "id": "mHEtqjmB1E0d",
    "outputId": "6fe9adbe-77a8-413f-8e27-a0cd533c25b5"
   },
   "outputs": [
    {
     "name": "stdout",
     "output_type": "stream",
     "text": [
      "<class 'pandas.core.frame.DataFrame'>\n",
      "RangeIndex: 28522 entries, 0 to 28521\n",
      "Data columns (total 18 columns):\n",
      " #   Column                               Non-Null Count  Dtype         \n",
      "---  ------                               --------------  -----         \n",
      " 0   country                              28522 non-null  object        \n",
      " 1   iso_code                             28522 non-null  object        \n",
      " 2   date                                 28522 non-null  datetime64[ns]\n",
      " 3   total_vaccinations                   28522 non-null  float64       \n",
      " 4   people_vaccinated                    28522 non-null  float64       \n",
      " 5   people_fully_vaccinated              28522 non-null  float64       \n",
      " 6   daily_vaccinations_raw               28522 non-null  float64       \n",
      " 7   daily_vaccinations                   28522 non-null  float64       \n",
      " 8   total_vaccinations_per_hundred       28522 non-null  float64       \n",
      " 9   people_vaccinated_per_hundred        28522 non-null  float64       \n",
      " 10  people_fully_vaccinated_per_hundred  28522 non-null  float64       \n",
      " 11  daily_vaccinations_per_million       28522 non-null  float64       \n",
      " 12  vaccines                             28522 non-null  object        \n",
      " 13  source_name                          28522 non-null  object        \n",
      " 14  source_website                       28522 non-null  object        \n",
      " 15  year                                 28522 non-null  int64         \n",
      " 16  month                                28522 non-null  int64         \n",
      " 17  day                                  28522 non-null  int64         \n",
      "dtypes: datetime64[ns](1), float64(9), int64(3), object(5)\n",
      "memory usage: 3.9+ MB\n"
     ]
    }
   ],
   "source": [
    "vaccinations_df.info()"
   ]
  },
  {
   "cell_type": "code",
   "execution_count": 21,
   "metadata": {
    "executionInfo": {
     "elapsed": 31,
     "status": "ok",
     "timestamp": 1625423463537,
     "user": {
      "displayName": "Anirban Saha",
      "photoUrl": "https://lh3.googleusercontent.com/a-/AOh14Gjyb92afz3EKbQ81YgXIXJ2xTvOb0I8CeT4KMiDTw=s64",
      "userId": "02348100453944470349"
     },
     "user_tz": -360
    },
    "id": "ebzG5s36KFJ6"
   },
   "outputs": [],
   "source": [
    "import jovian"
   ]
  },
  {
   "cell_type": "code",
   "execution_count": 22,
   "metadata": {
    "colab": {
     "base_uri": "https://localhost:8080/",
     "height": 86
    },
    "executionInfo": {
     "elapsed": 2288,
     "status": "ok",
     "timestamp": 1625423465795,
     "user": {
      "displayName": "Anirban Saha",
      "photoUrl": "https://lh3.googleusercontent.com/a-/AOh14Gjyb92afz3EKbQ81YgXIXJ2xTvOb0I8CeT4KMiDTw=s64",
      "userId": "02348100453944470349"
     },
     "user_tz": -360
    },
    "id": "S5SWpSUKKFJ6",
    "outputId": "03356772-c481-4950-852b-51b8ffc25b3f"
   },
   "outputs": [
    {
     "data": {
      "application/javascript": [
       "window.require && require([\"base/js/namespace\"],function(Jupyter){Jupyter.notebook.save_checkpoint()})"
      ],
      "text/plain": [
       "<IPython.core.display.Javascript object>"
      ]
     },
     "metadata": {},
     "output_type": "display_data"
    },
    {
     "name": "stdout",
     "output_type": "stream",
     "text": [
      "[jovian] Updating notebook \"anirbansaha/covid-19-vaccinations-data-analysis\" on https://jovian.ai\u001b[0m\n",
      "[jovian] Committed successfully! https://jovian.ai/anirbansaha/covid-19-vaccinations-data-analysis\u001b[0m\n"
     ]
    },
    {
     "data": {
      "text/plain": [
       "'https://jovian.ai/anirbansaha/covid-19-vaccinations-data-analysis'"
      ]
     },
     "execution_count": 22,
     "metadata": {},
     "output_type": "execute_result"
    }
   ],
   "source": [
    "jovian.commit()"
   ]
  },
  {
   "cell_type": "markdown",
   "metadata": {
    "id": "jq0mBB7KKFJ6"
   },
   "source": [
    "## Exploratory Analysis and Visualization\n",
    "\n",
    "\n"
   ]
  },
  {
   "cell_type": "markdown",
   "metadata": {
    "id": "ZCTdpKOOKFJ7"
   },
   "source": [
    "Let's begin by importing`matplotlib.pyplot` and `seaborn`."
   ]
  },
  {
   "cell_type": "code",
   "execution_count": 23,
   "metadata": {
    "executionInfo": {
     "elapsed": 6,
     "status": "ok",
     "timestamp": 1625423465796,
     "user": {
      "displayName": "Anirban Saha",
      "photoUrl": "https://lh3.googleusercontent.com/a-/AOh14Gjyb92afz3EKbQ81YgXIXJ2xTvOb0I8CeT4KMiDTw=s64",
      "userId": "02348100453944470349"
     },
     "user_tz": -360
    },
    "id": "3jcILoXEKFJ7"
   },
   "outputs": [],
   "source": [
    "import seaborn as sns\n",
    "import matplotlib\n",
    "import matplotlib.pyplot as plt\n",
    "%matplotlib inline\n",
    "\n",
    "sns.set_style('darkgrid')\n",
    "matplotlib.rcParams['font.size'] = 14\n",
    "matplotlib.rcParams['figure.figsize'] = (9, 5)\n",
    "matplotlib.rcParams['figure.facecolor'] = '#00000000'"
   ]
  },
  {
   "cell_type": "markdown",
   "metadata": {
    "id": "7uBpYXN8KFJ7"
   },
   "source": [
    "Explore the mean, min, max"
   ]
  },
  {
   "cell_type": "code",
   "execution_count": 24,
   "metadata": {
    "colab": {
     "base_uri": "https://localhost:8080/"
    },
    "executionInfo": {
     "elapsed": 7269,
     "status": "ok",
     "timestamp": 1625424476052,
     "user": {
      "displayName": "Anirban Saha",
      "photoUrl": "https://lh3.googleusercontent.com/a-/AOh14Gjyb92afz3EKbQ81YgXIXJ2xTvOb0I8CeT4KMiDTw=s64",
      "userId": "02348100453944470349"
     },
     "user_tz": -360
    },
    "id": "oS3k_hlqKFJ7",
    "outputId": "483b9b74-7eb2-4287-a33e-d53a2671b506"
   },
   "outputs": [
    {
     "name": "stderr",
     "output_type": "stream",
     "text": [
      "<ipython-input-24-d101732c3b1b>:1: FutureWarning: DataFrame.mean and DataFrame.median with numeric_only=None will include datetime64 and datetime64tz columns in a future version.\n",
      "  vaccinations_df.mean()\n"
     ]
    },
    {
     "data": {
      "text/plain": [
       "total_vaccinations                     5.952939e+06\n",
       "people_vaccinated                      2.779776e+06\n",
       "people_fully_vaccinated                1.298583e+06\n",
       "daily_vaccinations_raw                 1.027894e+05\n",
       "daily_vaccinations                     1.105587e+05\n",
       "total_vaccinations_per_hundred         1.493576e+01\n",
       "people_vaccinated_per_hundred          9.398966e+00\n",
       "people_fully_vaccinated_per_hundred    4.768125e+00\n",
       "daily_vaccinations_per_million         3.340269e+03\n",
       "year                                   2.020986e+03\n",
       "month                                  4.176040e+00\n",
       "day                                    1.592381e+01\n",
       "dtype: float64"
      ]
     },
     "execution_count": 24,
     "metadata": {},
     "output_type": "execute_result"
    }
   ],
   "source": [
    "vaccinations_df.mean()"
   ]
  },
  {
   "cell_type": "code",
   "execution_count": 25,
   "metadata": {
    "colab": {
     "base_uri": "https://localhost:8080/"
    },
    "executionInfo": {
     "elapsed": 407,
     "status": "ok",
     "timestamp": 1625424480892,
     "user": {
      "displayName": "Anirban Saha",
      "photoUrl": "https://lh3.googleusercontent.com/a-/AOh14Gjyb92afz3EKbQ81YgXIXJ2xTvOb0I8CeT4KMiDTw=s64",
      "userId": "02348100453944470349"
     },
     "user_tz": -360
    },
    "id": "sKt-L3EnKFJ7",
    "outputId": "afff23a7-ae58-47dc-b39f-dee4a6cb852c"
   },
   "outputs": [
    {
     "data": {
      "text/plain": [
       "country                                                                      Afghanistan\n",
       "iso_code                                                                             ABW\n",
       "date                                                                 2020-12-02 00:00:00\n",
       "total_vaccinations                                                                   0.0\n",
       "people_vaccinated                                                                    0.0\n",
       "people_fully_vaccinated                                                              0.0\n",
       "daily_vaccinations_raw                                                               0.0\n",
       "daily_vaccinations                                                                   0.0\n",
       "total_vaccinations_per_hundred                                                       0.0\n",
       "people_vaccinated_per_hundred                                                        0.0\n",
       "people_fully_vaccinated_per_hundred                                                  0.0\n",
       "daily_vaccinations_per_million                                                       0.0\n",
       "vaccines                                                              Abdala, Soberana02\n",
       "source_name                            Africa Centres for Disease Control and Prevention\n",
       "source_website                         http://103.247.238.92/webportal/pages/covid19-...\n",
       "year                                                                                2020\n",
       "month                                                                                  1\n",
       "day                                                                                    1\n",
       "dtype: object"
      ]
     },
     "execution_count": 25,
     "metadata": {},
     "output_type": "execute_result"
    }
   ],
   "source": [
    "vaccinations_df.min()"
   ]
  },
  {
   "cell_type": "code",
   "execution_count": 26,
   "metadata": {
    "colab": {
     "base_uri": "https://localhost:8080/"
    },
    "executionInfo": {
     "elapsed": 382,
     "status": "ok",
     "timestamp": 1625424487186,
     "user": {
      "displayName": "Anirban Saha",
      "photoUrl": "https://lh3.googleusercontent.com/a-/AOh14Gjyb92afz3EKbQ81YgXIXJ2xTvOb0I8CeT4KMiDTw=s64",
      "userId": "02348100453944470349"
     },
     "user_tz": -360
    },
    "id": "UAwzISlAKFJ8",
    "outputId": "1aa40d71-c3ae-45e4-a465-66ef49639488"
   },
   "outputs": [
    {
     "data": {
      "text/plain": [
       "country                                                                         Zimbabwe\n",
       "iso_code                                                                             ZWE\n",
       "date                                                                 2021-07-03 00:00:00\n",
       "total_vaccinations                                                          1296037000.0\n",
       "people_vaccinated                                                            622000000.0\n",
       "people_fully_vaccinated                                                      223299000.0\n",
       "daily_vaccinations_raw                                                        24741000.0\n",
       "daily_vaccinations                                                            22424286.0\n",
       "total_vaccinations_per_hundred                                                    231.78\n",
       "people_vaccinated_per_hundred                                                     116.46\n",
       "people_fully_vaccinated_per_hundred                                               115.32\n",
       "daily_vaccinations_per_million                                                  118759.0\n",
       "vaccines                                                                       Sputnik V\n",
       "source_name                                                    World Health Organization\n",
       "source_website                         https://www.youtube.com/watch?v=5IdXETVaius&ab...\n",
       "year                                                                                2021\n",
       "month                                                                                 12\n",
       "day                                                                                   31\n",
       "dtype: object"
      ]
     },
     "execution_count": 26,
     "metadata": {},
     "output_type": "execute_result"
    }
   ],
   "source": [
    "vaccinations_df.max()"
   ]
  },
  {
   "cell_type": "markdown",
   "metadata": {
    "id": "rWUXdPNvBBZD"
   },
   "source": [
    "Explore the country Coloum"
   ]
  },
  {
   "cell_type": "code",
   "execution_count": 27,
   "metadata": {
    "colab": {
     "base_uri": "https://localhost:8080/"
    },
    "executionInfo": {
     "elapsed": 404,
     "status": "ok",
     "timestamp": 1625424490891,
     "user": {
      "displayName": "Anirban Saha",
      "photoUrl": "https://lh3.googleusercontent.com/a-/AOh14Gjyb92afz3EKbQ81YgXIXJ2xTvOb0I8CeT4KMiDTw=s64",
      "userId": "02348100453944470349"
     },
     "user_tz": -360
    },
    "id": "e3vGI9LmKFJ8",
    "outputId": "8f854bfe-6250-43ee-cff0-596b4c159e8f"
   },
   "outputs": [
    {
     "data": {
      "text/plain": [
       "Norway                             212\n",
       "Latvia                             211\n",
       "England                            207\n",
       "Scotland                           207\n",
       "Northern Ireland                   202\n",
       "                                  ... \n",
       "Vanuatu                             21\n",
       "Chad                                19\n",
       "Pitcairn                             7\n",
       "Bonaire Sint Eustatius and Saba      1\n",
       "Turkmenistan                         1\n",
       "Name: country, Length: 217, dtype: int64"
      ]
     },
     "execution_count": 27,
     "metadata": {},
     "output_type": "execute_result"
    }
   ],
   "source": [
    "vaccinations_df.country.value_counts()"
   ]
  },
  {
   "cell_type": "code",
   "execution_count": 28,
   "metadata": {
    "colab": {
     "base_uri": "https://localhost:8080/"
    },
    "executionInfo": {
     "elapsed": 379,
     "status": "ok",
     "timestamp": 1625424496178,
     "user": {
      "displayName": "Anirban Saha",
      "photoUrl": "https://lh3.googleusercontent.com/a-/AOh14Gjyb92afz3EKbQ81YgXIXJ2xTvOb0I8CeT4KMiDTw=s64",
      "userId": "02348100453944470349"
     },
     "user_tz": -360
    },
    "id": "P6rTrHaSKFJ8",
    "outputId": "43f00919-74cc-404e-eff6-839c3ed8e43d"
   },
   "outputs": [
    {
     "data": {
      "text/plain": [
       "0        Afghanistan\n",
       "1        Afghanistan\n",
       "2        Afghanistan\n",
       "3        Afghanistan\n",
       "4        Afghanistan\n",
       "            ...     \n",
       "28517       Zimbabwe\n",
       "28518       Zimbabwe\n",
       "28519       Zimbabwe\n",
       "28520       Zimbabwe\n",
       "28521       Zimbabwe\n",
       "Name: country, Length: 28522, dtype: object"
      ]
     },
     "execution_count": 28,
     "metadata": {},
     "output_type": "execute_result"
    }
   ],
   "source": [
    "vaccinations_df.country"
   ]
  },
  {
   "cell_type": "code",
   "execution_count": 29,
   "metadata": {
    "colab": {
     "base_uri": "https://localhost:8080/"
    },
    "executionInfo": {
     "elapsed": 824,
     "status": "ok",
     "timestamp": 1625424500592,
     "user": {
      "displayName": "Anirban Saha",
      "photoUrl": "https://lh3.googleusercontent.com/a-/AOh14Gjyb92afz3EKbQ81YgXIXJ2xTvOb0I8CeT4KMiDTw=s64",
      "userId": "02348100453944470349"
     },
     "user_tz": -360
    },
    "id": "pALjM9dTKFJ8",
    "outputId": "77ed70e7-6d40-4a9c-d25e-d689143c84e8"
   },
   "outputs": [
    {
     "data": {
      "text/plain": [
       "217"
      ]
     },
     "execution_count": 29,
     "metadata": {},
     "output_type": "execute_result"
    }
   ],
   "source": [
    "vaccinations_df.country.nunique()"
   ]
  },
  {
   "cell_type": "markdown",
   "metadata": {
    "id": "-dqrqSBfKFJ8"
   },
   "source": [
    "Explore the min and max of fully vacnated people. "
   ]
  },
  {
   "cell_type": "code",
   "execution_count": 30,
   "metadata": {
    "colab": {
     "base_uri": "https://localhost:8080/"
    },
    "executionInfo": {
     "elapsed": 55,
     "status": "ok",
     "timestamp": 1625423472922,
     "user": {
      "displayName": "Anirban Saha",
      "photoUrl": "https://lh3.googleusercontent.com/a-/AOh14Gjyb92afz3EKbQ81YgXIXJ2xTvOb0I8CeT4KMiDTw=s64",
      "userId": "02348100453944470349"
     },
     "user_tz": -360
    },
    "id": "epfCpaxGKFJ8",
    "outputId": "b1ac299b-244a-4f93-8e66-fc8ad7f7f398"
   },
   "outputs": [
    {
     "data": {
      "text/plain": [
       "0.0"
      ]
     },
     "execution_count": 30,
     "metadata": {},
     "output_type": "execute_result"
    }
   ],
   "source": [
    "vaccinations_df.people_fully_vaccinated.min()"
   ]
  },
  {
   "cell_type": "code",
   "execution_count": 31,
   "metadata": {
    "colab": {
     "base_uri": "https://localhost:8080/"
    },
    "executionInfo": {
     "elapsed": 374,
     "status": "ok",
     "timestamp": 1625423494790,
     "user": {
      "displayName": "Anirban Saha",
      "photoUrl": "https://lh3.googleusercontent.com/a-/AOh14Gjyb92afz3EKbQ81YgXIXJ2xTvOb0I8CeT4KMiDTw=s64",
      "userId": "02348100453944470349"
     },
     "user_tz": -360
    },
    "id": "0oKVZZFHKFJ9",
    "outputId": "2bc14990-6098-4494-9acc-e6b669e8c0f1"
   },
   "outputs": [
    {
     "data": {
      "text/plain": [
       "223299000.0"
      ]
     },
     "execution_count": 31,
     "metadata": {},
     "output_type": "execute_result"
    }
   ],
   "source": [
    "vaccinations_df.people_fully_vaccinated.max()"
   ]
  },
  {
   "cell_type": "markdown",
   "metadata": {
    "id": "4uij5xnbKFJ9"
   },
   "source": [
    "Explore the min and max date."
   ]
  },
  {
   "cell_type": "code",
   "execution_count": 32,
   "metadata": {
    "colab": {
     "base_uri": "https://localhost:8080/"
    },
    "executionInfo": {
     "elapsed": 399,
     "status": "ok",
     "timestamp": 1625424435707,
     "user": {
      "displayName": "Anirban Saha",
      "photoUrl": "https://lh3.googleusercontent.com/a-/AOh14Gjyb92afz3EKbQ81YgXIXJ2xTvOb0I8CeT4KMiDTw=s64",
      "userId": "02348100453944470349"
     },
     "user_tz": -360
    },
    "id": "5ajJhoDBKFJ9",
    "outputId": "b6a250fb-1140-4e48-eef1-51500356b805"
   },
   "outputs": [
    {
     "data": {
      "text/plain": [
       "Timestamp('2020-12-02 00:00:00')"
      ]
     },
     "execution_count": 32,
     "metadata": {},
     "output_type": "execute_result"
    }
   ],
   "source": [
    "vaccinations_df.date.min()"
   ]
  },
  {
   "cell_type": "code",
   "execution_count": 33,
   "metadata": {
    "colab": {
     "base_uri": "https://localhost:8080/"
    },
    "executionInfo": {
     "elapsed": 392,
     "status": "ok",
     "timestamp": 1625424454136,
     "user": {
      "displayName": "Anirban Saha",
      "photoUrl": "https://lh3.googleusercontent.com/a-/AOh14Gjyb92afz3EKbQ81YgXIXJ2xTvOb0I8CeT4KMiDTw=s64",
      "userId": "02348100453944470349"
     },
     "user_tz": -360
    },
    "id": "ettd2A5jKFJ9",
    "outputId": "bd63100d-592d-450d-c62d-b98ae91d9c14"
   },
   "outputs": [
    {
     "data": {
      "text/plain": [
       "Timestamp('2021-07-03 00:00:00')"
      ]
     },
     "execution_count": 33,
     "metadata": {},
     "output_type": "execute_result"
    }
   ],
   "source": [
    "vaccinations_df.date.max()"
   ]
  },
  {
   "cell_type": "markdown",
   "metadata": {
    "id": "fbZEIU3i8CU8"
   },
   "source": [
    "Explore The Number of daily vaccinations dynamic"
   ]
  },
  {
   "cell_type": "code",
   "execution_count": 34,
   "metadata": {
    "colab": {
     "base_uri": "https://localhost:8080/",
     "height": 525
    },
    "executionInfo": {
     "elapsed": 6200,
     "status": "ok",
     "timestamp": 1625426844802,
     "user": {
      "displayName": "Anirban Saha",
      "photoUrl": "https://lh3.googleusercontent.com/a-/AOh14Gjyb92afz3EKbQ81YgXIXJ2xTvOb0I8CeT4KMiDTw=s64",
      "userId": "02348100453944470349"
     },
     "user_tz": -360
    },
    "id": "2wKpwINh79Fn",
    "outputId": "15295682-04e4-448a-eb8f-2bc1ca633d8b"
   },
   "outputs": [
    {
     "data": {
      "image/png": "[encoded data removed]",
      "text/plain": [
       "<Figure size 1152x576 with 1 Axes>"
      ]
     },
     "metadata": {
      "needs_background": "light"
     },
     "output_type": "display_data"
    }
   ],
   "source": [
    "plt.figure(figsize=(16,8))\n",
    "sns.lineplot(x=vaccinations_df.date, y=vaccinations_df.daily_vaccinations)\n",
    "plt.title('The Number of daily vaccinations dynamic')\n",
    "plt.show()"
   ]
  },
  {
   "cell_type": "markdown",
   "metadata": {
    "id": "26C-6X-g_rky"
   },
   "source": [
    "Explore the Vaccination procedure go on rapidly from which date."
   ]
  },
  {
   "cell_type": "code",
   "execution_count": 35,
   "metadata": {
    "executionInfo": {
     "elapsed": 367,
     "status": "ok",
     "timestamp": 1625426650015,
     "user": {
      "displayName": "Anirban Saha",
      "photoUrl": "https://lh3.googleusercontent.com/a-/AOh14Gjyb92afz3EKbQ81YgXIXJ2xTvOb0I8CeT4KMiDTw=s64",
      "userId": "02348100453944470349"
     },
     "user_tz": -360
    },
    "id": "A1oEhX009fOb"
   },
   "outputs": [],
   "source": [
    "countries = vaccinations_df.groupby('country')['total_vaccinations'].max().sort_values(ascending= False)[:5].index\n",
    "\n",
    "top_countries = pd.DataFrame(columns= vaccinations_df.columns)\n",
    "for country in countries:\n",
    "  top_countries = top_countries.append(vaccinations_df.loc[vaccinations_df['country'] == country])"
   ]
  },
  {
   "cell_type": "code",
   "execution_count": 36,
   "metadata": {
    "colab": {
     "base_uri": "https://localhost:8080/",
     "height": 688
    },
    "executionInfo": {
     "elapsed": 1157,
     "status": "ok",
     "timestamp": 1625427035613,
     "user": {
      "displayName": "Anirban Saha",
      "photoUrl": "https://lh3.googleusercontent.com/a-/AOh14Gjyb92afz3EKbQ81YgXIXJ2xTvOb0I8CeT4KMiDTw=s64",
      "userId": "02348100453944470349"
     },
     "user_tz": -360
    },
    "id": "LEhaye_M-np_",
    "outputId": "c793d065-e7a2-4499-ec52-d3dd430c265b"
   },
   "outputs": [
    {
     "name": "stderr",
     "output_type": "stream",
     "text": [
      "/opt/conda/lib/python3.9/site-packages/seaborn/_decorators.py:36: FutureWarning: Pass the following variables as keyword args: x, y. From version 0.12, the only valid positional argument will be `data`, and passing other arguments without an explicit keyword will result in an error or misinterpretation.\n",
      "  warnings.warn(\n"
     ]
    },
    {
     "data": {
      "image/png": "[encoded data removed]",
      "text/plain": [
       "<Figure size 1080x720 with 1 Axes>"
      ]
     },
     "metadata": {
      "needs_background": "light"
     },
     "output_type": "display_data"
    }
   ],
   "source": [
    "plt.figure(figsize=(15,10))\n",
    "sns.lineplot(top_countries['date'], \n",
    "             top_countries['daily_vaccinations_per_million'], \n",
    "             hue= top_countries['country'], ci= False)\n",
    "plt.title('Vaccination procedure go on rapidly')\n",
    "plt.show();"
   ]
  },
  {
   "cell_type": "markdown",
   "metadata": {
    "id": "3h7Sh6uiKFJ9"
   },
   "source": [
    "Let us save and upload our work to Jovian before continuing"
   ]
  },
  {
   "cell_type": "code",
   "execution_count": 37,
   "metadata": {
    "executionInfo": {
     "elapsed": 371,
     "status": "ok",
     "timestamp": 1625424512850,
     "user": {
      "displayName": "Anirban Saha",
      "photoUrl": "https://lh3.googleusercontent.com/a-/AOh14Gjyb92afz3EKbQ81YgXIXJ2xTvOb0I8CeT4KMiDTw=s64",
      "userId": "02348100453944470349"
     },
     "user_tz": -360
    },
    "id": "EWHUJzXbKFJ9"
   },
   "outputs": [],
   "source": [
    "import jovian"
   ]
  },
  {
   "cell_type": "code",
   "execution_count": 38,
   "metadata": {
    "colab": {
     "base_uri": "https://localhost:8080/",
     "height": 86
    },
    "executionInfo": {
     "elapsed": 3107,
     "status": "ok",
     "timestamp": 1625427065364,
     "user": {
      "displayName": "Anirban Saha",
      "photoUrl": "https://lh3.googleusercontent.com/a-/AOh14Gjyb92afz3EKbQ81YgXIXJ2xTvOb0I8CeT4KMiDTw=s64",
      "userId": "02348100453944470349"
     },
     "user_tz": -360
    },
    "id": "5NAM3JFxKFJ9",
    "outputId": "b34d7612-1165-4448-d8a9-8eb25885d71f"
   },
   "outputs": [
    {
     "data": {
      "application/javascript": [
       "window.require && require([\"base/js/namespace\"],function(Jupyter){Jupyter.notebook.save_checkpoint()})"
      ],
      "text/plain": [
       "<IPython.core.display.Javascript object>"
      ]
     },
     "metadata": {},
     "output_type": "display_data"
    },
    {
     "name": "stdout",
     "output_type": "stream",
     "text": [
      "[jovian] Updating notebook \"anirbansaha/covid-19-vaccinations-data-analysis\" on https://jovian.ai\u001b[0m\n",
      "[jovian] Committed successfully! https://jovian.ai/anirbansaha/covid-19-vaccinations-data-analysis\u001b[0m\n"
     ]
    },
    {
     "data": {
      "text/plain": [
       "'https://jovian.ai/anirbansaha/covid-19-vaccinations-data-analysis'"
      ]
     },
     "execution_count": 38,
     "metadata": {},
     "output_type": "execute_result"
    }
   ],
   "source": [
    "jovian.commit()"
   ]
  },
  {
   "cell_type": "markdown",
   "metadata": {
    "id": "4lIi2XKGKFJ-"
   },
   "source": [
    "## Asking and Answering Questions\n",
    "\n"
   ]
  },
  {
   "cell_type": "markdown",
   "metadata": {
    "id": "Kdqfd-pXKFJ-"
   },
   "source": [
    "#### Q1: Which country has most number of fully vaccinated people?"
   ]
  },
  {
   "cell_type": "code",
   "execution_count": 39,
   "metadata": {
    "executionInfo": {
     "elapsed": 383,
     "status": "ok",
     "timestamp": 1625424951338,
     "user": {
      "displayName": "Anirban Saha",
      "photoUrl": "https://lh3.googleusercontent.com/a-/AOh14Gjyb92afz3EKbQ81YgXIXJ2xTvOb0I8CeT4KMiDTw=s64",
      "userId": "02348100453944470349"
     },
     "user_tz": -360
    },
    "id": "fqGLxnIeKFJ-"
   },
   "outputs": [],
   "source": [
    "fully_vaccinated = vaccinations_df.groupby(\"country\")[\"people_fully_vaccinated\"].max().sort_values(ascending= False).head(25)"
   ]
  },
  {
   "cell_type": "code",
   "execution_count": 40,
   "metadata": {
    "colab": {
     "base_uri": "https://localhost:8080/"
    },
    "executionInfo": {
     "elapsed": 411,
     "status": "ok",
     "timestamp": 1625424958793,
     "user": {
      "displayName": "Anirban Saha",
      "photoUrl": "https://lh3.googleusercontent.com/a-/AOh14Gjyb92afz3EKbQ81YgXIXJ2xTvOb0I8CeT4KMiDTw=s64",
      "userId": "02348100453944470349"
     },
     "user_tz": -360
    },
    "id": "0-sj0YaOKFJ-",
    "outputId": "8475b417-1196-4706-e6b0-614514159cb9"
   },
   "outputs": [
    {
     "data": {
      "text/html": [
       "<div>\n",
       "<style scoped>\n",
       "    .dataframe tbody tr th:only-of-type {\n",
       "        vertical-align: middle;\n",
       "    }\n",
       "\n",
       "    .dataframe tbody tr th {\n",
       "        vertical-align: top;\n",
       "    }\n",
       "\n",
       "    .dataframe thead th {\n",
       "        text-align: right;\n",
       "    }\n",
       "</style>\n",
       "<table border=\"1\" class=\"dataframe\">\n",
       "  <thead>\n",
       "    <tr style=\"text-align: right;\">\n",
       "      <th></th>\n",
       "      <th>country</th>\n",
       "      <th>people_fully_vaccinated</th>\n",
       "    </tr>\n",
       "  </thead>\n",
       "  <tbody>\n",
       "    <tr>\n",
       "      <th>0</th>\n",
       "      <td>China</td>\n",
       "      <td>223299000.0</td>\n",
       "    </tr>\n",
       "    <tr>\n",
       "      <th>1</th>\n",
       "      <td>United States</td>\n",
       "      <td>156982549.0</td>\n",
       "    </tr>\n",
       "    <tr>\n",
       "      <th>2</th>\n",
       "      <td>India</td>\n",
       "      <td>62069225.0</td>\n",
       "    </tr>\n",
       "    <tr>\n",
       "      <th>3</th>\n",
       "      <td>United Kingdom</td>\n",
       "      <td>33402028.0</td>\n",
       "    </tr>\n",
       "    <tr>\n",
       "      <th>4</th>\n",
       "      <td>Germany</td>\n",
       "      <td>31487487.0</td>\n",
       "    </tr>\n",
       "    <tr>\n",
       "      <th>5</th>\n",
       "      <td>England</td>\n",
       "      <td>28072972.0</td>\n",
       "    </tr>\n",
       "    <tr>\n",
       "      <th>6</th>\n",
       "      <td>Brazil</td>\n",
       "      <td>26996751.0</td>\n",
       "    </tr>\n",
       "    <tr>\n",
       "      <th>7</th>\n",
       "      <td>France</td>\n",
       "      <td>21079988.0</td>\n",
       "    </tr>\n",
       "    <tr>\n",
       "      <th>8</th>\n",
       "      <td>Italy</td>\n",
       "      <td>19826856.0</td>\n",
       "    </tr>\n",
       "    <tr>\n",
       "      <th>9</th>\n",
       "      <td>Mexico</td>\n",
       "      <td>19755489.0</td>\n",
       "    </tr>\n",
       "    <tr>\n",
       "      <th>10</th>\n",
       "      <td>Spain</td>\n",
       "      <td>18466362.0</td>\n",
       "    </tr>\n",
       "    <tr>\n",
       "      <th>11</th>\n",
       "      <td>Russia</td>\n",
       "      <td>17802442.0</td>\n",
       "    </tr>\n",
       "    <tr>\n",
       "      <th>12</th>\n",
       "      <td>Japan</td>\n",
       "      <td>15999061.0</td>\n",
       "    </tr>\n",
       "    <tr>\n",
       "      <th>13</th>\n",
       "      <td>Turkey</td>\n",
       "      <td>15625651.0</td>\n",
       "    </tr>\n",
       "    <tr>\n",
       "      <th>14</th>\n",
       "      <td>Indonesia</td>\n",
       "      <td>13922732.0</td>\n",
       "    </tr>\n",
       "    <tr>\n",
       "      <th>15</th>\n",
       "      <td>Poland</td>\n",
       "      <td>13854142.0</td>\n",
       "    </tr>\n",
       "    <tr>\n",
       "      <th>16</th>\n",
       "      <td>Canada</td>\n",
       "      <td>12925620.0</td>\n",
       "    </tr>\n",
       "    <tr>\n",
       "      <th>17</th>\n",
       "      <td>Chile</td>\n",
       "      <td>10684303.0</td>\n",
       "    </tr>\n",
       "    <tr>\n",
       "      <th>18</th>\n",
       "      <td>Morocco</td>\n",
       "      <td>9161960.0</td>\n",
       "    </tr>\n",
       "    <tr>\n",
       "      <th>19</th>\n",
       "      <td>Colombia</td>\n",
       "      <td>7292768.0</td>\n",
       "    </tr>\n",
       "    <tr>\n",
       "      <th>20</th>\n",
       "      <td>Netherlands</td>\n",
       "      <td>6199305.0</td>\n",
       "    </tr>\n",
       "    <tr>\n",
       "      <th>21</th>\n",
       "      <td>South Korea</td>\n",
       "      <td>5319954.0</td>\n",
       "    </tr>\n",
       "    <tr>\n",
       "      <th>22</th>\n",
       "      <td>Israel</td>\n",
       "      <td>5174647.0</td>\n",
       "    </tr>\n",
       "    <tr>\n",
       "      <th>23</th>\n",
       "      <td>Hungary</td>\n",
       "      <td>4916927.0</td>\n",
       "    </tr>\n",
       "    <tr>\n",
       "      <th>24</th>\n",
       "      <td>Romania</td>\n",
       "      <td>4564579.0</td>\n",
       "    </tr>\n",
       "  </tbody>\n",
       "</table>\n",
       "</div>"
      ],
      "text/plain": [
       "           country  people_fully_vaccinated\n",
       "0            China              223299000.0\n",
       "1    United States              156982549.0\n",
       "2            India               62069225.0\n",
       "3   United Kingdom               33402028.0\n",
       "4          Germany               31487487.0\n",
       "5          England               28072972.0\n",
       "6           Brazil               26996751.0\n",
       "7           France               21079988.0\n",
       "8            Italy               19826856.0\n",
       "9           Mexico               19755489.0\n",
       "10           Spain               18466362.0\n",
       "11          Russia               17802442.0\n",
       "12           Japan               15999061.0\n",
       "13          Turkey               15625651.0\n",
       "14       Indonesia               13922732.0\n",
       "15          Poland               13854142.0\n",
       "16          Canada               12925620.0\n",
       "17           Chile               10684303.0\n",
       "18         Morocco                9161960.0\n",
       "19        Colombia                7292768.0\n",
       "20     Netherlands                6199305.0\n",
       "21     South Korea                5319954.0\n",
       "22          Israel                5174647.0\n",
       "23         Hungary                4916927.0\n",
       "24         Romania                4564579.0"
      ]
     },
     "execution_count": 40,
     "metadata": {},
     "output_type": "execute_result"
    }
   ],
   "source": [
    "fully_vaccinated.reset_index()"
   ]
  },
  {
   "cell_type": "code",
   "execution_count": 54,
   "metadata": {
    "colab": {
     "base_uri": "https://localhost:8080/",
     "height": 522
    },
    "executionInfo": {
     "elapsed": 1080,
     "status": "ok",
     "timestamp": 1625426861578,
     "user": {
      "displayName": "Anirban Saha",
      "photoUrl": "https://lh3.googleusercontent.com/a-/AOh14Gjyb92afz3EKbQ81YgXIXJ2xTvOb0I8CeT4KMiDTw=s64",
      "userId": "02348100453944470349"
     },
     "user_tz": -360
    },
    "id": "f848J13WKFJ-",
    "outputId": "bfae9a17-7d9a-4b67-9481-64204a98d753"
   },
   "outputs": [
    {
     "data": {
      "image/png": "[encoded data removed]",
      "text/plain": [
       "<Figure size 1152x1152 with 1 Axes>"
      ]
     },
     "metadata": {
      "needs_background": "light"
     },
     "output_type": "display_data"
    }
   ],
   "source": [
    "plt.figure(figsize=(16,16))\n",
    "sns.barplot(x=fully_vaccinated, y=fully_vaccinated.index)\n",
    "plt.xlabel(\"Fully Vaccinated\")\n",
    "plt.ylabel(\"Country\");\n",
    "plt.title('Which country has most number of fully vaccinated people?');"
   ]
  },
  {
   "cell_type": "markdown",
   "metadata": {
    "id": "JcLPLANxKFJ_"
   },
   "source": [
    "#### Q2: Daily COVID-19 vaccine doses administered per million people."
   ]
  },
  {
   "cell_type": "code",
   "execution_count": 48,
   "metadata": {
    "executionInfo": {
     "elapsed": 43,
     "status": "aborted",
     "timestamp": 1625423472929,
     "user": {
      "displayName": "Anirban Saha",
      "photoUrl": "https://lh3.googleusercontent.com/a-/AOh14Gjyb92afz3EKbQ81YgXIXJ2xTvOb0I8CeT4KMiDTw=s64",
      "userId": "02348100453944470349"
     },
     "user_tz": -360
    },
    "id": "MBCMZPURKFJ_"
   },
   "outputs": [],
   "source": [
    "daily_vaccinations_per_million = vaccinations_df.groupby(\"country\")[\"daily_vaccinations_per_million\"].max().sort_values(ascending= False).head(15)"
   ]
  },
  {
   "cell_type": "code",
   "execution_count": 49,
   "metadata": {
    "executionInfo": {
     "elapsed": 43,
     "status": "aborted",
     "timestamp": 1625423472929,
     "user": {
      "displayName": "Anirban Saha",
      "photoUrl": "https://lh3.googleusercontent.com/a-/AOh14Gjyb92afz3EKbQ81YgXIXJ2xTvOb0I8CeT4KMiDTw=s64",
      "userId": "02348100453944470349"
     },
     "user_tz": -360
    },
    "id": "3Ls6VTxhKFJ_"
   },
   "outputs": [
    {
     "data": {
      "text/html": [
       "<div>\n",
       "<style scoped>\n",
       "    .dataframe tbody tr th:only-of-type {\n",
       "        vertical-align: middle;\n",
       "    }\n",
       "\n",
       "    .dataframe tbody tr th {\n",
       "        vertical-align: top;\n",
       "    }\n",
       "\n",
       "    .dataframe thead th {\n",
       "        text-align: right;\n",
       "    }\n",
       "</style>\n",
       "<table border=\"1\" class=\"dataframe\">\n",
       "  <thead>\n",
       "    <tr style=\"text-align: right;\">\n",
       "      <th></th>\n",
       "      <th>country</th>\n",
       "      <th>daily_vaccinations_per_million</th>\n",
       "    </tr>\n",
       "  </thead>\n",
       "  <tbody>\n",
       "    <tr>\n",
       "      <th>0</th>\n",
       "      <td>Bhutan</td>\n",
       "      <td>118759.0</td>\n",
       "    </tr>\n",
       "    <tr>\n",
       "      <th>1</th>\n",
       "      <td>Falkland Islands</td>\n",
       "      <td>54264.0</td>\n",
       "    </tr>\n",
       "    <tr>\n",
       "      <th>2</th>\n",
       "      <td>Cook Islands</td>\n",
       "      <td>46231.0</td>\n",
       "    </tr>\n",
       "    <tr>\n",
       "      <th>3</th>\n",
       "      <td>Mongolia</td>\n",
       "      <td>38271.0</td>\n",
       "    </tr>\n",
       "    <tr>\n",
       "      <th>4</th>\n",
       "      <td>Gibraltar</td>\n",
       "      <td>31700.0</td>\n",
       "    </tr>\n",
       "    <tr>\n",
       "      <th>5</th>\n",
       "      <td>Wallis and Futuna</td>\n",
       "      <td>30500.0</td>\n",
       "    </tr>\n",
       "    <tr>\n",
       "      <th>6</th>\n",
       "      <td>Saint Helena</td>\n",
       "      <td>27178.0</td>\n",
       "    </tr>\n",
       "    <tr>\n",
       "      <th>7</th>\n",
       "      <td>Aruba</td>\n",
       "      <td>25092.0</td>\n",
       "    </tr>\n",
       "    <tr>\n",
       "      <th>8</th>\n",
       "      <td>Seychelles</td>\n",
       "      <td>24415.0</td>\n",
       "    </tr>\n",
       "    <tr>\n",
       "      <th>9</th>\n",
       "      <td>Andorra</td>\n",
       "      <td>22481.0</td>\n",
       "    </tr>\n",
       "    <tr>\n",
       "      <th>10</th>\n",
       "      <td>Iceland</td>\n",
       "      <td>22113.0</td>\n",
       "    </tr>\n",
       "    <tr>\n",
       "      <th>11</th>\n",
       "      <td>Anguilla</td>\n",
       "      <td>22064.0</td>\n",
       "    </tr>\n",
       "    <tr>\n",
       "      <th>12</th>\n",
       "      <td>Nauru</td>\n",
       "      <td>22060.0</td>\n",
       "    </tr>\n",
       "    <tr>\n",
       "      <th>13</th>\n",
       "      <td>Israel</td>\n",
       "      <td>21369.0</td>\n",
       "    </tr>\n",
       "    <tr>\n",
       "      <th>14</th>\n",
       "      <td>San Marino</td>\n",
       "      <td>21362.0</td>\n",
       "    </tr>\n",
       "  </tbody>\n",
       "</table>\n",
       "</div>"
      ],
      "text/plain": [
       "              country  daily_vaccinations_per_million\n",
       "0              Bhutan                        118759.0\n",
       "1    Falkland Islands                         54264.0\n",
       "2        Cook Islands                         46231.0\n",
       "3            Mongolia                         38271.0\n",
       "4           Gibraltar                         31700.0\n",
       "5   Wallis and Futuna                         30500.0\n",
       "6        Saint Helena                         27178.0\n",
       "7               Aruba                         25092.0\n",
       "8          Seychelles                         24415.0\n",
       "9             Andorra                         22481.0\n",
       "10            Iceland                         22113.0\n",
       "11           Anguilla                         22064.0\n",
       "12              Nauru                         22060.0\n",
       "13             Israel                         21369.0\n",
       "14         San Marino                         21362.0"
      ]
     },
     "execution_count": 49,
     "metadata": {},
     "output_type": "execute_result"
    }
   ],
   "source": [
    "daily_vaccinations_per_million.reset_index()"
   ]
  },
  {
   "cell_type": "code",
   "execution_count": 55,
   "metadata": {
    "executionInfo": {
     "elapsed": 44,
     "status": "aborted",
     "timestamp": 1625423472930,
     "user": {
      "displayName": "Anirban Saha",
      "photoUrl": "https://lh3.googleusercontent.com/a-/AOh14Gjyb92afz3EKbQ81YgXIXJ2xTvOb0I8CeT4KMiDTw=s64",
      "userId": "02348100453944470349"
     },
     "user_tz": -360
    },
    "id": "3X_TBQsbKFJ_"
   },
   "outputs": [
    {
     "data": {
      "image/png": "[encoded data removed]",
      "text/plain": [
       "<Figure size 864x576 with 1 Axes>"
      ]
     },
     "metadata": {
      "needs_background": "light"
     },
     "output_type": "display_data"
    }
   ],
   "source": [
    "plt.figure(figsize=(12,8))\n",
    "sns.barplot(x=daily_vaccinations_per_million, y=daily_vaccinations_per_million.index )\n",
    "plt.xlabel(\"daily vaccinations per million\")\n",
    "plt.ylabel(\"Country\")\n",
    "plt.title(\"Daily COVID-19 vaccine doses administered per million people\");"
   ]
  },
  {
   "cell_type": "markdown",
   "metadata": {
    "id": "By2rg5h9KFJ_"
   },
   "source": [
    "#### Q3: How many people daily vaccinated in Bangladesh?"
   ]
  },
  {
   "cell_type": "code",
   "execution_count": 57,
   "metadata": {
    "executionInfo": {
     "elapsed": 43,
     "status": "aborted",
     "timestamp": 1625423472930,
     "user": {
      "displayName": "Anirban Saha",
      "photoUrl": "https://lh3.googleusercontent.com/a-/AOh14Gjyb92afz3EKbQ81YgXIXJ2xTvOb0I8CeT4KMiDTw=s64",
      "userId": "02348100453944470349"
     },
     "user_tz": -360
    },
    "id": "qeUMISaFKFKA"
   },
   "outputs": [
    {
     "data": {
      "text/html": [
       "<div>\n",
       "<style scoped>\n",
       "    .dataframe tbody tr th:only-of-type {\n",
       "        vertical-align: middle;\n",
       "    }\n",
       "\n",
       "    .dataframe tbody tr th {\n",
       "        vertical-align: top;\n",
       "    }\n",
       "\n",
       "    .dataframe thead th {\n",
       "        text-align: right;\n",
       "    }\n",
       "</style>\n",
       "<table border=\"1\" class=\"dataframe\">\n",
       "  <thead>\n",
       "    <tr style=\"text-align: right;\">\n",
       "      <th></th>\n",
       "      <th>country</th>\n",
       "      <th>iso_code</th>\n",
       "      <th>date</th>\n",
       "      <th>total_vaccinations</th>\n",
       "      <th>people_vaccinated</th>\n",
       "      <th>people_fully_vaccinated</th>\n",
       "      <th>daily_vaccinations_raw</th>\n",
       "      <th>daily_vaccinations</th>\n",
       "      <th>total_vaccinations_per_hundred</th>\n",
       "      <th>people_vaccinated_per_hundred</th>\n",
       "      <th>people_fully_vaccinated_per_hundred</th>\n",
       "      <th>daily_vaccinations_per_million</th>\n",
       "      <th>vaccines</th>\n",
       "      <th>source_name</th>\n",
       "      <th>source_website</th>\n",
       "      <th>year</th>\n",
       "      <th>month</th>\n",
       "      <th>day</th>\n",
       "    </tr>\n",
       "  </thead>\n",
       "  <tbody>\n",
       "    <tr>\n",
       "      <th>2150</th>\n",
       "      <td>Bangladesh</td>\n",
       "      <td>BGD</td>\n",
       "      <td>2021-01-26</td>\n",
       "      <td>0.0</td>\n",
       "      <td>0.0</td>\n",
       "      <td>0.0</td>\n",
       "      <td>0.0</td>\n",
       "      <td>0.0</td>\n",
       "      <td>0.00</td>\n",
       "      <td>0.00</td>\n",
       "      <td>0.0</td>\n",
       "      <td>0.0</td>\n",
       "      <td>BBIBP-CorV, Oxford/AstraZeneca, Pfizer/BioNTech</td>\n",
       "      <td>Directorate General of Health Services</td>\n",
       "      <td>http://103.247.238.92/webportal/pages/covid19-...</td>\n",
       "      <td>2021</td>\n",
       "      <td>1</td>\n",
       "      <td>26</td>\n",
       "    </tr>\n",
       "    <tr>\n",
       "      <th>2151</th>\n",
       "      <td>Bangladesh</td>\n",
       "      <td>BGD</td>\n",
       "      <td>2021-01-27</td>\n",
       "      <td>26.0</td>\n",
       "      <td>26.0</td>\n",
       "      <td>0.0</td>\n",
       "      <td>26.0</td>\n",
       "      <td>26.0</td>\n",
       "      <td>0.00</td>\n",
       "      <td>0.00</td>\n",
       "      <td>0.0</td>\n",
       "      <td>0.0</td>\n",
       "      <td>BBIBP-CorV, Oxford/AstraZeneca, Pfizer/BioNTech</td>\n",
       "      <td>Directorate General of Health Services</td>\n",
       "      <td>http://103.247.238.92/webportal/pages/covid19-...</td>\n",
       "      <td>2021</td>\n",
       "      <td>1</td>\n",
       "      <td>27</td>\n",
       "    </tr>\n",
       "    <tr>\n",
       "      <th>2152</th>\n",
       "      <td>Bangladesh</td>\n",
       "      <td>BGD</td>\n",
       "      <td>2021-01-28</td>\n",
       "      <td>567.0</td>\n",
       "      <td>567.0</td>\n",
       "      <td>0.0</td>\n",
       "      <td>541.0</td>\n",
       "      <td>284.0</td>\n",
       "      <td>0.00</td>\n",
       "      <td>0.00</td>\n",
       "      <td>0.0</td>\n",
       "      <td>2.0</td>\n",
       "      <td>BBIBP-CorV, Oxford/AstraZeneca, Pfizer/BioNTech</td>\n",
       "      <td>Directorate General of Health Services</td>\n",
       "      <td>http://103.247.238.92/webportal/pages/covid19-...</td>\n",
       "      <td>2021</td>\n",
       "      <td>1</td>\n",
       "      <td>28</td>\n",
       "    </tr>\n",
       "    <tr>\n",
       "      <th>2153</th>\n",
       "      <td>Bangladesh</td>\n",
       "      <td>BGD</td>\n",
       "      <td>2021-01-29</td>\n",
       "      <td>0.0</td>\n",
       "      <td>0.0</td>\n",
       "      <td>0.0</td>\n",
       "      <td>0.0</td>\n",
       "      <td>1209.0</td>\n",
       "      <td>0.00</td>\n",
       "      <td>0.00</td>\n",
       "      <td>0.0</td>\n",
       "      <td>7.0</td>\n",
       "      <td>BBIBP-CorV, Oxford/AstraZeneca, Pfizer/BioNTech</td>\n",
       "      <td>Directorate General of Health Services</td>\n",
       "      <td>http://103.247.238.92/webportal/pages/covid19-...</td>\n",
       "      <td>2021</td>\n",
       "      <td>1</td>\n",
       "      <td>29</td>\n",
       "    </tr>\n",
       "    <tr>\n",
       "      <th>2154</th>\n",
       "      <td>Bangladesh</td>\n",
       "      <td>BGD</td>\n",
       "      <td>2021-01-30</td>\n",
       "      <td>0.0</td>\n",
       "      <td>0.0</td>\n",
       "      <td>0.0</td>\n",
       "      <td>0.0</td>\n",
       "      <td>1671.0</td>\n",
       "      <td>0.00</td>\n",
       "      <td>0.00</td>\n",
       "      <td>0.0</td>\n",
       "      <td>10.0</td>\n",
       "      <td>BBIBP-CorV, Oxford/AstraZeneca, Pfizer/BioNTech</td>\n",
       "      <td>Directorate General of Health Services</td>\n",
       "      <td>http://103.247.238.92/webportal/pages/covid19-...</td>\n",
       "      <td>2021</td>\n",
       "      <td>1</td>\n",
       "      <td>30</td>\n",
       "    </tr>\n",
       "    <tr>\n",
       "      <th>...</th>\n",
       "      <td>...</td>\n",
       "      <td>...</td>\n",
       "      <td>...</td>\n",
       "      <td>...</td>\n",
       "      <td>...</td>\n",
       "      <td>...</td>\n",
       "      <td>...</td>\n",
       "      <td>...</td>\n",
       "      <td>...</td>\n",
       "      <td>...</td>\n",
       "      <td>...</td>\n",
       "      <td>...</td>\n",
       "      <td>...</td>\n",
       "      <td>...</td>\n",
       "      <td>...</td>\n",
       "      <td>...</td>\n",
       "      <td>...</td>\n",
       "      <td>...</td>\n",
       "    </tr>\n",
       "    <tr>\n",
       "      <th>2304</th>\n",
       "      <td>Bangladesh</td>\n",
       "      <td>BGD</td>\n",
       "      <td>2021-06-29</td>\n",
       "      <td>10101143.0</td>\n",
       "      <td>5823245.0</td>\n",
       "      <td>4277898.0</td>\n",
       "      <td>1581.0</td>\n",
       "      <td>1562.0</td>\n",
       "      <td>6.13</td>\n",
       "      <td>3.54</td>\n",
       "      <td>2.6</td>\n",
       "      <td>9.0</td>\n",
       "      <td>BBIBP-CorV, Oxford/AstraZeneca, Pfizer/BioNTech</td>\n",
       "      <td>Directorate General of Health Services</td>\n",
       "      <td>http://103.247.238.92/webportal/pages/covid19-...</td>\n",
       "      <td>2021</td>\n",
       "      <td>6</td>\n",
       "      <td>29</td>\n",
       "    </tr>\n",
       "    <tr>\n",
       "      <th>2305</th>\n",
       "      <td>Bangladesh</td>\n",
       "      <td>BGD</td>\n",
       "      <td>2021-06-30</td>\n",
       "      <td>10103015.0</td>\n",
       "      <td>5823245.0</td>\n",
       "      <td>4279770.0</td>\n",
       "      <td>1872.0</td>\n",
       "      <td>1797.0</td>\n",
       "      <td>6.13</td>\n",
       "      <td>3.54</td>\n",
       "      <td>2.6</td>\n",
       "      <td>11.0</td>\n",
       "      <td>BBIBP-CorV, Oxford/AstraZeneca, Pfizer/BioNTech</td>\n",
       "      <td>Directorate General of Health Services</td>\n",
       "      <td>http://103.247.238.92/webportal/pages/covid19-...</td>\n",
       "      <td>2021</td>\n",
       "      <td>6</td>\n",
       "      <td>30</td>\n",
       "    </tr>\n",
       "    <tr>\n",
       "      <th>2306</th>\n",
       "      <td>Bangladesh</td>\n",
       "      <td>BGD</td>\n",
       "      <td>2021-07-01</td>\n",
       "      <td>0.0</td>\n",
       "      <td>0.0</td>\n",
       "      <td>0.0</td>\n",
       "      <td>0.0</td>\n",
       "      <td>1097.0</td>\n",
       "      <td>0.00</td>\n",
       "      <td>0.00</td>\n",
       "      <td>0.0</td>\n",
       "      <td>7.0</td>\n",
       "      <td>BBIBP-CorV, Oxford/AstraZeneca, Pfizer/BioNTech</td>\n",
       "      <td>Directorate General of Health Services</td>\n",
       "      <td>http://103.247.238.92/webportal/pages/covid19-...</td>\n",
       "      <td>2021</td>\n",
       "      <td>7</td>\n",
       "      <td>1</td>\n",
       "    </tr>\n",
       "    <tr>\n",
       "      <th>2307</th>\n",
       "      <td>Bangladesh</td>\n",
       "      <td>BGD</td>\n",
       "      <td>2021-07-02</td>\n",
       "      <td>0.0</td>\n",
       "      <td>0.0</td>\n",
       "      <td>0.0</td>\n",
       "      <td>0.0</td>\n",
       "      <td>983.0</td>\n",
       "      <td>0.00</td>\n",
       "      <td>0.00</td>\n",
       "      <td>0.0</td>\n",
       "      <td>6.0</td>\n",
       "      <td>BBIBP-CorV, Oxford/AstraZeneca, Pfizer/BioNTech</td>\n",
       "      <td>Directorate General of Health Services</td>\n",
       "      <td>http://103.247.238.92/webportal/pages/covid19-...</td>\n",
       "      <td>2021</td>\n",
       "      <td>7</td>\n",
       "      <td>2</td>\n",
       "    </tr>\n",
       "    <tr>\n",
       "      <th>2308</th>\n",
       "      <td>Bangladesh</td>\n",
       "      <td>BGD</td>\n",
       "      <td>2021-07-03</td>\n",
       "      <td>10103737.0</td>\n",
       "      <td>5823245.0</td>\n",
       "      <td>4280492.0</td>\n",
       "      <td>0.0</td>\n",
       "      <td>870.0</td>\n",
       "      <td>6.14</td>\n",
       "      <td>3.54</td>\n",
       "      <td>2.6</td>\n",
       "      <td>5.0</td>\n",
       "      <td>BBIBP-CorV, Oxford/AstraZeneca, Pfizer/BioNTech</td>\n",
       "      <td>Directorate General of Health Services</td>\n",
       "      <td>http://103.247.238.92/webportal/pages/covid19-...</td>\n",
       "      <td>2021</td>\n",
       "      <td>7</td>\n",
       "      <td>3</td>\n",
       "    </tr>\n",
       "  </tbody>\n",
       "</table>\n",
       "<p>159 rows × 18 columns</p>\n",
       "</div>"
      ],
      "text/plain": [
       "         country iso_code       date  total_vaccinations  people_vaccinated  \\\n",
       "2150  Bangladesh      BGD 2021-01-26                 0.0                0.0   \n",
       "2151  Bangladesh      BGD 2021-01-27                26.0               26.0   \n",
       "2152  Bangladesh      BGD 2021-01-28               567.0              567.0   \n",
       "2153  Bangladesh      BGD 2021-01-29                 0.0                0.0   \n",
       "2154  Bangladesh      BGD 2021-01-30                 0.0                0.0   \n",
       "...          ...      ...        ...                 ...                ...   \n",
       "2304  Bangladesh      BGD 2021-06-29          10101143.0          5823245.0   \n",
       "2305  Bangladesh      BGD 2021-06-30          10103015.0          5823245.0   \n",
       "2306  Bangladesh      BGD 2021-07-01                 0.0                0.0   \n",
       "2307  Bangladesh      BGD 2021-07-02                 0.0                0.0   \n",
       "2308  Bangladesh      BGD 2021-07-03          10103737.0          5823245.0   \n",
       "\n",
       "      people_fully_vaccinated  daily_vaccinations_raw  daily_vaccinations  \\\n",
       "2150                      0.0                     0.0                 0.0   \n",
       "2151                      0.0                    26.0                26.0   \n",
       "2152                      0.0                   541.0               284.0   \n",
       "2153                      0.0                     0.0              1209.0   \n",
       "2154                      0.0                     0.0              1671.0   \n",
       "...                       ...                     ...                 ...   \n",
       "2304                4277898.0                  1581.0              1562.0   \n",
       "2305                4279770.0                  1872.0              1797.0   \n",
       "2306                      0.0                     0.0              1097.0   \n",
       "2307                      0.0                     0.0               983.0   \n",
       "2308                4280492.0                     0.0               870.0   \n",
       "\n",
       "      total_vaccinations_per_hundred  people_vaccinated_per_hundred  \\\n",
       "2150                            0.00                           0.00   \n",
       "2151                            0.00                           0.00   \n",
       "2152                            0.00                           0.00   \n",
       "2153                            0.00                           0.00   \n",
       "2154                            0.00                           0.00   \n",
       "...                              ...                            ...   \n",
       "2304                            6.13                           3.54   \n",
       "2305                            6.13                           3.54   \n",
       "2306                            0.00                           0.00   \n",
       "2307                            0.00                           0.00   \n",
       "2308                            6.14                           3.54   \n",
       "\n",
       "      people_fully_vaccinated_per_hundred  daily_vaccinations_per_million  \\\n",
       "2150                                  0.0                             0.0   \n",
       "2151                                  0.0                             0.0   \n",
       "2152                                  0.0                             2.0   \n",
       "2153                                  0.0                             7.0   \n",
       "2154                                  0.0                            10.0   \n",
       "...                                   ...                             ...   \n",
       "2304                                  2.6                             9.0   \n",
       "2305                                  2.6                            11.0   \n",
       "2306                                  0.0                             7.0   \n",
       "2307                                  0.0                             6.0   \n",
       "2308                                  2.6                             5.0   \n",
       "\n",
       "                                             vaccines  \\\n",
       "2150  BBIBP-CorV, Oxford/AstraZeneca, Pfizer/BioNTech   \n",
       "2151  BBIBP-CorV, Oxford/AstraZeneca, Pfizer/BioNTech   \n",
       "2152  BBIBP-CorV, Oxford/AstraZeneca, Pfizer/BioNTech   \n",
       "2153  BBIBP-CorV, Oxford/AstraZeneca, Pfizer/BioNTech   \n",
       "2154  BBIBP-CorV, Oxford/AstraZeneca, Pfizer/BioNTech   \n",
       "...                                               ...   \n",
       "2304  BBIBP-CorV, Oxford/AstraZeneca, Pfizer/BioNTech   \n",
       "2305  BBIBP-CorV, Oxford/AstraZeneca, Pfizer/BioNTech   \n",
       "2306  BBIBP-CorV, Oxford/AstraZeneca, Pfizer/BioNTech   \n",
       "2307  BBIBP-CorV, Oxford/AstraZeneca, Pfizer/BioNTech   \n",
       "2308  BBIBP-CorV, Oxford/AstraZeneca, Pfizer/BioNTech   \n",
       "\n",
       "                                 source_name  \\\n",
       "2150  Directorate General of Health Services   \n",
       "2151  Directorate General of Health Services   \n",
       "2152  Directorate General of Health Services   \n",
       "2153  Directorate General of Health Services   \n",
       "2154  Directorate General of Health Services   \n",
       "...                                      ...   \n",
       "2304  Directorate General of Health Services   \n",
       "2305  Directorate General of Health Services   \n",
       "2306  Directorate General of Health Services   \n",
       "2307  Directorate General of Health Services   \n",
       "2308  Directorate General of Health Services   \n",
       "\n",
       "                                         source_website  year  month  day  \n",
       "2150  http://103.247.238.92/webportal/pages/covid19-...  2021      1   26  \n",
       "2151  http://103.247.238.92/webportal/pages/covid19-...  2021      1   27  \n",
       "2152  http://103.247.238.92/webportal/pages/covid19-...  2021      1   28  \n",
       "2153  http://103.247.238.92/webportal/pages/covid19-...  2021      1   29  \n",
       "2154  http://103.247.238.92/webportal/pages/covid19-...  2021      1   30  \n",
       "...                                                 ...   ...    ...  ...  \n",
       "2304  http://103.247.238.92/webportal/pages/covid19-...  2021      6   29  \n",
       "2305  http://103.247.238.92/webportal/pages/covid19-...  2021      6   30  \n",
       "2306  http://103.247.238.92/webportal/pages/covid19-...  2021      7    1  \n",
       "2307  http://103.247.238.92/webportal/pages/covid19-...  2021      7    2  \n",
       "2308  http://103.247.238.92/webportal/pages/covid19-...  2021      7    3  \n",
       "\n",
       "[159 rows x 18 columns]"
      ]
     },
     "execution_count": 57,
     "metadata": {},
     "output_type": "execute_result"
    }
   ],
   "source": [
    "bangladesh_df = vaccinations_df[vaccinations_df['country'] == 'Bangladesh']\n",
    "bangladesh_df"
   ]
  },
  {
   "cell_type": "code",
   "execution_count": 60,
   "metadata": {
    "executionInfo": {
     "elapsed": 43,
     "status": "aborted",
     "timestamp": 1625423472930,
     "user": {
      "displayName": "Anirban Saha",
      "photoUrl": "https://lh3.googleusercontent.com/a-/AOh14Gjyb92afz3EKbQ81YgXIXJ2xTvOb0I8CeT4KMiDTw=s64",
      "userId": "02348100453944470349"
     },
     "user_tz": -360
    },
    "id": "xmsr-Q6ZKFKA"
   },
   "outputs": [
    {
     "name": "stdout",
     "output_type": "stream",
     "text": [
      "<class 'pandas.core.frame.DataFrame'>\n",
      "Int64Index: 159 entries, 2150 to 2308\n",
      "Data columns (total 18 columns):\n",
      " #   Column                               Non-Null Count  Dtype         \n",
      "---  ------                               --------------  -----         \n",
      " 0   country                              159 non-null    object        \n",
      " 1   iso_code                             159 non-null    object        \n",
      " 2   date                                 159 non-null    datetime64[ns]\n",
      " 3   total_vaccinations                   159 non-null    float64       \n",
      " 4   people_vaccinated                    159 non-null    float64       \n",
      " 5   people_fully_vaccinated              159 non-null    float64       \n",
      " 6   daily_vaccinations_raw               159 non-null    float64       \n",
      " 7   daily_vaccinations                   159 non-null    float64       \n",
      " 8   total_vaccinations_per_hundred       159 non-null    float64       \n",
      " 9   people_vaccinated_per_hundred        159 non-null    float64       \n",
      " 10  people_fully_vaccinated_per_hundred  159 non-null    float64       \n",
      " 11  daily_vaccinations_per_million       159 non-null    float64       \n",
      " 12  vaccines                             159 non-null    object        \n",
      " 13  source_name                          159 non-null    object        \n",
      " 14  source_website                       159 non-null    object        \n",
      " 15  year                                 159 non-null    int64         \n",
      " 16  month                                159 non-null    int64         \n",
      " 17  day                                  159 non-null    int64         \n",
      "dtypes: datetime64[ns](1), float64(9), int64(3), object(5)\n",
      "memory usage: 23.6+ KB\n"
     ]
    }
   ],
   "source": [
    "bangladesh_df.info()"
   ]
  },
  {
   "cell_type": "code",
   "execution_count": 89,
   "metadata": {},
   "outputs": [
    {
     "data": {
      "text/plain": [
       "4122749.0"
      ]
     },
     "execution_count": 89,
     "metadata": {},
     "output_type": "execute_result"
    }
   ],
   "source": [
    "bangladesh_df.daily_vaccinations_raw.sum()"
   ]
  },
  {
   "cell_type": "code",
   "execution_count": 93,
   "metadata": {
    "executionInfo": {
     "elapsed": 44,
     "status": "aborted",
     "timestamp": 1625423472931,
     "user": {
      "displayName": "Anirban Saha",
      "photoUrl": "https://lh3.googleusercontent.com/a-/AOh14Gjyb92afz3EKbQ81YgXIXJ2xTvOb0I8CeT4KMiDTw=s64",
      "userId": "02348100453944470349"
     },
     "user_tz": -360
    },
    "id": "FNalt4eEKFKA"
   },
   "outputs": [
    {
     "data": {
      "image/png": "[encoded data removed]",
      "text/plain": [
       "<Figure size 1152x1152 with 1 Axes>"
      ]
     },
     "metadata": {
      "needs_background": "light"
     },
     "output_type": "display_data"
    }
   ],
   "source": [
    "plt.figure(figsize=(16,16))\n",
    "sns.lineplot(x=bangladesh_df.date, y=bangladesh_df.daily_vaccinations_raw)\n",
    "plt.xlabel(\"Date\")\n",
    "plt.ylabel(\"Daily_Vaccination\")\n",
    "plt.title('How many people daily vaccinated in Bangladesh?');"
   ]
  },
  {
   "cell_type": "markdown",
   "metadata": {
    "id": "TKGTtPJMKFKA"
   },
   "source": [
    "#### Q4: How many people total fully vaccinated in Bangladesh?"
   ]
  },
  {
   "cell_type": "code",
   "execution_count": 120,
   "metadata": {
    "executionInfo": {
     "elapsed": 44,
     "status": "aborted",
     "timestamp": 1625423472931,
     "user": {
      "displayName": "Anirban Saha",
      "photoUrl": "https://lh3.googleusercontent.com/a-/AOh14Gjyb92afz3EKbQ81YgXIXJ2xTvOb0I8CeT4KMiDTw=s64",
      "userId": "02348100453944470349"
     },
     "user_tz": -360
    },
    "id": "cxl4pfNOKFKA"
   },
   "outputs": [],
   "source": [
    "total_vaccinated_bd = bangladesh_df.people_fully_vaccinated.max()/1000000"
   ]
  },
  {
   "cell_type": "code",
   "execution_count": 128,
   "metadata": {
    "executionInfo": {
     "elapsed": 44,
     "status": "aborted",
     "timestamp": 1625423472932,
     "user": {
      "displayName": "Anirban Saha",
      "photoUrl": "https://lh3.googleusercontent.com/a-/AOh14Gjyb92afz3EKbQ81YgXIXJ2xTvOb0I8CeT4KMiDTw=s64",
      "userId": "02348100453944470349"
     },
     "user_tz": -360
    },
    "id": "-Jadg7RTKFKA"
   },
   "outputs": [
    {
     "name": "stdout",
     "output_type": "stream",
     "text": [
      "Total fully vaccinated people in Bangladesh: 4.28M\n"
     ]
    }
   ],
   "source": [
    "print(\"Total fully vaccinated people in Bangladesh: {0:.2f}M\".format(total_vaccinated_bd))"
   ]
  },
  {
   "cell_type": "markdown",
   "metadata": {
    "id": "xa5X2ncMKFKD"
   },
   "source": [
    "#### Q5: What is the country that vaccinated completely most of the population?"
   ]
  },
  {
   "cell_type": "code",
   "execution_count": 139,
   "metadata": {
    "executionInfo": {
     "elapsed": 44,
     "status": "aborted",
     "timestamp": 1625423472932,
     "user": {
      "displayName": "Anirban Saha",
      "photoUrl": "https://lh3.googleusercontent.com/a-/AOh14Gjyb92afz3EKbQ81YgXIXJ2xTvOb0I8CeT4KMiDTw=s64",
      "userId": "02348100453944470349"
     },
     "user_tz": -360
    },
    "id": "oxr99NbdKFKD"
   },
   "outputs": [],
   "source": [
    "population_country=vaccinations_df.groupby('country')['total_vaccinations_per_hundred'].max().sort_values(ascending=False).head(15)"
   ]
  },
  {
   "cell_type": "code",
   "execution_count": 140,
   "metadata": {
    "executionInfo": {
     "elapsed": 45,
     "status": "aborted",
     "timestamp": 1625423472933,
     "user": {
      "displayName": "Anirban Saha",
      "photoUrl": "https://lh3.googleusercontent.com/a-/AOh14Gjyb92afz3EKbQ81YgXIXJ2xTvOb0I8CeT4KMiDTw=s64",
      "userId": "02348100453944470349"
     },
     "user_tz": -360
    },
    "id": "Sp5oRWtnKFKD"
   },
   "outputs": [
    {
     "data": {
      "text/html": [
       "<div>\n",
       "<style scoped>\n",
       "    .dataframe tbody tr th:only-of-type {\n",
       "        vertical-align: middle;\n",
       "    }\n",
       "\n",
       "    .dataframe tbody tr th {\n",
       "        vertical-align: top;\n",
       "    }\n",
       "\n",
       "    .dataframe thead th {\n",
       "        text-align: right;\n",
       "    }\n",
       "</style>\n",
       "<table border=\"1\" class=\"dataframe\">\n",
       "  <thead>\n",
       "    <tr style=\"text-align: right;\">\n",
       "      <th></th>\n",
       "      <th>country</th>\n",
       "      <th>total_vaccinations_per_hundred</th>\n",
       "    </tr>\n",
       "  </thead>\n",
       "  <tbody>\n",
       "    <tr>\n",
       "      <th>0</th>\n",
       "      <td>Gibraltar</td>\n",
       "      <td>231.78</td>\n",
       "    </tr>\n",
       "    <tr>\n",
       "      <th>1</th>\n",
       "      <td>United Arab Emirates</td>\n",
       "      <td>156.76</td>\n",
       "    </tr>\n",
       "    <tr>\n",
       "      <th>2</th>\n",
       "      <td>Malta</td>\n",
       "      <td>153.90</td>\n",
       "    </tr>\n",
       "    <tr>\n",
       "      <th>3</th>\n",
       "      <td>Cayman Islands</td>\n",
       "      <td>142.65</td>\n",
       "    </tr>\n",
       "    <tr>\n",
       "      <th>4</th>\n",
       "      <td>Seychelles</td>\n",
       "      <td>140.92</td>\n",
       "    </tr>\n",
       "    <tr>\n",
       "      <th>5</th>\n",
       "      <td>San Marino</td>\n",
       "      <td>131.58</td>\n",
       "    </tr>\n",
       "    <tr>\n",
       "      <th>6</th>\n",
       "      <td>Saint Helena</td>\n",
       "      <td>130.00</td>\n",
       "    </tr>\n",
       "    <tr>\n",
       "      <th>7</th>\n",
       "      <td>Bermuda</td>\n",
       "      <td>129.63</td>\n",
       "    </tr>\n",
       "    <tr>\n",
       "      <th>8</th>\n",
       "      <td>Isle of Man</td>\n",
       "      <td>128.22</td>\n",
       "    </tr>\n",
       "    <tr>\n",
       "      <th>9</th>\n",
       "      <td>Iceland</td>\n",
       "      <td>127.58</td>\n",
       "    </tr>\n",
       "    <tr>\n",
       "      <th>10</th>\n",
       "      <td>Falkland Islands</td>\n",
       "      <td>126.53</td>\n",
       "    </tr>\n",
       "    <tr>\n",
       "      <th>11</th>\n",
       "      <td>Bahrain</td>\n",
       "      <td>125.75</td>\n",
       "    </tr>\n",
       "    <tr>\n",
       "      <th>12</th>\n",
       "      <td>Wales</td>\n",
       "      <td>125.50</td>\n",
       "    </tr>\n",
       "    <tr>\n",
       "      <th>13</th>\n",
       "      <td>Israel</td>\n",
       "      <td>124.80</td>\n",
       "    </tr>\n",
       "    <tr>\n",
       "      <th>14</th>\n",
       "      <td>Guernsey</td>\n",
       "      <td>122.38</td>\n",
       "    </tr>\n",
       "  </tbody>\n",
       "</table>\n",
       "</div>"
      ],
      "text/plain": [
       "                 country  total_vaccinations_per_hundred\n",
       "0              Gibraltar                          231.78\n",
       "1   United Arab Emirates                          156.76\n",
       "2                  Malta                          153.90\n",
       "3         Cayman Islands                          142.65\n",
       "4             Seychelles                          140.92\n",
       "5             San Marino                          131.58\n",
       "6           Saint Helena                          130.00\n",
       "7                Bermuda                          129.63\n",
       "8            Isle of Man                          128.22\n",
       "9                Iceland                          127.58\n",
       "10      Falkland Islands                          126.53\n",
       "11               Bahrain                          125.75\n",
       "12                 Wales                          125.50\n",
       "13                Israel                          124.80\n",
       "14              Guernsey                          122.38"
      ]
     },
     "execution_count": 140,
     "metadata": {},
     "output_type": "execute_result"
    }
   ],
   "source": [
    "population_country.reset_index()"
   ]
  },
  {
   "cell_type": "code",
   "execution_count": 147,
   "metadata": {
    "executionInfo": {
     "elapsed": 45,
     "status": "aborted",
     "timestamp": 1625423472933,
     "user": {
      "displayName": "Anirban Saha",
      "photoUrl": "https://lh3.googleusercontent.com/a-/AOh14Gjyb92afz3EKbQ81YgXIXJ2xTvOb0I8CeT4KMiDTw=s64",
      "userId": "02348100453944470349"
     },
     "user_tz": -360
    },
    "id": "4QdJeIOVKFKD"
   },
   "outputs": [
    {
     "data": {
      "image/png": "[encoded data removed]",
      "text/plain": [
       "<Figure size 1080x576 with 1 Axes>"
      ]
     },
     "metadata": {
      "needs_background": "light"
     },
     "output_type": "display_data"
    }
   ],
   "source": [
    "plt.figure(figsize= (15, 8))\n",
    "ax = sns.barplot(x=population_country, y=population_country.index)\n",
    "plt.title('Total Vaccinations / Population')\n",
    "plt.xlabel('Total Vaccinations')\n",
    "plt.ylabel('Country')\n",
    "\n",
    "for patch in ax.patches:\n",
    "    width = patch.get_width()\n",
    "    height = patch.get_height()\n",
    "    x = patch.get_x()\n",
    "    y = patch.get_y()\n",
    "    \n",
    "    plt.text(width + x, height + y, '{:.1f} %'.format(width))"
   ]
  },
  {
   "cell_type": "markdown",
   "metadata": {
    "id": "sJjlO19UKFKE"
   },
   "source": [
    "Let us save and upload our work to Jovian before continuing."
   ]
  },
  {
   "cell_type": "code",
   "execution_count": null,
   "metadata": {
    "executionInfo": {
     "elapsed": 45,
     "status": "aborted",
     "timestamp": 1625423472933,
     "user": {
      "displayName": "Anirban Saha",
      "photoUrl": "https://lh3.googleusercontent.com/a-/AOh14Gjyb92afz3EKbQ81YgXIXJ2xTvOb0I8CeT4KMiDTw=s64",
      "userId": "02348100453944470349"
     },
     "user_tz": -360
    },
    "id": "OAFUszhEKFKE"
   },
   "outputs": [],
   "source": [
    "import jovian"
   ]
  },
  {
   "cell_type": "code",
   "execution_count": 129,
   "metadata": {
    "executionInfo": {
     "elapsed": 46,
     "status": "aborted",
     "timestamp": 1625423472934,
     "user": {
      "displayName": "Anirban Saha",
      "photoUrl": "https://lh3.googleusercontent.com/a-/AOh14Gjyb92afz3EKbQ81YgXIXJ2xTvOb0I8CeT4KMiDTw=s64",
      "userId": "02348100453944470349"
     },
     "user_tz": -360
    },
    "id": "Ri5WxbZBKFKE"
   },
   "outputs": [
    {
     "data": {
      "application/javascript": [
       "window.require && require([\"base/js/namespace\"],function(Jupyter){Jupyter.notebook.save_checkpoint()})"
      ],
      "text/plain": [
       "<IPython.core.display.Javascript object>"
      ]
     },
     "metadata": {},
     "output_type": "display_data"
    },
    {
     "name": "stdout",
     "output_type": "stream",
     "text": [
      "[jovian] Updating notebook \"anirbansaha/covid-19-vaccinations-data-analysis\" on https://jovian.ai\u001b[0m\n",
      "[jovian] Committed successfully! https://jovian.ai/anirbansaha/covid-19-vaccinations-data-analysis\u001b[0m\n"
     ]
    },
    {
     "data": {
      "text/plain": [
       "'https://jovian.ai/anirbansaha/covid-19-vaccinations-data-analysis'"
      ]
     },
     "execution_count": 129,
     "metadata": {},
     "output_type": "execute_result"
    }
   ],
   "source": [
    "jovian.commit()"
   ]
  },
  {
   "cell_type": "markdown",
   "metadata": {
    "id": "A1yzoN5KKFKE"
   },
   "source": [
    "## Inferences and Conclusion\n",
    "\n",
    "Here is the analysis of the covid-19 vaccinations data."
   ]
  },
  {
   "cell_type": "code",
   "execution_count": null,
   "metadata": {
    "executionInfo": {
     "elapsed": 45,
     "status": "aborted",
     "timestamp": 1625423472934,
     "user": {
      "displayName": "Anirban Saha",
      "photoUrl": "https://lh3.googleusercontent.com/a-/AOh14Gjyb92afz3EKbQ81YgXIXJ2xTvOb0I8CeT4KMiDTw=s64",
      "userId": "02348100453944470349"
     },
     "user_tz": -360
    },
    "id": "SWDoh9i2KFKE"
   },
   "outputs": [],
   "source": [
    "import jovian"
   ]
  },
  {
   "cell_type": "code",
   "execution_count": null,
   "metadata": {
    "executionInfo": {
     "elapsed": 46,
     "status": "aborted",
     "timestamp": 1625423472935,
     "user": {
      "displayName": "Anirban Saha",
      "photoUrl": "https://lh3.googleusercontent.com/a-/AOh14Gjyb92afz3EKbQ81YgXIXJ2xTvOb0I8CeT4KMiDTw=s64",
      "userId": "02348100453944470349"
     },
     "user_tz": -360
    },
    "id": "GqcSJUSeKFKE"
   },
   "outputs": [
    {
     "data": {
      "application/javascript": [
       "window.require && require([\"base/js/namespace\"],function(Jupyter){Jupyter.notebook.save_checkpoint()})"
      ],
      "text/plain": [
       "<IPython.core.display.Javascript object>"
      ]
     },
     "metadata": {},
     "output_type": "display_data"
    }
   ],
   "source": [
    "jovian.commit()"
   ]
  },
  {
   "cell_type": "markdown",
   "metadata": {
    "id": "HiaPUBKpKFKF"
   },
   "source": [
    "## References and Future Work\n",
    "\n",
    "**TODO** - Write some explanation here: ideas for future projects using this dataset, and links to resources you found useful."
   ]
  },
  {
   "cell_type": "code",
   "execution_count": null,
   "metadata": {
    "executionInfo": {
     "elapsed": 46,
     "status": "aborted",
     "timestamp": 1625423472935,
     "user": {
      "displayName": "Anirban Saha",
      "photoUrl": "https://lh3.googleusercontent.com/a-/AOh14Gjyb92afz3EKbQ81YgXIXJ2xTvOb0I8CeT4KMiDTw=s64",
      "userId": "02348100453944470349"
     },
     "user_tz": -360
    },
    "id": "EnvVNNB3KFKF"
   },
   "outputs": [],
   "source": [
    "import jovian"
   ]
  },
  {
   "cell_type": "code",
   "execution_count": null,
   "metadata": {
    "executionInfo": {
     "elapsed": 49,
     "status": "aborted",
     "timestamp": 1625423472938,
     "user": {
      "displayName": "Anirban Saha",
      "photoUrl": "https://lh3.googleusercontent.com/a-/AOh14Gjyb92afz3EKbQ81YgXIXJ2xTvOb0I8CeT4KMiDTw=s64",
      "userId": "02348100453944470349"
     },
     "user_tz": -360
    },
    "id": "RfEgfxHRKFKF",
    "scrolled": true
   },
   "outputs": [
    {
     "data": {
      "application/javascript": [
       "window.require && require([\"base/js/namespace\"],function(Jupyter){Jupyter.notebook.save_checkpoint()})"
      ],
      "text/plain": [
       "<IPython.core.display.Javascript object>"
      ]
     },
     "metadata": {},
     "output_type": "display_data"
    }
   ],
   "source": [
    "jovian.commit()"
   ]
  },
  {
   "cell_type": "code",
   "execution_count": null,
   "metadata": {
    "executionInfo": {
     "elapsed": 49,
     "status": "aborted",
     "timestamp": 1625423472938,
     "user": {
      "displayName": "Anirban Saha",
      "photoUrl": "https://lh3.googleusercontent.com/a-/AOh14Gjyb92afz3EKbQ81YgXIXJ2xTvOb0I8CeT4KMiDTw=s64",
      "userId": "02348100453944470349"
     },
     "user_tz": -360
    },
    "id": "5HX7AfYAKFKF"
   },
   "outputs": [],
   "source": []
  }
 ],
 "metadata": {
  "colab": {
   "name": "covid-19-vaccinations-data-analysis.ipynb",
   "provenance": []
  },
  "language_info": {
   "codemirror_mode": {
    "name": "ipython",
    "version": 3
   },
   "file_extension": ".py",
   "mimetype": "text/x-python",
   "name": "python",
   "nbconvert_exporter": "python",
   "pygments_lexer": "ipython3",
   "version": "3.9.5"
  }
 },
 "nbformat": 4,
 "nbformat_minor": 1
}